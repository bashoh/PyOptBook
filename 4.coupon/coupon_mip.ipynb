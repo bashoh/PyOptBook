{
 "cells": [
  {
   "cell_type": "markdown",
   "metadata": {},
   "source": [
    "### Section 4: 割引クーポンキャンペーンの効果最大化"
   ]
  },
  {
   "cell_type": "markdown",
   "metadata": {},
   "source": [
    "ある雑貨店では、会員に対して定期的にDMを送って来客数の増加を狙っている。さらに客の来店率を高めるため、DMに店で使えるクーポンを付与することにした。限りある予算の中で、どの客(層)にどのくらいクーポンを配れば最も効果的なマーケティング施策を行えるだろうか。"
   ]
  },
  {
   "cell_type": "markdown",
   "metadata": {},
   "source": [
    "### データの確認"
   ]
  },
  {
   "cell_type": "markdown",
   "metadata": {},
   "source": [
    "（1）　会員データ（customers.csv）の確認"
   ]
  },
  {
   "cell_type": "code",
   "execution_count": 1,
   "metadata": {},
   "outputs": [
    {
     "data": {
      "text/html": [
       "<div>\n",
       "<style scoped>\n",
       "    .dataframe tbody tr th:only-of-type {\n",
       "        vertical-align: middle;\n",
       "    }\n",
       "\n",
       "    .dataframe tbody tr th {\n",
       "        vertical-align: top;\n",
       "    }\n",
       "\n",
       "    .dataframe thead th {\n",
       "        text-align: right;\n",
       "    }\n",
       "</style>\n",
       "<table border=\"1\" class=\"dataframe\">\n",
       "  <thead>\n",
       "    <tr style=\"text-align: right;\">\n",
       "      <th></th>\n",
       "      <th>customer_id</th>\n",
       "      <th>age_cat</th>\n",
       "      <th>freq_cat</th>\n",
       "    </tr>\n",
       "  </thead>\n",
       "  <tbody>\n",
       "    <tr>\n",
       "      <th>0</th>\n",
       "      <td>1</td>\n",
       "      <td>age20~34</td>\n",
       "      <td>freq2</td>\n",
       "    </tr>\n",
       "    <tr>\n",
       "      <th>1</th>\n",
       "      <td>2</td>\n",
       "      <td>age35~49</td>\n",
       "      <td>freq0</td>\n",
       "    </tr>\n",
       "    <tr>\n",
       "      <th>2</th>\n",
       "      <td>3</td>\n",
       "      <td>age35~49</td>\n",
       "      <td>freq0</td>\n",
       "    </tr>\n",
       "    <tr>\n",
       "      <th>3</th>\n",
       "      <td>4</td>\n",
       "      <td>age~19</td>\n",
       "      <td>freq0</td>\n",
       "    </tr>\n",
       "    <tr>\n",
       "      <th>4</th>\n",
       "      <td>5</td>\n",
       "      <td>age35~49</td>\n",
       "      <td>freq0</td>\n",
       "    </tr>\n",
       "    <tr>\n",
       "      <th>...</th>\n",
       "      <td>...</td>\n",
       "      <td>...</td>\n",
       "      <td>...</td>\n",
       "    </tr>\n",
       "    <tr>\n",
       "      <th>4995</th>\n",
       "      <td>4996</td>\n",
       "      <td>age50~</td>\n",
       "      <td>freq0</td>\n",
       "    </tr>\n",
       "    <tr>\n",
       "      <th>4996</th>\n",
       "      <td>4997</td>\n",
       "      <td>age50~</td>\n",
       "      <td>freq0</td>\n",
       "    </tr>\n",
       "    <tr>\n",
       "      <th>4997</th>\n",
       "      <td>4998</td>\n",
       "      <td>age35~49</td>\n",
       "      <td>freq1</td>\n",
       "    </tr>\n",
       "    <tr>\n",
       "      <th>4998</th>\n",
       "      <td>4999</td>\n",
       "      <td>age50~</td>\n",
       "      <td>freq1</td>\n",
       "    </tr>\n",
       "    <tr>\n",
       "      <th>4999</th>\n",
       "      <td>5000</td>\n",
       "      <td>age20~34</td>\n",
       "      <td>freq0</td>\n",
       "    </tr>\n",
       "  </tbody>\n",
       "</table>\n",
       "<p>5000 rows × 3 columns</p>\n",
       "</div>"
      ],
      "text/plain": [
       "      customer_id   age_cat freq_cat\n",
       "0               1  age20~34    freq2\n",
       "1               2  age35~49    freq0\n",
       "2               3  age35~49    freq0\n",
       "3               4    age~19    freq0\n",
       "4               5  age35~49    freq0\n",
       "...           ...       ...      ...\n",
       "4995         4996    age50~    freq0\n",
       "4996         4997    age50~    freq0\n",
       "4997         4998  age35~49    freq1\n",
       "4998         4999    age50~    freq1\n",
       "4999         5000  age20~34    freq0\n",
       "\n",
       "[5000 rows x 3 columns]"
      ]
     },
     "execution_count": 1,
     "metadata": {},
     "output_type": "execute_result"
    }
   ],
   "source": [
    "import pandas as pd\n",
    "cust_df = pd.read_csv('customers.csv')\n",
    "cust_df"
   ]
  },
  {
   "cell_type": "code",
   "execution_count": 2,
   "metadata": {},
   "outputs": [],
   "source": [
    "ages = cust_df['age_cat'].unique()"
   ]
  },
  {
   "cell_type": "code",
   "execution_count": 3,
   "metadata": {},
   "outputs": [],
   "source": [
    "freqs = cust_df['freq_cat'].unique()"
   ]
  },
  {
   "cell_type": "code",
   "execution_count": 4,
   "metadata": {},
   "outputs": [
    {
     "data": {
      "text/plain": [
       "<AxesSubplot:>"
      ]
     },
     "execution_count": 4,
     "metadata": {},
     "output_type": "execute_result"
    }
   ],
   "source": [
    "cust_df['age_cat'].hist()"
   ]
  },
  {
   "cell_type": "code",
   "execution_count": 5,
   "metadata": {},
   "outputs": [
    {
     "data": {
      "text/plain": [
       "<AxesSubplot:>"
      ]
     },
     "execution_count": 5,
     "metadata": {},
     "output_type": "execute_result"
    }
   ],
   "source": [
    "cust_df['freq_cat'].hist()"
   ]
  },
  {
   "cell_type": "code",
   "execution_count": 6,
   "metadata": {},
   "outputs": [
    {
     "data": {
      "text/html": [
       "<div>\n",
       "<style scoped>\n",
       "    .dataframe tbody tr th:only-of-type {\n",
       "        vertical-align: middle;\n",
       "    }\n",
       "\n",
       "    .dataframe tbody tr th {\n",
       "        vertical-align: top;\n",
       "    }\n",
       "\n",
       "    .dataframe thead th {\n",
       "        text-align: right;\n",
       "    }\n",
       "</style>\n",
       "<table border=\"1\" class=\"dataframe\">\n",
       "  <thead>\n",
       "    <tr style=\"text-align: right;\">\n",
       "      <th>freq_cat</th>\n",
       "      <th>freq0</th>\n",
       "      <th>freq1</th>\n",
       "      <th>freq2</th>\n",
       "      <th>freq3~</th>\n",
       "    </tr>\n",
       "    <tr>\n",
       "      <th>age_cat</th>\n",
       "      <th></th>\n",
       "      <th></th>\n",
       "      <th></th>\n",
       "      <th></th>\n",
       "    </tr>\n",
       "  </thead>\n",
       "  <tbody>\n",
       "    <tr>\n",
       "      <th>age~19</th>\n",
       "      <td>200</td>\n",
       "      <td>150</td>\n",
       "      <td>50</td>\n",
       "      <td>100</td>\n",
       "    </tr>\n",
       "    <tr>\n",
       "      <th>age20~34</th>\n",
       "      <td>600</td>\n",
       "      <td>450</td>\n",
       "      <td>150</td>\n",
       "      <td>300</td>\n",
       "    </tr>\n",
       "    <tr>\n",
       "      <th>age35~49</th>\n",
       "      <td>800</td>\n",
       "      <td>600</td>\n",
       "      <td>200</td>\n",
       "      <td>400</td>\n",
       "    </tr>\n",
       "    <tr>\n",
       "      <th>age50~</th>\n",
       "      <td>400</td>\n",
       "      <td>300</td>\n",
       "      <td>100</td>\n",
       "      <td>200</td>\n",
       "    </tr>\n",
       "  </tbody>\n",
       "</table>\n",
       "</div>"
      ],
      "text/plain": [
       "freq_cat  freq0  freq1  freq2  freq3~\n",
       "age_cat                              \n",
       "age~19      200    150     50     100\n",
       "age20~34    600    450    150     300\n",
       "age35~49    800    600    200     400\n",
       "age50~      400    300    100     200"
      ]
     },
     "execution_count": 6,
     "metadata": {},
     "output_type": "execute_result"
    }
   ],
   "source": [
    "cust_pivot_df = pd.pivot_table(data=cust_df, values='customer_id', columns='freq_cat', index='age_cat', aggfunc='count')\n",
    "cust_pivot_df = cust_pivot_df.reindex(['age~19', 'age20~34', 'age35~49', 'age50~'])\n",
    "cust_pivot_df"
   ]
  },
  {
   "cell_type": "code",
   "execution_count": 7,
   "metadata": {},
   "outputs": [
    {
     "data": {
      "text/plain": [
       "<AxesSubplot:xlabel='freq_cat', ylabel='age_cat'>"
      ]
     },
     "execution_count": 7,
     "metadata": {},
     "output_type": "execute_result"
    }
   ],
   "source": [
    "import seaborn as sns\n",
    "sns.heatmap(cust_pivot_df, annot=True, fmt='d', cmap='Blues')"
   ]
  },
  {
   "cell_type": "code",
   "execution_count": 8,
   "metadata": {},
   "outputs": [
    {
     "data": {
      "text/html": [
       "<div>\n",
       "<style scoped>\n",
       "    .dataframe tbody tr th:only-of-type {\n",
       "        vertical-align: middle;\n",
       "    }\n",
       "\n",
       "    .dataframe tbody tr th {\n",
       "        vertical-align: top;\n",
       "    }\n",
       "\n",
       "    .dataframe thead th {\n",
       "        text-align: right;\n",
       "    }\n",
       "</style>\n",
       "<table border=\"1\" class=\"dataframe\">\n",
       "  <thead>\n",
       "    <tr style=\"text-align: right;\">\n",
       "      <th></th>\n",
       "      <th>age_cat</th>\n",
       "      <th>freq_cat</th>\n",
       "      <th>segment_id</th>\n",
       "      <th>prob_dm1</th>\n",
       "      <th>prob_dm2</th>\n",
       "      <th>prob_dm3</th>\n",
       "    </tr>\n",
       "  </thead>\n",
       "  <tbody>\n",
       "    <tr>\n",
       "      <th>0</th>\n",
       "      <td>age~19</td>\n",
       "      <td>freq0</td>\n",
       "      <td>1</td>\n",
       "      <td>0.07</td>\n",
       "      <td>0.12</td>\n",
       "      <td>0.29</td>\n",
       "    </tr>\n",
       "    <tr>\n",
       "      <th>1</th>\n",
       "      <td>age~19</td>\n",
       "      <td>freq1</td>\n",
       "      <td>2</td>\n",
       "      <td>0.21</td>\n",
       "      <td>0.30</td>\n",
       "      <td>0.58</td>\n",
       "    </tr>\n",
       "    <tr>\n",
       "      <th>2</th>\n",
       "      <td>age~19</td>\n",
       "      <td>freq2</td>\n",
       "      <td>3</td>\n",
       "      <td>0.28</td>\n",
       "      <td>0.39</td>\n",
       "      <td>0.74</td>\n",
       "    </tr>\n",
       "    <tr>\n",
       "      <th>3</th>\n",
       "      <td>age~19</td>\n",
       "      <td>freq3~</td>\n",
       "      <td>4</td>\n",
       "      <td>0.35</td>\n",
       "      <td>0.45</td>\n",
       "      <td>0.77</td>\n",
       "    </tr>\n",
       "    <tr>\n",
       "      <th>4</th>\n",
       "      <td>age20~34</td>\n",
       "      <td>freq0</td>\n",
       "      <td>5</td>\n",
       "      <td>0.11</td>\n",
       "      <td>0.17</td>\n",
       "      <td>0.37</td>\n",
       "    </tr>\n",
       "    <tr>\n",
       "      <th>5</th>\n",
       "      <td>age20~34</td>\n",
       "      <td>freq1</td>\n",
       "      <td>6</td>\n",
       "      <td>0.32</td>\n",
       "      <td>0.43</td>\n",
       "      <td>0.72</td>\n",
       "    </tr>\n",
       "    <tr>\n",
       "      <th>6</th>\n",
       "      <td>age20~34</td>\n",
       "      <td>freq2</td>\n",
       "      <td>7</td>\n",
       "      <td>0.42</td>\n",
       "      <td>0.55</td>\n",
       "      <td>0.93</td>\n",
       "    </tr>\n",
       "    <tr>\n",
       "      <th>7</th>\n",
       "      <td>age20~34</td>\n",
       "      <td>freq3~</td>\n",
       "      <td>8</td>\n",
       "      <td>0.52</td>\n",
       "      <td>0.63</td>\n",
       "      <td>0.94</td>\n",
       "    </tr>\n",
       "    <tr>\n",
       "      <th>8</th>\n",
       "      <td>age35~49</td>\n",
       "      <td>freq0</td>\n",
       "      <td>9</td>\n",
       "      <td>0.08</td>\n",
       "      <td>0.14</td>\n",
       "      <td>0.33</td>\n",
       "    </tr>\n",
       "    <tr>\n",
       "      <th>9</th>\n",
       "      <td>age35~49</td>\n",
       "      <td>freq1</td>\n",
       "      <td>10</td>\n",
       "      <td>0.25</td>\n",
       "      <td>0.35</td>\n",
       "      <td>0.67</td>\n",
       "    </tr>\n",
       "    <tr>\n",
       "      <th>10</th>\n",
       "      <td>age35~49</td>\n",
       "      <td>freq2</td>\n",
       "      <td>11</td>\n",
       "      <td>0.34</td>\n",
       "      <td>0.45</td>\n",
       "      <td>0.86</td>\n",
       "    </tr>\n",
       "    <tr>\n",
       "      <th>11</th>\n",
       "      <td>age35~49</td>\n",
       "      <td>freq3~</td>\n",
       "      <td>12</td>\n",
       "      <td>0.42</td>\n",
       "      <td>0.52</td>\n",
       "      <td>0.89</td>\n",
       "    </tr>\n",
       "    <tr>\n",
       "      <th>12</th>\n",
       "      <td>age50~</td>\n",
       "      <td>freq0</td>\n",
       "      <td>13</td>\n",
       "      <td>0.07</td>\n",
       "      <td>0.13</td>\n",
       "      <td>0.32</td>\n",
       "    </tr>\n",
       "    <tr>\n",
       "      <th>13</th>\n",
       "      <td>age50~</td>\n",
       "      <td>freq1</td>\n",
       "      <td>14</td>\n",
       "      <td>0.21</td>\n",
       "      <td>0.33</td>\n",
       "      <td>0.65</td>\n",
       "    </tr>\n",
       "    <tr>\n",
       "      <th>14</th>\n",
       "      <td>age50~</td>\n",
       "      <td>freq2</td>\n",
       "      <td>15</td>\n",
       "      <td>0.28</td>\n",
       "      <td>0.42</td>\n",
       "      <td>0.84</td>\n",
       "    </tr>\n",
       "    <tr>\n",
       "      <th>15</th>\n",
       "      <td>age50~</td>\n",
       "      <td>freq3~</td>\n",
       "      <td>16</td>\n",
       "      <td>0.35</td>\n",
       "      <td>0.49</td>\n",
       "      <td>0.88</td>\n",
       "    </tr>\n",
       "  </tbody>\n",
       "</table>\n",
       "</div>"
      ],
      "text/plain": [
       "     age_cat freq_cat  segment_id  prob_dm1  prob_dm2  prob_dm3\n",
       "0     age~19    freq0           1      0.07      0.12      0.29\n",
       "1     age~19    freq1           2      0.21      0.30      0.58\n",
       "2     age~19    freq2           3      0.28      0.39      0.74\n",
       "3     age~19   freq3~           4      0.35      0.45      0.77\n",
       "4   age20~34    freq0           5      0.11      0.17      0.37\n",
       "5   age20~34    freq1           6      0.32      0.43      0.72\n",
       "6   age20~34    freq2           7      0.42      0.55      0.93\n",
       "7   age20~34   freq3~           8      0.52      0.63      0.94\n",
       "8   age35~49    freq0           9      0.08      0.14      0.33\n",
       "9   age35~49    freq1          10      0.25      0.35      0.67\n",
       "10  age35~49    freq2          11      0.34      0.45      0.86\n",
       "11  age35~49   freq3~          12      0.42      0.52      0.89\n",
       "12    age50~    freq0          13      0.07      0.13      0.32\n",
       "13    age50~    freq1          14      0.21      0.33      0.65\n",
       "14    age50~    freq2          15      0.28      0.42      0.84\n",
       "15    age50~   freq3~          16      0.35      0.49      0.88"
      ]
     },
     "execution_count": 8,
     "metadata": {},
     "output_type": "execute_result"
    }
   ],
   "source": [
    "prob_df = pd.read_csv('visit_probability.csv')\n",
    "prob_df"
   ]
  },
  {
   "cell_type": "code",
   "execution_count": null,
   "metadata": {},
   "outputs": [],
   "source": [
    "import matplotlib.pyplot as plt\n",
    "ax = {}\n",
    "fig, (ax[0], ax[1], ax[2]) = plt.subplots(1,3, figsize=(20,3))\n",
    "for i, ptn in enumerate(['prob_dm1', 'prob_dm2', 'prob_dm3']):\n",
    "    prob_pivot_df = pd.pivot_table(data=prob_df, values=ptn, columns='freq_cat', index='age_cat')\n",
    "    prob_pivot_df = prob_pivot_df.reindex (['age~19','age20~34', 'age35~49', 'age50~'])\n",
    "    sns.heatmap(prob_pivot_df, vmin=0, vmax=1, annot=True, fmt='.0%', cmap='Blues', ax=ax[i])\n",
    "    ax[i].set_title(f'Visit Probability of {ptn}')\n",
    "plt.show()"
   ]
  },
  {
   "cell_type": "markdown",
   "metadata": {},
   "source": [
    "### モデリング1：会員個別送付モデル"
   ]
  },
  {
   "cell_type": "code",
   "execution_count": null,
   "metadata": {},
   "outputs": [],
   "source": [
    "from mip import *\n",
    "\n",
    "m = Model()"
   ]
  },
  {
   "cell_type": "markdown",
   "metadata": {},
   "source": [
    "要件（1）　各会員に対してどのパターンのダイレクトメールを送付するかを決定"
   ]
  },
  {
   "cell_type": "code",
   "execution_count": null,
   "metadata": {},
   "outputs": [],
   "source": [
    "I = cust_df['customer_id'].tolist()\n",
    "M = [1, 2, 3]"
   ]
  },
  {
   "cell_type": "code",
   "execution_count": null,
   "metadata": {},
   "outputs": [],
   "source": [
    "x = m.add_var(name='', var_type=BINARY)"
   ]
  },
  {
   "cell_type": "code",
   "execution_count": null,
   "metadata": {},
   "outputs": [],
   "source": [
    "# （1）各会員に対してどのパターンのダイレクトメールを送付するかを決定するための変数を用意\n",
    "xim = {}\n",
    "for i in I:\n",
    "    for mm in M:\n",
    "        xim[i,mm] = m.add_var(name=f'xim({i},{mm})', var_type=BINARY)\n",
    "# 決定変数の数\n",
    "len(xim)"
   ]
  },
  {
   "cell_type": "markdown",
   "metadata": {},
   "source": [
    "要件（2）　送付できるのは1 パターンのみ"
   ]
  },
  {
   "cell_type": "code",
   "execution_count": null,
   "metadata": {},
   "outputs": [],
   "source": [
    "for i in I:\n",
    "        m += xsum(xim[i,mm] for mm in M) == 1"
   ]
  },
  {
   "cell_type": "markdown",
   "metadata": {},
   "source": [
    "要件（3）　クーポン付与による来客増加数を最大化"
   ]
  },
  {
   "cell_type": "code",
   "execution_count": null,
   "metadata": {},
   "outputs": [],
   "source": [
    "keys = ['age_cat', 'freq_cat']\n",
    "cust_prob_df = pd.merge(cust_df, prob_df)#, on=keys) -> keysをキーとして結合処理をする\n",
    "cust_prob_df"
   ]
  },
  {
   "cell_type": "code",
   "execution_count": null,
   "metadata": {},
   "outputs": [],
   "source": [
    "cust_prob_ver_df = cust_prob_df.rename(columns={'prob_dm1': 1, 'prob_dm2': 2, 'prob_dm3': 3})\\\n",
    "                  .melt(id_vars=['customer_id'], value_vars=[1,2,3], var_name='dm', value_name='prob')\n",
    "cust_prob_ver_df"
   ]
  },
  {
   "cell_type": "code",
   "execution_count": null,
   "metadata": {},
   "outputs": [],
   "source": [
    "Pim = cust_prob_ver_df.set_index(['customer_id','dm'])['prob'].to_dict()"
   ]
  },
  {
   "cell_type": "code",
   "execution_count": null,
   "metadata": {},
   "outputs": [],
   "source": [
    "cust_prob_ver_df.set_index(['customer_id','dm'])['prob']"
   ]
  },
  {
   "cell_type": "code",
   "execution_count": null,
   "metadata": {},
   "outputs": [],
   "source": [
    "# （3）クーポン付与による来客増加数を最大化\n",
    "m.objective = maximize(xsum((Pim[i,mm] - Pim[i,1]) * xim[i,mm] for i in I for mm in [2,3]))"
   ]
  },
  {
   "cell_type": "markdown",
   "metadata": {},
   "source": [
    "要件（4）　会員の予算消費期待値の合計は100 万円以下"
   ]
  },
  {
   "cell_type": "code",
   "execution_count": null,
   "metadata": {},
   "outputs": [],
   "source": [
    "Cm = {1:0, 2:1000, 3:2000}\n",
    "\n",
    "# （4）顧客の消費する費用の期待値の合計は100万円以下\n",
    "m += xsum(Cm[mm] * Pim[i,mm]* xim[i,mm] for i in I for mm in [2,3]) <= 1000000\n",
    "\n",
    "# セグメントのリスト\n",
    "S = prob_df['segment_id'].to_list()\n",
    "print(f'S = {S}')\n",
    "\n",
    "# 各セグメントとそのセグメントに属する顧客数を対応させる辞書の作成\n",
    "Ns = cust_prob_df.groupby('segment_id')['customer_id'].count().to_dict()\n",
    "print(f'Ns = {Ns}')\n",
    "\n",
    "# 会員をキーとして属するセグメントを返す辞書\n",
    "Si = cust_prob_df.set_index('customer_id')['segment_id'].to_dict()\n",
    "#print(f'Si = {Si}')\n",
    "\n",
    "# （5）各パターンのダイレクトメールをそれぞれのセグメントに属する会員数の10%以上送付\n",
    "for s in S:\n",
    "    for mm in M:\n",
    "        m += xsum(xim[i,mm] for i in I if Si[i] == s) >= 0.1 * Ns[s]"
   ]
  },
  {
   "cell_type": "code",
   "execution_count": null,
   "metadata": {},
   "outputs": [],
   "source": [
    "import time\n",
    "time_start = time.time()\n",
    "status = m.optimize()\n",
    "# gapRelを指定した場合はsolve関数にて上でパラメータを指定したsolverを引数にとる\n",
    "# status = problem.solve(solver)\n",
    "time_stop = time.time()"
   ]
  },
  {
   "cell_type": "code",
   "execution_count": null,
   "metadata": {},
   "outputs": [],
   "source": [
    "print(f'status:{OptimizationStatus(status)}')\n",
    "print(f'objective function value:{m.objective.x:.4}')\n",
    "print(f'elapsed time:{(time_stop - time_start):.3}(sec)')"
   ]
  },
  {
   "cell_type": "code",
   "execution_count": null,
   "metadata": {},
   "outputs": [],
   "source": [
    "send_dm_df = pd.DataFrame([[xim[i,mm].x for mm in M] for i in I], columns=['send_dm1', 'send_dm2', 'send_dm3'])\n",
    "\n",
    "cust_send_df = pd.concat([cust_df[['customer_id', 'age_cat', 'freq_cat']], send_dm_df], axis=1)\n",
    "\n",
    "# 各セグメントに対するそれぞれのダイレクトメールの送付率\n",
    "ax = {}\n",
    "fig, (ax[0], ax[1], ax[2]) = plt.subplots(1,3, figsize=(20,3))\n",
    "for i, ptn in enumerate(['send_dm1', 'send_dm2', 'send_dm3']):\n",
    "    cust_send_pivot_df = pd.pivot_table(data=cust_send_df, values=ptn, columns='freq_cat', index='age_cat', aggfunc='mean')\n",
    "    cust_send_pivot_df = cust_send_pivot_df.reindex(['age~19', 'age20~34', 'age35~49', 'age50~'])\n",
    "    sns.heatmap(cust_send_pivot_df, annot=True, fmt='.1%', cmap='Blues', vmin=0, vmax=1, ax=ax[i])\n",
    "    ax[i].set_title(f'{ptn}_rate')\n",
    "plt.show()"
   ]
  },
  {
   "cell_type": "code",
   "execution_count": null,
   "metadata": {},
   "outputs": [],
   "source": [
    "# 各セグメントに対するそれぞれのダイレクトメールの送付数\n",
    "ax = {}\n",
    "fig, (ax[0], ax[1], ax[2]) = plt.subplots(1,3, figsize=(20,3))\n",
    "for i, ptn in enumerate(['send_dm1', 'send_dm2', 'send_dm3']):\n",
    "    cust_send_pivot_df = pd.pivot_table(data=cust_send_df, values=ptn, columns='freq_cat', index='age_cat',aggfunc='sum')\n",
    "    cust_send_pivot_df = cust_send_pivot_df.reindex(['age~19', 'age20~34', 'age35~49', 'age50~'])\n",
    "    sns.heatmap(cust_send_pivot_df, annot=True, fmt='.1f', cmap='Blues', vmax=800, ax=ax[i])\n",
    "    ax[i].set_title(f'{ptn}_num')\n",
    "plt.show()"
   ]
  },
  {
   "cell_type": "markdown",
   "metadata": {},
   "source": [
    "### モデリング2：セグメント送付モデル"
   ]
  },
  {
   "cell_type": "markdown",
   "metadata": {},
   "source": [
    "モデリング1では各個人に対して変数が定義されていたが、結局セグメント単位での最適化を行っている。そこで高速化のため変数を各個人ではなくセグメントごとにとることにする。最適化の結果はモデリング1と同様となることが期待される。"
   ]
  },
  {
   "cell_type": "code",
   "execution_count": null,
   "metadata": {},
   "outputs": [],
   "source": [
    "m2 = Model()\n",
    "\n",
    "# （1）各会員に対してどのパターンのダイレクトメールを送付するかを決定するための変数を用意\n",
    "# xsm[2,3] = セグメント2に対するパターン3のクーポンの送付率\n",
    "xsm = {}\n",
    "for s in S:\n",
    "    for mm in M:\n",
    "        xsm[s,mm] = m2.add_var(name=f'xim({s},{mm})', lb=0.0, ub=1.0, var_type=CONTINUOUS)\n",
    "# 決定変数の数\n",
    "print(f'# of variables = {len(xsm)}')\n",
    "\n",
    "\n",
    "\n",
    "# （2）各会員に対して送付するダイレクトメールはいずれか1パターン\n",
    "# 即ち　sum_{M}(一つのセグメントsに対するクーポンmm送付率) = 100%\n",
    "for s in S:\n",
    "    m2 += xsum(xsm[s,mm] for mm in M) == 1\n",
    "    \n",
    "    \n",
    "prob_ver_df = prob_df.rename(columns={'prob_dm1': 1,'prob_dm2': 2, 'prob_dm3': 3})\\\n",
    ".melt(id_vars=['segment_id'], value_vars=[1,2,3], var_name='dm', value_name='prob')\n",
    "Psm = prob_ver_df.set_index(['segment_id','dm'])['prob'].to_dict()\n",
    "\n",
    "# （3）クーポン付与による来客増加数を最大化\n",
    "# 来客増加数 = セグメント所属人数 * クーポン受け取りによる来店率の増加率 * クーポン送付率\n",
    "m2.objective = maximize(xsum(Ns[s] * (Psm[s,mm] - Psm[s,1]) * xsm[s,mm] for s in S for mm in [2,3]))\n",
    "\n",
    "# （4）会員の予算消費期待値の合計は100万円以下\n",
    "# 予算消費期待値 = クーポン発行コスト * セグメント所属人数 * クーポン受け取り後期待来店率(クーポン使用率) * クーポン送付率\n",
    "m2 += xsum(Cm[mm] * Ns[s] * Psm[s,mm] * xsm[s,mm] for s in S for mm in [2,3]) <= 1000000\n",
    "\n",
    "# （5）各パターンのダイレクトメールをそれぞれのセグメントに属する会員数の10%以上送付\n",
    "for s in S:\n",
    "    for mm in M:\n",
    "        m2 += xsm[s,mm] >= 0.1\n"
   ]
  },
  {
   "cell_type": "code",
   "execution_count": null,
   "metadata": {},
   "outputs": [],
   "source": [
    "time_start = time.time()\n",
    "status = m2.optimize()\n",
    "# gapRelを指定した場合はsolve関数にて上でパラメータを指定したsolverを引数にとる\n",
    "# status = problem.solve(solver)\n",
    "time_stop = time.time()\n",
    "\n",
    "print(f'status:{OptimizationStatus(status)}')\n",
    "print(f'objective function value:{m2.objective.x:.4}')\n",
    "print(f'elapsed time:{(time_stop - time_start):.3}(sec)')"
   ]
  },
  {
   "cell_type": "markdown",
   "metadata": {},
   "source": [
    "--> モデリング1と同様の結果が得られた上、実行時間が短縮されている。"
   ]
  },
  {
   "cell_type": "code",
   "execution_count": null,
   "metadata": {},
   "outputs": [],
   "source": [
    "send_dm_df = pd.DataFrame([[xsm[s,mm].x for mm in M] for s in S], columns=['send_prob_dm1', 'send_prob_dm2','send_prob_dm3'])\n",
    "seg_send_df = pd.concat([prob_df[['segment_id', 'age_cat', 'freq_cat']], send_dm_df], axis=1)\n",
    "# 各セグメントに対するそれぞれのダイレクトメールの送付率\n",
    "ax = {}\n",
    "fig, (ax[0], ax[1], ax[2]) = plt.subplots(1,3, figsize=(20,3))\n",
    "for i, ptn in enumerate(['send_prob_dm1', 'send_prob_dm2', 'send_prob_dm3']):\n",
    "    seg_send_pivot_df = pd.pivot_table(data=seg_send_df,values=ptn, columns='freq_cat', index='age_cat', aggfunc='mean')\n",
    "    seg_send_pivot_df = seg_send_pivot_df.reindex(['age~19', 'age20~34', 'age35~49', 'age50~'])\n",
    "    sns.heatmap(seg_send_pivot_df, annot=True, fmt='.1%', cmap='Blues', vmin=0, vmax=1, ax=ax[i])\n",
    "    ax[i].set_title(f'{ptn}')\n",
    "plt.show()"
   ]
  },
  {
   "cell_type": "code",
   "execution_count": null,
   "metadata": {},
   "outputs": [],
   "source": [
    "seg_send_df['num_cust'] = seg_send_df['segment_id'].apply(lambda x: Ns[x])\n",
    "seg_send_df['send_num_dm1'] = seg_send_df['send_prob_dm1']*seg_send_df['num_cust']\n",
    "seg_send_df['send_num_dm2'] = seg_send_df['send_prob_dm2']*seg_send_df['num_cust']\n",
    "seg_send_df['send_num_dm3'] = seg_send_df['send_prob_dm3']*seg_send_df['num_cust']\n",
    "seg_send_df[['segment_id','send_num_dm1','send_num_dm2','send_num_dm3']].head()"
   ]
  },
  {
   "cell_type": "code",
   "execution_count": null,
   "metadata": {},
   "outputs": [],
   "source": [
    "# 各セグメントに対するそれぞれのダイレクトメールの送付数\n",
    "ax = {}\n",
    "fig, (ax[0], ax[1], ax[2]) = plt.subplots(1,3, figsize=(20,3))\n",
    "for i, ptn in enumerate(['send_num_dm1','send_num_dm2','send_num_dm3']):\n",
    "    seg_send_pivot_df = pd.pivot_table(data=seg_send_df,values=ptn, columns='freq_cat', index='age_cat')\n",
    "    seg_send_pivot_df = seg_send_pivot_df.reindex(['age~19', 'age20~34', 'age35~49', 'age50~'])\n",
    "    sns.heatmap(seg_send_pivot_df, annot=True, fmt='.1f', cmap='Blues', vmin=0, vmax=800, ax=ax[i])\n",
    "    ax[i].set_title(f'{ptn}')\n",
    "plt.show()"
   ]
  },
  {
   "cell_type": "markdown",
   "metadata": {},
   "source": [
    "### モデリング3：送付率下限値最大化モデル"
   ]
  },
  {
   "cell_type": "markdown",
   "metadata": {},
   "source": [
    "モデリング1と2では想定通り同様の結果が得られた。各セグメントごとのクーポン送付率をみると、80%近く送っているセグメントと、下限の10%しか送っていないところに分けられていることがわかる。中長期的に来客を確保するという観点からは、このような極端なクーポンの配布の仕方は適切だろうか？\n",
    "\n",
    "そこで、送付率の下限を最大化するような最適化を考えてみる。"
   ]
  },
  {
   "cell_type": "code",
   "execution_count": null,
   "metadata": {},
   "outputs": [],
   "source": [
    "m3 = Model()"
   ]
  },
  {
   "cell_type": "code",
   "execution_count": null,
   "metadata": {},
   "outputs": [],
   "source": [
    "#　（1）各セグメントへのそれぞれパターンのダイレクトメールの送付率の下限値と\n",
    "# 各会員に対してどのダイレクトメールを送付するかを決定\n",
    "# 会員に対してどのダイレクトメールを送付するか\n",
    "xsm = {}\n",
    "#　［0,1］の変数を宣言\n",
    "for s in S:\n",
    "    for mm in M:\n",
    "        xsm[s,mm] = m3.add_var(name=f'xsm({s},{mm})', lb=0, ub=1, var_type=CONTINUOUS)\n",
    "# 各セグメントへのそれぞれパターンのダイレクトメールの送付率の下限値\n",
    "y = m3.add_var(name='y', lb=0, ub=1, var_type=CONTINUOUS)\n",
    "\n",
    "#　（3）各セグメントへのそれぞれパターンのダイレクトメールの送付率の下限値を最大化\n",
    "m3.objective = maximize(y)\n",
    "\n",
    "#　（5）各パターンのダイレクトメールを設定した送付率の下限値以上送付\n",
    "for s in S:\n",
    "    for mm in M:\n",
    "        m3 += xsm[s,mm] >= y\n",
    "        \n",
    "#　（2）各会員に対して送付するダイレクトメールはいずれか1パターン\n",
    "for s in S:\n",
    "    m3 += xsum(xsm[s,mm] for mm in M) == 1\n",
    "\n",
    "#　（4）会員の予算消費期待値の合計は100万円以下\n",
    "m3 += xsum(Cm[mm] * Ns[s] * Psm[s,mm] * xsm[s,mm] for s in S for mm in [2,3]) <= 1000000"
   ]
  },
  {
   "cell_type": "code",
   "execution_count": null,
   "metadata": {},
   "outputs": [],
   "source": [
    "time_start = time.time()\n",
    "status = m3.optimize()\n",
    "# gapRelを指定した場合はsolve関数にて上でパラメータを指定したsolverを引数にとる\n",
    "# status = problem.solve(solver)\n",
    "time_stop = time.time()\n",
    "\n",
    "max_lb = m3.objective.x\n",
    "\n",
    "print(f'status:{OptimizationStatus(status)}')\n",
    "print(f'maximum lowerbound:{max_lb:.4}')\n",
    "print(f'elapsed time:{(time_stop - time_start):.3}(sec)')"
   ]
  },
  {
   "cell_type": "markdown",
   "metadata": {},
   "source": [
    "下限送付割合の最大値がわかった。"
   ]
  },
  {
   "cell_type": "code",
   "execution_count": null,
   "metadata": {},
   "outputs": [],
   "source": [
    "send_dm_df = pd.DataFrame([[xsm[s,mm].x for mm in M]for s in S], columns=['send_prob_dm1', 'send_prob_dm2','send_prob_dm3'])\n",
    "seg_send_df = pd.concat([prob_df[['segment_id', 'age_cat', 'freq_cat']], send_dm_df], axis=1)\n",
    "ax = {}\n",
    "fig, (ax[0], ax[1], ax[2]) = plt.subplots(1,3, figsize=(20,3))\n",
    "for i, ptn in enumerate(['send_prob_dm1', 'send_prob_dm2', 'send_prob_dm3']):\n",
    "    seg_send_pivot_df = pd.pivot_table(data=seg_send_df,values=ptn, columns='freq_cat',index='age_cat', aggfunc='mean')\n",
    "    seg_send_pivot_df = seg_send_pivot_df.reindex(['age~19', 'age20~34', 'age35~49', 'age50~'])\n",
    "    sns.heatmap(seg_send_pivot_df, annot=True, fmt='.1%', cmap='Blues', vmin=0, vmax=1, ax=ax[i])\n",
    "    ax[i].set_title(f'{ptn}')\n",
    "plt.show()"
   ]
  },
  {
   "cell_type": "markdown",
   "metadata": {},
   "source": [
    "この下限送付割合を用いて、期待来客数を最大化する送付割合を決定する。"
   ]
  },
  {
   "cell_type": "code",
   "execution_count": null,
   "metadata": {},
   "outputs": [],
   "source": [
    "# 数理モデルのインスタンス作成\n",
    "m3_2 = Model()\n",
    "#　（1）各セグメントへのそれぞれパターンのダイレクトメールの送付率の下限値と各会員に対してどのダイレクトメールを送付するかを決定\n",
    "# 会員に対してどのダイレクトメールを送付するか\n",
    "x = {}\n",
    "#　［0,1］の変数を宣言\n",
    "for s in S:\n",
    "    for mm in M:\n",
    "        xsm[s,mm] = m3_2.add_var(name=f'xsm({s},{mm})',lb=0, ub=1, var_type=CONTINUOUS)\n",
    "#　（2）各会員に対して送付するダイレクトメールはいずれか1パターン\n",
    "for s in S:\n",
    "    m3_2 += xsum(xsm[s,mm] for mm in M) == 1\n",
    "#　（3）クーポン付与による来客増加数を最大化\n",
    "m3_2.objective = maximize(xsum(Ns[s] * (Psm[s,mm] - Psm[s,1]) * xsm[s,mm] for s in S for mm in [2,3]))\n",
    "#　（4）会員の予算消費期待値の合計は100万円以下\n",
    "m3_2 += xsum(Cm[mm] * Ns[s] * Psm[s,mm] * xsm[s,mm] for s in S for mm in [2,3]) <= 1000000\n",
    "#　（5）各パターンのダイレクトメールを設定した送付率の下限値以上送付\n",
    "for s in S:\n",
    "    for mm in M:\n",
    "        m3_2 += xsm[s,mm] >= max_lb\n"
   ]
  },
  {
   "cell_type": "code",
   "execution_count": null,
   "metadata": {},
   "outputs": [],
   "source": [
    "time_start = time.time()\n",
    "status = m3_2.optimize()\n",
    "# gapRelを指定した場合はsolve関数にて上でパラメータを指定したsolverを引数にとる\n",
    "# status = problem.solve(solver)\n",
    "time_stop = time.time()\n",
    "\n",
    "print(f'status:{OptimizationStatus(status)}')\n",
    "print(f'objective function value:{m3_2.objective.x:.4}')\n",
    "print(f'elapsed time:{(time_stop - time_start):.3}(sec)')"
   ]
  },
  {
   "cell_type": "markdown",
   "metadata": {},
   "source": [
    "### 投資対効果の評価"
   ]
  },
  {
   "cell_type": "code",
   "execution_count": null,
   "metadata": {},
   "outputs": [],
   "source": [
    "cost_list = []\n",
    "cpa_list = []\n",
    "inc_action_list = []"
   ]
  },
  {
   "cell_type": "code",
   "execution_count": null,
   "metadata": {},
   "outputs": [],
   "source": [
    "print('ステータス, キャンペーン費用, 来客増加数, CPA')\n",
    "for cost in range(761850, 3000000, 100000):\n",
    "    m4 = Model()\n",
    "\n",
    "    # （1）各会員に対してどのパターンのダイレクトメールを送付するかを決定するための変数を用意\n",
    "    # xsm[2,3] = セグメント2に対するパターン3のクーポンの送付率\n",
    "    xsm = {}\n",
    "    for s in S:\n",
    "        for mm in M:\n",
    "            xsm[s,mm] = m4.add_var(name=f'xim({s},{mm})', lb=0.0, ub=1.0, var_type=CONTINUOUS)\n",
    "\n",
    "    # （2）各会員に対して送付するダイレクトメールはいずれか1パターン\n",
    "    # 即ち　sum_{M}(一つのセグメントsに対するクーポンmm送付率) = 100%\n",
    "    for s in S:\n",
    "        m4 += xsum(xsm[s,mm] for mm in M) == 1\n",
    "    \n",
    "    #prob_ver_df = prob_df.rename(columns={'prob_dm1': 1,'prob_dm2': 2, 'prob_dm3': 3})\\\n",
    "    #.melt(id_vars=['segment_id'], value_vars=[1,2,3], var_name='dm', value_name='prob')\n",
    "    #Psm = prob_ver_df.set_index(['segment_id','dm'])['prob'].to_dict()\n",
    "\n",
    "    # （3）クーポン付与による来客増加数を最大化\n",
    "    # 来客増加数 = セグメント所属人数 * クーポン受け取りによる来店率の増加率 * クーポン送付率\n",
    "    m4.objective = maximize(xsum(Ns[s] * (Psm[s,mm] - Psm[s,1]) * xsm[s,mm] for s in S for mm in [2,3]))\n",
    "\n",
    "    # （4）会員の予算消費期待値の合計は100万円以下\n",
    "    # 予算消費期待値 = クーポン発行コスト * セグメント所属人数 * クーポン受け取り後期待来店率(クーポン使用率) * クーポン送付率\n",
    "    m4 += xsum(Cm[mm] * Ns[s] * Psm[s,mm] * xsm[s,mm] for s in S for mm in [2,3]) <= cost\n",
    "\n",
    "    # （5）各パターンのダイレクトメールをそれぞれのセグメントに属する会員数の10%以上送付\n",
    "    for s in S:\n",
    "        for mm in M:\n",
    "            m4 += xsm[s,mm] >= 0.1\n",
    "            \n",
    "    \n",
    "    status = m4.optimize()\n",
    "    cpa = cost/m4.objective.x\n",
    "    inc_action = m4.objective.x\n",
    "    cost_list.append(cost)\n",
    "    cpa_list.append(cpa)\n",
    "    inc_action_list.append(inc_action)\n",
    "    print(f'{OptimizationStatus(status)}, {cost}, {inc_action :.4}, {cpa :.5}')"
   ]
  },
  {
   "cell_type": "code",
   "execution_count": null,
   "metadata": {},
   "outputs": [],
   "source": [
    "import matplotlib.ticker as ticker\n",
    "fig, ax1 = plt.subplots()\n",
    "ax2 = ax1.twinx()\n",
    "ax1.scatter(cost_list, inc_action_list, marker='x', label='Incremental visitor')\n",
    "ax2.scatter(cost_list, cpa_list, label='CPA')\n",
    "ax1.xaxis.set_major_formatter(ticker.FuncFormatter(lambda x, pos: f'{x :,.0f}'))\n",
    "ax1.yaxis.set_major_formatter(ticker.FuncFormatter(lambda x, pos: f'{x :,.0f}'))\n",
    "ax2.yaxis.set_major_formatter(ticker.FuncFormatter(lambda x, pos: f'{x :,.0f}'))\n",
    "ax1.set_xlabel('Cost')\n",
    "ax1.set_ylabel('Incremental visitor')\n",
    "ax2.set_ylabel('CPA')\n",
    "reg1, label1 = ax1.get_legend_handles_labels()\n",
    "reg2, label2 = ax2.get_legend_handles_labels()\n",
    "ax2.legend(reg1 + reg2, label1 + label2, loc='upper center')\n",
    "plt.show()"
   ]
  },
  {
   "cell_type": "code",
   "execution_count": null,
   "metadata": {},
   "outputs": [],
   "source": []
  }
 ],
 "metadata": {
  "colab": {
   "collapsed_sections": [],
   "name": "第4章 割引クーポンキャンペーンの効果最大化",
   "provenance": []
  },
  "interpreter": {
   "hash": "6078f15a2282daca250a0ea9e1d11a79c1b448ef035aad4c4536dcfa3c2de0a5"
  },
  "kernelspec": {
   "display_name": "Python 3.10 (XPython)",
   "language": "python",
   "name": "xpython"
  },
  "language_info": {
   "file_extension": ".py",
   "mimetype": "text/x-python",
   "name": "python",
   "version": "3.10.0"
  }
 },
 "nbformat": 4,
 "nbformat_minor": 4
}
