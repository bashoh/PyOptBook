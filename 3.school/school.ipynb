{
 "cells": [
  {
   "cell_type": "markdown",
   "metadata": {},
   "source": [
    "# **第3章　学校のクラス編成**"
   ]
  },
  {
   "cell_type": "markdown",
   "metadata": {},
   "source": [
    "### **3.3 数理モデリングと実装**"
   ]
  },
  {
   "cell_type": "markdown",
   "metadata": {},
   "source": [
    "### ②データの確認"
   ]
  },
  {
   "cell_type": "code",
   "execution_count": 1,
   "metadata": {},
   "outputs": [],
   "source": [
    "# データ処理のためのライブラリpandasの取り込み\n",
    "import pandas as pd"
   ]
  },
  {
   "cell_type": "markdown",
   "metadata": {},
   "source": [
    "(1)生徒データ(students.csv)の確認"
   ]
  },
  {
   "cell_type": "code",
   "execution_count": 2,
   "metadata": {},
   "outputs": [
    {
     "name": "stdout",
     "output_type": "stream",
     "text": [
      "318\n"
     ]
    },
    {
     "data": {
      "text/html": [
       "<div>\n",
       "<style scoped>\n",
       "    .dataframe tbody tr th:only-of-type {\n",
       "        vertical-align: middle;\n",
       "    }\n",
       "\n",
       "    .dataframe tbody tr th {\n",
       "        vertical-align: top;\n",
       "    }\n",
       "\n",
       "    .dataframe thead th {\n",
       "        text-align: right;\n",
       "    }\n",
       "</style>\n",
       "<table border=\"1\" class=\"dataframe\">\n",
       "  <thead>\n",
       "    <tr style=\"text-align: right;\">\n",
       "      <th></th>\n",
       "      <th>student_id</th>\n",
       "      <th>gender</th>\n",
       "      <th>leader_flag</th>\n",
       "      <th>support_flag</th>\n",
       "      <th>score</th>\n",
       "    </tr>\n",
       "  </thead>\n",
       "  <tbody>\n",
       "    <tr>\n",
       "      <th>0</th>\n",
       "      <td>1</td>\n",
       "      <td>0</td>\n",
       "      <td>0</td>\n",
       "      <td>0</td>\n",
       "      <td>335</td>\n",
       "    </tr>\n",
       "    <tr>\n",
       "      <th>1</th>\n",
       "      <td>2</td>\n",
       "      <td>1</td>\n",
       "      <td>0</td>\n",
       "      <td>0</td>\n",
       "      <td>379</td>\n",
       "    </tr>\n",
       "    <tr>\n",
       "      <th>2</th>\n",
       "      <td>3</td>\n",
       "      <td>0</td>\n",
       "      <td>0</td>\n",
       "      <td>0</td>\n",
       "      <td>350</td>\n",
       "    </tr>\n",
       "    <tr>\n",
       "      <th>3</th>\n",
       "      <td>4</td>\n",
       "      <td>0</td>\n",
       "      <td>0</td>\n",
       "      <td>0</td>\n",
       "      <td>301</td>\n",
       "    </tr>\n",
       "    <tr>\n",
       "      <th>4</th>\n",
       "      <td>5</td>\n",
       "      <td>1</td>\n",
       "      <td>0</td>\n",
       "      <td>0</td>\n",
       "      <td>317</td>\n",
       "    </tr>\n",
       "  </tbody>\n",
       "</table>\n",
       "</div>"
      ],
      "text/plain": [
       "   student_id  gender  leader_flag  support_flag  score\n",
       "0           1       0            0             0    335\n",
       "1           2       1            0             0    379\n",
       "2           3       0            0             0    350\n",
       "3           4       0            0             0    301\n",
       "4           5       1            0             0    317"
      ]
     },
     "execution_count": 2,
     "metadata": {},
     "output_type": "execute_result"
    }
   ],
   "source": [
    "# students.csvからの生徒データの取得\n",
    "s_df = pd.read_csv('students.csv')\n",
    "print(len(s_df))\n",
    "s_df.head()"
   ]
  },
  {
   "cell_type": "code",
   "execution_count": 3,
   "metadata": {},
   "outputs": [
    {
     "data": {
      "text/plain": [
       "0        1\n",
       "1        2\n",
       "2        3\n",
       "3        4\n",
       "4        5\n",
       "      ... \n",
       "313    314\n",
       "314    315\n",
       "315    316\n",
       "316    317\n",
       "317    318\n",
       "Name: student_id, Length: 318, dtype: int64"
      ]
     },
     "execution_count": 3,
     "metadata": {},
     "output_type": "execute_result"
    }
   ],
   "source": [
    "# 学籍番号の確認\n",
    "s_df['student_id']"
   ]
  },
  {
   "cell_type": "code",
   "execution_count": 4,
   "metadata": {},
   "outputs": [
    {
     "data": {
      "text/plain": [
       "318"
      ]
     },
     "execution_count": 4,
     "metadata": {},
     "output_type": "execute_result"
    }
   ],
   "source": [
    "# 最大値の確認\n",
    "s_df['student_id'].max()"
   ]
  },
  {
   "cell_type": "code",
   "execution_count": 5,
   "metadata": {},
   "outputs": [
    {
     "data": {
      "text/plain": [
       "1"
      ]
     },
     "execution_count": 5,
     "metadata": {},
     "output_type": "execute_result"
    }
   ],
   "source": [
    "# 最小値の確認\n",
    "s_df['student_id'].min()"
   ]
  },
  {
   "cell_type": "code",
   "execution_count": 6,
   "metadata": {},
   "outputs": [
    {
     "data": {
      "text/plain": [
       "True"
      ]
     },
     "execution_count": 6,
     "metadata": {},
     "output_type": "execute_result"
    }
   ],
   "source": [
    "# 1〜318まで隙間なく番号が振られているかの確認\n",
    "set(range(1, 319)) == set(s_df['student_id'].tolist())"
   ]
  },
  {
   "cell_type": "code",
   "execution_count": 7,
   "metadata": {},
   "outputs": [
    {
     "data": {
      "text/plain": [
       "0    160\n",
       "1    158\n",
       "Name: gender, dtype: int64"
      ]
     },
     "execution_count": 7,
     "metadata": {},
     "output_type": "execute_result"
    }
   ],
   "source": [
    "# 性別（gender）の確認\n",
    "s_df['gender'].value_counts()"
   ]
  },
  {
   "cell_type": "code",
   "execution_count": 8,
   "metadata": {},
   "outputs": [
    {
     "data": {
      "text/plain": [
       "count    318.000000\n",
       "mean     303.644654\n",
       "std       65.179995\n",
       "min       88.000000\n",
       "25%      261.000000\n",
       "50%      310.000000\n",
       "75%      350.000000\n",
       "max      485.000000\n",
       "Name: score, dtype: float64"
      ]
     },
     "execution_count": 8,
     "metadata": {},
     "output_type": "execute_result"
    }
   ],
   "source": [
    "# 学力試験の点数(score)の統計量の確認\n",
    "s_df['score'].describe()"
   ]
  },
  {
   "cell_type": "code",
   "execution_count": 9,
   "metadata": {},
   "outputs": [
    {
     "data": {
      "text/plain": [
       "<AxesSubplot:>"
      ]
     },
     "execution_count": 9,
     "metadata": {},
     "output_type": "execute_result"
    },
    {
     "data": {
      "image/png": "[encoded data removed]",
      "text/plain": [
       "<Figure size 432x288 with 1 Axes>"
      ]
     },
     "metadata": {
      "needs_background": "light"
     },
     "output_type": "display_data"
    }
   ],
   "source": [
    "# 学力試験の点数(score)の分布の確認\n",
    "s_df['score'].hist()"
   ]
  },
  {
   "cell_type": "code",
   "execution_count": 10,
   "metadata": {},
   "outputs": [
    {
     "data": {
      "text/plain": [
       "0    301\n",
       "1     17\n",
       "Name: leader_flag, dtype: int64"
      ]
     },
     "execution_count": 10,
     "metadata": {},
     "output_type": "execute_result"
    }
   ],
   "source": [
    "# リーダー気質フラグ(leader_flag)の確認\n",
    "s_df['leader_flag'].value_counts()"
   ]
  },
  {
   "cell_type": "code",
   "execution_count": 11,
   "metadata": {},
   "outputs": [
    {
     "data": {
      "text/plain": [
       "0    314\n",
       "1      4\n",
       "Name: support_flag, dtype: int64"
      ]
     },
     "execution_count": 11,
     "metadata": {},
     "output_type": "execute_result"
    }
   ],
   "source": [
    "# 特別支援フラグ(support_flag)の確認\n",
    "s_df['support_flag'].value_counts()"
   ]
  },
  {
   "cell_type": "markdown",
   "metadata": {},
   "source": [
    "(2)特定ペアデータ(student_pairs.csv)の確認"
   ]
  },
  {
   "cell_type": "code",
   "execution_count": 12,
   "metadata": {},
   "outputs": [
    {
     "name": "stdout",
     "output_type": "stream",
     "text": [
      "3\n"
     ]
    },
    {
     "data": {
      "text/html": [
       "<div>\n",
       "<style scoped>\n",
       "    .dataframe tbody tr th:only-of-type {\n",
       "        vertical-align: middle;\n",
       "    }\n",
       "\n",
       "    .dataframe tbody tr th {\n",
       "        vertical-align: top;\n",
       "    }\n",
       "\n",
       "    .dataframe thead th {\n",
       "        text-align: right;\n",
       "    }\n",
       "</style>\n",
       "<table border=\"1\" class=\"dataframe\">\n",
       "  <thead>\n",
       "    <tr style=\"text-align: right;\">\n",
       "      <th></th>\n",
       "      <th>student_id1</th>\n",
       "      <th>student_id2</th>\n",
       "    </tr>\n",
       "  </thead>\n",
       "  <tbody>\n",
       "    <tr>\n",
       "      <th>0</th>\n",
       "      <td>118</td>\n",
       "      <td>189</td>\n",
       "    </tr>\n",
       "    <tr>\n",
       "      <th>1</th>\n",
       "      <td>72</td>\n",
       "      <td>50</td>\n",
       "    </tr>\n",
       "    <tr>\n",
       "      <th>2</th>\n",
       "      <td>314</td>\n",
       "      <td>233</td>\n",
       "    </tr>\n",
       "  </tbody>\n",
       "</table>\n",
       "</div>"
      ],
      "text/plain": [
       "   student_id1  student_id2\n",
       "0          118          189\n",
       "1           72           50\n",
       "2          314          233"
      ]
     },
     "execution_count": 12,
     "metadata": {},
     "output_type": "execute_result"
    }
   ],
   "source": [
    "# student_pairs.csvからの特定ペアデータの取得\n",
    "s_pair_df = pd.read_csv('student_pairs.csv')\n",
    "print(len(s_pair_df))\n",
    "s_pair_df"
   ]
  },
  {
   "cell_type": "markdown",
   "metadata": {},
   "source": [
    "### ③数理モデリングと実装"
   ]
  },
  {
   "cell_type": "code",
   "execution_count": 13,
   "metadata": {},
   "outputs": [],
   "source": [
    "# PythonライブラリPuLPの取り込み\n",
    "import pulp"
   ]
  },
  {
   "cell_type": "code",
   "execution_count": 14,
   "metadata": {},
   "outputs": [],
   "source": [
    "# 数理モデルのインスタンス作成\n",
    "prob = pulp.LpProblem('ClassAssignmentProblem', pulp.LpMaximize)"
   ]
  },
  {
   "cell_type": "code",
   "execution_count": 15,
   "metadata": {},
   "outputs": [
    {
     "name": "stdout",
     "output_type": "stream",
     "text": [
      "[1, 2, 3, 4, 5, 6, 7, 8, 9, 10, 11, 12, 13, 14, 15, 16, 17, 18, 19, 20, 21, 22, 23, 24, 25, 26, 27, 28, 29, 30, 31, 32, 33, 34, 35, 36, 37, 38, 39, 40, 41, 42, 43, 44, 45, 46, 47, 48, 49, 50, 51, 52, 53, 54, 55, 56, 57, 58, 59, 60, 61, 62, 63, 64, 65, 66, 67, 68, 69, 70, 71, 72, 73, 74, 75, 76, 77, 78, 79, 80, 81, 82, 83, 84, 85, 86, 87, 88, 89, 90, 91, 92, 93, 94, 95, 96, 97, 98, 99, 100, 101, 102, 103, 104, 105, 106, 107, 108, 109, 110, 111, 112, 113, 114, 115, 116, 117, 118, 119, 120, 121, 122, 123, 124, 125, 126, 127, 128, 129, 130, 131, 132, 133, 134, 135, 136, 137, 138, 139, 140, 141, 142, 143, 144, 145, 146, 147, 148, 149, 150, 151, 152, 153, 154, 155, 156, 157, 158, 159, 160, 161, 162, 163, 164, 165, 166, 167, 168, 169, 170, 171, 172, 173, 174, 175, 176, 177, 178, 179, 180, 181, 182, 183, 184, 185, 186, 187, 188, 189, 190, 191, 192, 193, 194, 195, 196, 197, 198, 199, 200, 201, 202, 203, 204, 205, 206, 207, 208, 209, 210, 211, 212, 213, 214, 215, 216, 217, 218, 219, 220, 221, 222, 223, 224, 225, 226, 227, 228, 229, 230, 231, 232, 233, 234, 235, 236, 237, 238, 239, 240, 241, 242, 243, 244, 245, 246, 247, 248, 249, 250, 251, 252, 253, 254, 255, 256, 257, 258, 259, 260, 261, 262, 263, 264, 265, 266, 267, 268, 269, 270, 271, 272, 273, 274, 275, 276, 277, 278, 279, 280, 281, 282, 283, 284, 285, 286, 287, 288, 289, 290, 291, 292, 293, 294, 295, 296, 297, 298, 299, 300, 301, 302, 303, 304, 305, 306, 307, 308, 309, 310, 311, 312, 313, 314, 315, 316, 317, 318]\n"
     ]
    }
   ],
   "source": [
    "# 生徒のリスト\n",
    "S = s_df['student_id'].tolist()\n",
    "print(S)"
   ]
  },
  {
   "cell_type": "code",
   "execution_count": 16,
   "metadata": {},
   "outputs": [
    {
     "data": {
      "text/plain": [
       "['A', 'B', 'C', 'D', 'E', 'F', 'G', 'H']"
      ]
     },
     "execution_count": 16,
     "metadata": {},
     "output_type": "execute_result"
    }
   ],
   "source": [
    "# クラスのリスト\n",
    "C = ['A', 'B', 'C', 'D', 'E', 'F', 'G', 'H']\n",
    "C"
   ]
  },
  {
   "cell_type": "code",
   "execution_count": 17,
   "metadata": {},
   "outputs": [
    {
     "name": "stdout",
     "output_type": "stream",
     "text": [
      "[(1, 'A'), (1, 'B'), (1, 'C'), (1, 'D'), (1, 'E'), (1, 'F'), (1, 'G'), (1, 'H'), (2, 'A'), (2, 'B'), (2, 'C'), (2, 'D'), (2, 'E'), (2, 'F'), (2, 'G'), (2, 'H'), (3, 'A'), (3, 'B'), (3, 'C'), (3, 'D'), (3, 'E'), (3, 'F'), (3, 'G'), (3, 'H'), (4, 'A'), (4, 'B'), (4, 'C'), (4, 'D'), (4, 'E'), (4, 'F')]\n"
     ]
    }
   ],
   "source": [
    "# 生徒とクラスのペアのリスト\n",
    "SC = [(s,c) for s in S for c in C]\n",
    "print(SC[:30])"
   ]
  },
  {
   "cell_type": "code",
   "execution_count": 18,
   "metadata": {},
   "outputs": [],
   "source": [
    "# 生徒をどのクラスに割り当てるかを変数として定義\n",
    "x = pulp.LpVariable.dicts('x', SC, cat='Binary')"
   ]
  },
  {
   "cell_type": "code",
   "execution_count": 19,
   "metadata": {},
   "outputs": [],
   "source": [
    "# (1)各生徒は１つのクラスに割り当てる\n",
    "for s in S:\n",
    "    prob += pulp.lpSum([x[s,c] for c in C]) == 1"
   ]
  },
  {
   "cell_type": "code",
   "execution_count": 20,
   "metadata": {},
   "outputs": [],
   "source": [
    "# (2)各クラスの生徒の人数は39人以上、40人以下とする。\n",
    "for c in C:\n",
    "    prob += pulp.lpSum([x[s,c] for s in S]) >= 39\n",
    "    prob += pulp.lpSum([x[s,c] for s in S]) <= 40"
   ]
  },
  {
   "cell_type": "code",
   "execution_count": 21,
   "metadata": {},
   "outputs": [],
   "source": [
    "# 男子生徒のリスト\n",
    "S_male = [row.student_id for row in s_df.itertuples() if row.gender == 1]\n",
    "\n",
    "# 女子生徒のリスト\n",
    "S_female = [row.student_id for row in s_df.itertuples() if row.gender == 0]\n",
    "\n",
    "# (3) 各クラスの男子生徒、女子生徒の人数は20人以下とする。\n",
    "for c in C:\n",
    "    prob += pulp.lpSum([x[s,c] for s in S_male]) <= 20\n",
    "    prob += pulp.lpSum([x[s,c] for s in S_female]) <= 20"
   ]
  },
  {
   "cell_type": "code",
   "execution_count": 22,
   "metadata": {},
   "outputs": [
    {
     "name": "stdout",
     "output_type": "stream",
     "text": [
      "303.6446540880503\n"
     ]
    }
   ],
   "source": [
    "# 学力を辞書表現に変換\n",
    "score = {row.student_id:row.score for row in s_df.itertuples()}\n",
    "\n",
    "# 平均点の算出\n",
    "score_mean = s_df['score'].mean()\n",
    "print(score_mean)\n",
    "    \n",
    "# (4) 各クラスの学力試験の平均点は学年平均点±10点とする。    \n",
    "for c in C:\n",
    "    prob += (score_mean - 10) * pulp.lpSum([x[s,c] for s in S]) <= pulp.lpSum([x[s,c] * score[s] for s in S]) \n",
    "    prob += pulp.lpSum([x[s,c] * score[s] for s in S]) <= (score_mean + 10) * pulp.lpSum([x[s,c] for s in S])"
   ]
  },
  {
   "cell_type": "code",
   "execution_count": 23,
   "metadata": {},
   "outputs": [],
   "source": [
    "# リーダー気質の生徒の集合\n",
    "S_leader = [row.student_id for row in s_df.itertuples() if row.leader_flag == 1]\n",
    "\n",
    "# (5)各クラスにリーダー気質の生徒を2人以上割り当てる。\n",
    "for c in C:\n",
    "    prob += pulp.lpSum([x[s,c] for s in S_leader]) >= 2"
   ]
  },
  {
   "cell_type": "code",
   "execution_count": 24,
   "metadata": {},
   "outputs": [],
   "source": [
    "# 特別な支援が必要な生徒の集合\n",
    "S_support = [row.student_id for row in s_df.itertuples() if row.support_flag == 1]\n",
    "\n",
    "# (6) 特別な支援が必要な生徒は各クラスに1人以下とする。\n",
    "for c in C:\n",
    "    prob += pulp.lpSum([x[s,c] for s in S_support]) <= 1"
   ]
  },
  {
   "cell_type": "code",
   "execution_count": 25,
   "metadata": {},
   "outputs": [],
   "source": [
    "# 生徒の特定ペアリスト\n",
    "SS = [(row.student_id1, row.student_id2) for row in s_pair_df.itertuples()]\n",
    "\n",
    "# (7) 特定ペアの生徒は同一クラスに割り当てない。\n",
    "for s1, s2 in SS:\n",
    "    for c in C:\n",
    "        prob += x[s1,c] + x[s2,c] <= 1"
   ]
  },
  {
   "cell_type": "code",
   "execution_count": 26,
   "metadata": {},
   "outputs": [],
   "source": [
    "# prob # 追記"
   ]
  },
  {
   "cell_type": "code",
   "execution_count": 27,
   "metadata": {},
   "outputs": [
    {
     "name": "stdout",
     "output_type": "stream",
     "text": [
      "1\n",
      "Optimal\n"
     ]
    }
   ],
   "source": [
    "# 求解\n",
    "status = prob.solve()\n",
    "print(status)\n",
    "print(pulp.LpStatus[status])"
   ]
  },
  {
   "cell_type": "code",
   "execution_count": 28,
   "metadata": {},
   "outputs": [
    {
     "name": "stdout",
     "output_type": "stream",
     "text": [
      "Class: A\n",
      "Num: 40\n",
      "Student: [2, 9, 19, 39, 42, 63, 65, 71, 79, 83, 85, 88, 99, 101, 109, 111, 123, 126, 136, 138, 145, 148, 165, 168, 173, 177, 179, 180, 193, 199, 206, 224, 233, 240, 246, 264, 267, 291, 292, 298]\n",
      "\n",
      "Class: B\n",
      "Num: 39\n",
      "Student: [1, 11, 15, 43, 48, 50, 70, 82, 89, 91, 102, 104, 113, 114, 120, 121, 124, 127, 134, 149, 159, 167, 170, 176, 190, 203, 213, 220, 222, 231, 238, 245, 270, 275, 276, 283, 287, 290, 317]\n",
      "\n",
      "Class: C\n",
      "Num: 40\n",
      "Student: [3, 14, 23, 25, 27, 31, 33, 41, 49, 53, 54, 58, 73, 93, 97, 98, 107, 122, 152, 156, 160, 171, 187, 210, 211, 217, 219, 227, 236, 242, 254, 258, 260, 268, 273, 274, 277, 278, 301, 318]\n",
      "\n",
      "Class: D\n",
      "Num: 40\n",
      "Student: [10, 13, 16, 20, 36, 37, 51, 56, 59, 61, 67, 68, 75, 84, 92, 108, 128, 139, 140, 142, 146, 158, 161, 175, 183, 192, 198, 200, 221, 225, 235, 241, 252, 255, 256, 257, 266, 284, 293, 316]\n",
      "\n",
      "Class: E\n",
      "Num: 40\n",
      "Student: [4, 5, 21, 22, 24, 38, 69, 72, 78, 87, 96, 105, 106, 115, 129, 132, 141, 143, 150, 154, 164, 166, 184, 189, 195, 196, 197, 243, 244, 247, 249, 250, 269, 271, 288, 300, 305, 309, 310, 315]\n",
      "\n",
      "Class: F\n",
      "Num: 40\n",
      "Student: [12, 17, 40, 45, 46, 74, 76, 80, 95, 100, 103, 110, 112, 116, 119, 125, 130, 135, 144, 151, 153, 169, 178, 182, 185, 188, 202, 205, 209, 230, 232, 237, 239, 272, 281, 282, 289, 303, 304, 306]\n",
      "\n",
      "Class: G\n",
      "Num: 40\n",
      "Student: [7, 18, 28, 32, 35, 44, 52, 55, 57, 60, 64, 66, 81, 117, 118, 131, 147, 155, 172, 181, 186, 194, 204, 207, 208, 214, 215, 216, 223, 226, 228, 229, 262, 265, 279, 280, 296, 299, 308, 313]\n",
      "\n",
      "Class: H\n",
      "Num: 39\n",
      "Student: [6, 8, 26, 29, 30, 34, 47, 62, 77, 86, 90, 94, 133, 137, 157, 162, 163, 174, 191, 201, 212, 218, 234, 248, 251, 253, 259, 261, 263, 285, 286, 294, 295, 297, 302, 307, 311, 312, 314]\n",
      "\n"
     ]
    }
   ],
   "source": [
    "# 最適化結果の表示\n",
    "# 各クラスに割り当てられている生徒のリストを辞書に格納\n",
    "C2Ss = {}\n",
    "for c in C:\n",
    "    C2Ss[c] = [s for s in S if x[s,c].value()==1]\n",
    "            \n",
    "for c, Ss in C2Ss.items():\n",
    "    print('Class:', c)\n",
    "    print('Num:', len(Ss))\n",
    "    print('Student:', Ss)\n",
    "    print()"
   ]
  },
  {
   "cell_type": "code",
   "execution_count": 29,
   "metadata": {},
   "outputs": [
    {
     "name": "stdout",
     "output_type": "stream",
     "text": [
      "Status: Optimal\n",
      "Class: A\n",
      "Num: 40\n",
      "Student: [2, 9, 19, 39, 42, 63, 65, 71, 79, 83, 85, 88, 99, 109, 111, 123, 126, 136, 138, 145, 148, 165, 168, 173, 177, 179, 180, 193, 199, 206, 224, 233, 237, 240, 246, 264, 267, 291, 292, 298]\n",
      "\n",
      "Class: B\n",
      "Num: 40\n",
      "Student: [11, 15, 48, 50, 70, 82, 89, 91, 102, 104, 113, 114, 120, 121, 124, 127, 146, 149, 159, 167, 170, 172, 176, 190, 203, 212, 213, 220, 222, 231, 238, 245, 263, 270, 275, 276, 283, 287, 290, 317]\n",
      "\n",
      "Class: C\n",
      "Num: 40\n",
      "Student: [1, 3, 14, 23, 25, 27, 31, 33, 41, 49, 53, 54, 58, 73, 93, 97, 98, 122, 152, 156, 160, 171, 187, 210, 211, 217, 219, 227, 236, 242, 250, 254, 258, 260, 268, 273, 277, 278, 301, 318]\n",
      "\n",
      "Class: D\n",
      "Num: 40\n",
      "Student: [10, 13, 16, 36, 37, 43, 51, 56, 59, 61, 67, 68, 75, 84, 92, 108, 128, 134, 139, 140, 158, 161, 175, 188, 192, 198, 200, 205, 218, 221, 225, 241, 252, 255, 256, 257, 261, 266, 293, 316]\n",
      "\n",
      "Class: E\n",
      "Num: 40\n",
      "Student: [4, 5, 21, 22, 24, 38, 69, 72, 78, 87, 96, 105, 106, 115, 129, 132, 141, 143, 150, 154, 164, 166, 183, 184, 189, 195, 196, 197, 243, 244, 247, 249, 269, 271, 288, 300, 305, 309, 310, 315]\n",
      "\n",
      "Class: F\n",
      "Num: 39\n",
      "Student: [12, 17, 45, 46, 62, 74, 76, 80, 95, 100, 101, 103, 107, 110, 112, 116, 119, 125, 130, 135, 151, 153, 169, 178, 182, 185, 202, 209, 230, 232, 239, 272, 281, 282, 284, 289, 303, 304, 306]\n",
      "\n",
      "Class: G\n",
      "Num: 40\n",
      "Student: [7, 18, 28, 32, 35, 44, 52, 55, 57, 60, 64, 66, 81, 117, 118, 131, 147, 155, 181, 186, 194, 204, 207, 208, 214, 216, 223, 226, 228, 229, 235, 262, 265, 279, 280, 296, 299, 308, 312, 313]\n",
      "\n",
      "Class: H\n",
      "Num: 39\n",
      "Student: [6, 8, 20, 26, 29, 30, 34, 40, 47, 77, 86, 90, 94, 133, 137, 142, 144, 157, 162, 163, 174, 191, 201, 215, 234, 248, 251, 253, 259, 274, 285, 286, 294, 295, 297, 302, 307, 311, 314]\n",
      "\n"
     ]
    }
   ],
   "source": [
    "import pandas as pd\n",
    "import pulp\n",
    "\n",
    "s_df = pd.read_csv('students.csv')\n",
    "s_pair_df = pd.read_csv('student_pairs.csv')\n",
    "\n",
    "prob = pulp.LpProblem('ClassAssignmentProblem', pulp.LpMaximize)\n",
    "\n",
    "# 生徒のリスト\n",
    "S = s_df['student_id'].tolist()\n",
    "\n",
    "# クラスのリスト\n",
    "C = ['A', 'B', 'C', 'D', 'E', 'F', 'G', 'H']\n",
    "\n",
    "# 生徒とクラスのペアのリスト\n",
    "SC = [(s,c) for s in S for c in C]\n",
    "\n",
    "# 生徒をどのクラスに割り当てるを変数として定義\n",
    "x = pulp.LpVariable.dicts('x', SC, cat='Binary')\n",
    "\n",
    "# (1)各生徒は１つのクラスに割り当てる\n",
    "for s in S:\n",
    "    prob += pulp.lpSum([x[s,c] for c in C]) == 1\n",
    "\n",
    "# (2)各クラスの生徒の人数は39人以上、40人以下とする。\n",
    "for c in C:\n",
    "    prob += pulp.lpSum([x[s,c] for s in S]) >= 39\n",
    "    prob += pulp.lpSum([x[s,c] for s in S]) <= 40\n",
    "\n",
    "# 男子生徒のリスト\n",
    "S_male = [row.student_id for row in s_df.itertuples() if row.gender == 1]\n",
    "\n",
    "# 女子生徒のリスト\n",
    "S_female = [row.student_id for row in s_df.itertuples() if row.gender == 0]\n",
    "\n",
    "# (3) 各クラスの男子生徒、女子生徒の人数は20人以下とする。\n",
    "for c in C:\n",
    "    prob += pulp.lpSum([x[s,c] for s in S_male]) <= 20\n",
    "    prob += pulp.lpSum([x[s,c] for s in S_female]) <= 20\n",
    "\n",
    "# 学力を辞書表現に変換\n",
    "score = {row.student_id:row.score for row in s_df.itertuples()}\n",
    "\n",
    "# 平均点の算出\n",
    "score_mean = s_df.score.mean()\n",
    "\n",
    "# (4) 各クラスの学力試験の平均点は学年平均点±10点とする。\n",
    "for c in C:\n",
    "    prob += pulp.lpSum([x[s,c]*score[s] for s in S]) >= (score_mean - 10) * pulp.lpSum([x[s,c] for s in S])\n",
    "    prob += pulp.lpSum([x[s,c]*score[s] for s in S]) <= (score_mean + 10) * pulp.lpSum([x[s,c] for s in S])\n",
    "\n",
    "# リーダー気質の生徒の集合\n",
    "S_leader = [row.student_id for row in s_df.itertuples() if row.leader_flag == 1]\n",
    "\n",
    "# (5)各クラスにリーダー気質の生徒を2人以上割り当てる。\n",
    "for c in C:\n",
    "    prob += pulp.lpSum([x[s,c] for s in S_leader]) >= 2\n",
    "\n",
    "# 特別な支援が必要な生徒の集合\n",
    "S_support = [row.student_id for row in s_df.itertuples() if row.support_flag == 1]\n",
    "\n",
    "# (6) 特別な支援が必要な生徒は各クラスに1人以下とする。\n",
    "for c in C:\n",
    "    prob += pulp.lpSum([x[s,c] for s in S_support]) <= 1\n",
    "\n",
    "    # 生徒の特定ペアリスト\n",
    "SS = [(row.student_id1, row.student_id2) for row in s_pair_df.itertuples()]\n",
    "\n",
    "# (7) 特定ペアの生徒は同一クラスに割り当てない。\n",
    "for row in s_pair_df.itertuples():\n",
    "    s1 = row.student_id1\n",
    "    s2 = row.student_id2\n",
    "    for c in C:\n",
    "        prob += x[s1,c] + x[s2,c] <= 1\n",
    "\n",
    "# 求解\n",
    "status = prob.solve()\n",
    "print('Status:', pulp.LpStatus[status])\n",
    "\n",
    "# 最適化結果の表示\n",
    "# 各クラスに割り当てられている生徒のリストを辞書に格納\n",
    "C2Ss = {}\n",
    "for c in C:\n",
    "    C2Ss[c] = [s for s in S if x[s,c].value()==1]\n",
    "\n",
    "for c, Ss in C2Ss.items():\n",
    "    print('Class:', c)\n",
    "    print('Num:', len(Ss))\n",
    "    print('Student:', Ss)\n",
    "    print()"
   ]
  },
  {
   "cell_type": "markdown",
   "metadata": {},
   "source": [
    "### 3.4 **数理モデルの検証**"
   ]
  },
  {
   "cell_type": "markdown",
   "metadata": {},
   "source": [
    "### ①解が要件を満たしているかどうか確認する"
   ]
  },
  {
   "cell_type": "markdown",
   "metadata": {},
   "source": [
    "要件(1) 学年の全生徒をそれぞれ①つのクラスに割り当てる"
   ]
  },
  {
   "cell_type": "code",
   "execution_count": 30,
   "metadata": {},
   "outputs": [],
   "source": [
    "for s in S:\n",
    "    # 割り当てられたクラスを取得\n",
    "    assigned_class = [x[s,c].value() for c in C if x[s,c].value()==1]\n",
    "\n",
    "    # 1つのクラスに割り当てられているか確認\n",
    "    if len(assigned_class) != 1:\n",
    "        print('error:', s, assigned_class)"
   ]
  },
  {
   "cell_type": "markdown",
   "metadata": {},
   "source": [
    "検証用データフレームの作成"
   ]
  },
  {
   "cell_type": "code",
   "execution_count": 31,
   "metadata": {},
   "outputs": [
    {
     "data": {
      "text/html": [
       "<div>\n",
       "<style scoped>\n",
       "    .dataframe tbody tr th:only-of-type {\n",
       "        vertical-align: middle;\n",
       "    }\n",
       "\n",
       "    .dataframe tbody tr th {\n",
       "        vertical-align: top;\n",
       "    }\n",
       "\n",
       "    .dataframe thead th {\n",
       "        text-align: right;\n",
       "    }\n",
       "</style>\n",
       "<table border=\"1\" class=\"dataframe\">\n",
       "  <thead>\n",
       "    <tr style=\"text-align: right;\">\n",
       "      <th></th>\n",
       "      <th>student_id</th>\n",
       "      <th>gender</th>\n",
       "      <th>leader_flag</th>\n",
       "      <th>support_flag</th>\n",
       "      <th>score</th>\n",
       "      <th>assigned_class</th>\n",
       "    </tr>\n",
       "  </thead>\n",
       "  <tbody>\n",
       "    <tr>\n",
       "      <th>0</th>\n",
       "      <td>1</td>\n",
       "      <td>0</td>\n",
       "      <td>0</td>\n",
       "      <td>0</td>\n",
       "      <td>335</td>\n",
       "      <td>C</td>\n",
       "    </tr>\n",
       "    <tr>\n",
       "      <th>1</th>\n",
       "      <td>2</td>\n",
       "      <td>1</td>\n",
       "      <td>0</td>\n",
       "      <td>0</td>\n",
       "      <td>379</td>\n",
       "      <td>A</td>\n",
       "    </tr>\n",
       "    <tr>\n",
       "      <th>2</th>\n",
       "      <td>3</td>\n",
       "      <td>0</td>\n",
       "      <td>0</td>\n",
       "      <td>0</td>\n",
       "      <td>350</td>\n",
       "      <td>C</td>\n",
       "    </tr>\n",
       "    <tr>\n",
       "      <th>3</th>\n",
       "      <td>4</td>\n",
       "      <td>0</td>\n",
       "      <td>0</td>\n",
       "      <td>0</td>\n",
       "      <td>301</td>\n",
       "      <td>E</td>\n",
       "    </tr>\n",
       "    <tr>\n",
       "      <th>4</th>\n",
       "      <td>5</td>\n",
       "      <td>1</td>\n",
       "      <td>0</td>\n",
       "      <td>0</td>\n",
       "      <td>317</td>\n",
       "      <td>E</td>\n",
       "    </tr>\n",
       "  </tbody>\n",
       "</table>\n",
       "</div>"
      ],
      "text/plain": [
       "   student_id  gender  leader_flag  support_flag  score assigned_class\n",
       "0           1       0            0             0    335              C\n",
       "1           2       1            0             0    379              A\n",
       "2           3       0            0             0    350              C\n",
       "3           4       0            0             0    301              E\n",
       "4           5       1            0             0    317              E"
      ]
     },
     "execution_count": 31,
     "metadata": {},
     "output_type": "execute_result"
    }
   ],
   "source": [
    "# 検証用のデータフレームの用意\n",
    "result_df = s_df.copy()\n",
    "\n",
    "# 各生徒がどのクラスに割り当てられたかの情報を辞書に格納\n",
    "S2C = {s:c for s in S for c in C if x[s,c].value()==1}\n",
    "\n",
    "# 生徒データに各生徒がどのクラスに割り当てられたかの情報を結合            \n",
    "result_df['assigned_class'] = result_df['student_id'].map(S2C)\n",
    "result_df.head(5)"
   ]
  },
  {
   "cell_type": "markdown",
   "metadata": {},
   "source": [
    "要件(2) 各クラスの生徒の人数は39人以上、40人以下とする"
   ]
  },
  {
   "cell_type": "code",
   "execution_count": 32,
   "metadata": {},
   "outputs": [
    {
     "data": {
      "text/plain": [
       "assigned_class\n",
       "A    40\n",
       "B    40\n",
       "C    40\n",
       "D    40\n",
       "E    40\n",
       "F    39\n",
       "G    40\n",
       "H    39\n",
       "Name: student_id, dtype: int64"
      ]
     },
     "execution_count": 32,
     "metadata": {},
     "output_type": "execute_result"
    }
   ],
   "source": [
    "result_df.groupby('assigned_class')['student_id'].count()"
   ]
  },
  {
   "cell_type": "markdown",
   "metadata": {},
   "source": [
    "(3) 各クラスの男子生徒、女子生徒の人数は20人以下とする。"
   ]
  },
  {
   "cell_type": "code",
   "execution_count": 33,
   "metadata": {},
   "outputs": [
    {
     "data": {
      "text/plain": [
       "assigned_class  gender\n",
       "A               0         20\n",
       "                1         20\n",
       "B               0         20\n",
       "                1         20\n",
       "C               0         20\n",
       "                1         20\n",
       "D               0         20\n",
       "                1         20\n",
       "E               0         20\n",
       "                1         20\n",
       "F               0         20\n",
       "                1         19\n",
       "G               0         20\n",
       "                1         20\n",
       "H               0         20\n",
       "                1         19\n",
       "Name: student_id, dtype: int64"
      ]
     },
     "execution_count": 33,
     "metadata": {},
     "output_type": "execute_result"
    }
   ],
   "source": [
    "result_df.groupby(['assigned_class', 'gender'])['student_id'].count()"
   ]
  },
  {
   "cell_type": "markdown",
   "metadata": {},
   "source": [
    "(4) 各クラスの学力試験の平均点は学年平均点±10点とする。"
   ]
  },
  {
   "cell_type": "code",
   "execution_count": 34,
   "metadata": {},
   "outputs": [
    {
     "data": {
      "text/plain": [
       "assigned_class\n",
       "A    313.400000\n",
       "B    293.825000\n",
       "C    311.250000\n",
       "D    313.250000\n",
       "E    295.650000\n",
       "F    295.666667\n",
       "G    311.900000\n",
       "H    293.769231\n",
       "Name: score, dtype: float64"
      ]
     },
     "execution_count": 34,
     "metadata": {},
     "output_type": "execute_result"
    }
   ],
   "source": [
    "result_df.groupby('assigned_class')['score'].mean()"
   ]
  },
  {
   "cell_type": "markdown",
   "metadata": {},
   "source": [
    "(5) 各クラスにリーダー気質の生徒を2人以上割り当てる。"
   ]
  },
  {
   "cell_type": "code",
   "execution_count": 35,
   "metadata": {},
   "outputs": [
    {
     "data": {
      "text/plain": [
       "assigned_class\n",
       "A    3\n",
       "B    2\n",
       "C    2\n",
       "D    2\n",
       "E    2\n",
       "F    2\n",
       "G    2\n",
       "H    2\n",
       "Name: leader_flag, dtype: int64"
      ]
     },
     "execution_count": 35,
     "metadata": {},
     "output_type": "execute_result"
    }
   ],
   "source": [
    "result_df.groupby(['assigned_class'])['leader_flag'].sum()"
   ]
  },
  {
   "cell_type": "markdown",
   "metadata": {},
   "source": [
    "(6) 特別な支援が必要な生徒は各クラスに1人以下とする。"
   ]
  },
  {
   "cell_type": "code",
   "execution_count": 36,
   "metadata": {},
   "outputs": [
    {
     "data": {
      "text/plain": [
       "assigned_class\n",
       "A    0\n",
       "B    1\n",
       "C    1\n",
       "D    0\n",
       "E    1\n",
       "F    0\n",
       "G    1\n",
       "H    0\n",
       "Name: support_flag, dtype: int64"
      ]
     },
     "execution_count": 36,
     "metadata": {},
     "output_type": "execute_result"
    }
   ],
   "source": [
    "result_df.groupby(['assigned_class'])['support_flag'].sum()"
   ]
  },
  {
   "cell_type": "markdown",
   "metadata": {},
   "source": [
    "(7) 特定ペアの生徒は同一クラスに割り当てない。"
   ]
  },
  {
   "cell_type": "code",
   "execution_count": 37,
   "metadata": {},
   "outputs": [
    {
     "name": "stdout",
     "output_type": "stream",
     "text": [
      "case: 0\n",
      "s1:118-G\n",
      "s2:189-E\n",
      "\n",
      "case: 1\n",
      "s1:72-E\n",
      "s2:50-B\n",
      "\n",
      "case: 2\n",
      "s1:314-H\n",
      "s2:233-A\n",
      "\n"
     ]
    }
   ],
   "source": [
    "for i, (s1, s2) in enumerate(SS):\n",
    "    print('case:',i)\n",
    "    c1 = S2C[s1]\n",
    "    c2 = S2C[s2]\n",
    "    print('s1:{}-{}'.format(s1, c1))\n",
    "    print('s2:{}-{}'.format(s2, c2))\n",
    "    print('')"
   ]
  },
  {
   "cell_type": "markdown",
   "metadata": {},
   "source": [
    "### ②設定した制約の見直しと課題の洗い出し"
   ]
  },
  {
   "cell_type": "code",
   "execution_count": 38,
   "metadata": {},
   "outputs": [],
   "source": [
    "# データの可視化ライブラリmatplotlibの取り込み\n",
    "import matplotlib.pyplot as plt"
   ]
  },
  {
   "cell_type": "code",
   "execution_count": 39,
   "metadata": {},
   "outputs": [
    {
     "data": {
      "image/png": "[encoded data removed]",
      "text/plain": [
       "<Figure size 864x1440 with 8 Axes>"
      ]
     },
     "metadata": {
      "needs_background": "light"
     },
     "output_type": "display_data"
    }
   ],
   "source": [
    "fig = plt.figure(figsize=(12,20))\n",
    "for i, c in enumerate(C):\n",
    "    cls_df = result_df[result_df['assigned_class']==c]\n",
    "    ax = fig.add_subplot(4\n",
    "                         , 2\n",
    "                         , i+1\n",
    "                         , xlabel='score'\n",
    "                         , ylabel='num'\n",
    "                         , xlim=(0, 500)\n",
    "                         , ylim=(0, 20)\n",
    "                         , title='Class:{:s}'.format(c)\n",
    "                        )\n",
    "    ax.hist(cls_df['score'], bins=range(0,500,40))"
   ]
  },
  {
   "cell_type": "markdown",
   "metadata": {},
   "source": [
    "### ③制約の改善と数理最適化モデルの修正"
   ]
  },
  {
   "cell_type": "code",
   "execution_count": 40,
   "metadata": {},
   "outputs": [
    {
     "data": {
      "text/html": [
       "<div>\n",
       "<style scoped>\n",
       "    .dataframe tbody tr th:only-of-type {\n",
       "        vertical-align: middle;\n",
       "    }\n",
       "\n",
       "    .dataframe tbody tr th {\n",
       "        vertical-align: top;\n",
       "    }\n",
       "\n",
       "    .dataframe thead th {\n",
       "        text-align: right;\n",
       "    }\n",
       "</style>\n",
       "<table border=\"1\" class=\"dataframe\">\n",
       "  <thead>\n",
       "    <tr style=\"text-align: right;\">\n",
       "      <th></th>\n",
       "      <th>student_id</th>\n",
       "      <th>gender</th>\n",
       "      <th>leader_flag</th>\n",
       "      <th>support_flag</th>\n",
       "      <th>score</th>\n",
       "      <th>score_rank</th>\n",
       "      <th>init_assigned_class</th>\n",
       "    </tr>\n",
       "  </thead>\n",
       "  <tbody>\n",
       "    <tr>\n",
       "      <th>0</th>\n",
       "      <td>1</td>\n",
       "      <td>0</td>\n",
       "      <td>0</td>\n",
       "      <td>0</td>\n",
       "      <td>335</td>\n",
       "      <td>109.0</td>\n",
       "      <td>F</td>\n",
       "    </tr>\n",
       "    <tr>\n",
       "      <th>1</th>\n",
       "      <td>2</td>\n",
       "      <td>1</td>\n",
       "      <td>0</td>\n",
       "      <td>0</td>\n",
       "      <td>379</td>\n",
       "      <td>38.0</td>\n",
       "      <td>G</td>\n",
       "    </tr>\n",
       "    <tr>\n",
       "      <th>2</th>\n",
       "      <td>3</td>\n",
       "      <td>0</td>\n",
       "      <td>0</td>\n",
       "      <td>0</td>\n",
       "      <td>350</td>\n",
       "      <td>79.0</td>\n",
       "      <td>H</td>\n",
       "    </tr>\n",
       "    <tr>\n",
       "      <th>3</th>\n",
       "      <td>4</td>\n",
       "      <td>0</td>\n",
       "      <td>0</td>\n",
       "      <td>0</td>\n",
       "      <td>301</td>\n",
       "      <td>172.0</td>\n",
       "      <td>E</td>\n",
       "    </tr>\n",
       "    <tr>\n",
       "      <th>4</th>\n",
       "      <td>5</td>\n",
       "      <td>1</td>\n",
       "      <td>0</td>\n",
       "      <td>0</td>\n",
       "      <td>317</td>\n",
       "      <td>147.0</td>\n",
       "      <td>D</td>\n",
       "    </tr>\n",
       "  </tbody>\n",
       "</table>\n",
       "</div>"
      ],
      "text/plain": [
       "   student_id  gender  leader_flag  support_flag  score  score_rank  \\\n",
       "0           1       0            0             0    335       109.0   \n",
       "1           2       1            0             0    379        38.0   \n",
       "2           3       0            0             0    350        79.0   \n",
       "3           4       0            0             0    301       172.0   \n",
       "4           5       1            0             0    317       147.0   \n",
       "\n",
       "  init_assigned_class  \n",
       "0                   F  \n",
       "1                   G  \n",
       "2                   H  \n",
       "3                   E  \n",
       "4                   D  "
      ]
     },
     "execution_count": 40,
     "metadata": {},
     "output_type": "execute_result"
    }
   ],
   "source": [
    "# 初期クラス編成のデータを作成\n",
    "# 学力をもとに順位を付与\n",
    "s_df['score_rank'] = s_df['score'].rank(ascending=False, method='first') \n",
    "\n",
    "# 学力順にクラス編成し、init_assigned_classカラムを作成\n",
    "class_dic = {0:'A', 1:'B', 2:'C', 3:'D', 4:'E', 5:'F', 6:'G', 7:'H'}\n",
    "s_df['init_assigned_class'] = s_df['score_rank'].map(lambda x:x % 8).map(class_dic)\n",
    "s_df.head()"
   ]
  },
  {
   "cell_type": "code",
   "execution_count": 41,
   "metadata": {},
   "outputs": [],
   "source": [
    "# init_flagを作成\n",
    "init_flag = {(s,c):0 for s in S for c in C}\n",
    "\n",
    "for row in s_df.itertuples():\n",
    "    init_flag[row.student_id, row.init_assigned_class] = 1"
   ]
  },
  {
   "cell_type": "code",
   "execution_count": 42,
   "metadata": {},
   "outputs": [
    {
     "data": {
      "image/png": "[encoded data removed]",
      "text/plain": [
       "<Figure size 864x1440 with 8 Axes>"
      ]
     },
     "metadata": {
      "needs_background": "light"
     },
     "output_type": "display_data"
    }
   ],
   "source": [
    "fig = plt.figure(figsize=(12,20))\n",
    "for i, c in enumerate(C):\n",
    "    cls_df = s_df[s_df['init_assigned_class']==c]\n",
    "    ax = fig.add_subplot(4\n",
    "                         , 2\n",
    "                         , i+1\n",
    "                         , xlabel='score'\n",
    "                         , ylabel='num'\n",
    "                         , xlim=(0, 500)\n",
    "                         , ylim=(0, 20)\n",
    "                         , title='Class:{:s}'.format(c)\n",
    "                        )\n",
    "    ax.hist(cls_df['score'], bins=range(0,500,40))"
   ]
  },
  {
   "cell_type": "raw",
   "metadata": {},
   "source": [
    "# 目的関数:初期クラス編成と最適化結果のクラス編成をできるだけ一致させる\n",
    "prob += pulp.lpSum([x[s,c] * init_flag[s,c] for s,c in SC])"
   ]
  },
  {
   "cell_type": "markdown",
   "metadata": {},
   "source": [
    "### コード全体"
   ]
  },
  {
   "cell_type": "code",
   "execution_count": 43,
   "metadata": {},
   "outputs": [
    {
     "name": "stdout",
     "output_type": "stream",
     "text": [
      "Status: Optimal\n",
      "Class: A\n",
      "Num: 40\n",
      "Student: [2, 23, 56, 68, 76, 82, 89, 102, 106, 113, 115, 121, 123, 124, 127, 140, 172, 173, 185, 186, 204, 210, 228, 255, 267, 273, 274, 280, 285, 288, 289, 292, 295, 297, 304, 308, 311, 313, 316, 318]\n",
      "\n",
      "Class: B\n",
      "Num: 39\n",
      "Student: [11, 14, 17, 30, 32, 35, 41, 49, 64, 66, 79, 83, 86, 88, 97, 114, 119, 122, 132, 134, 141, 149, 151, 165, 175, 178, 190, 198, 200, 209, 213, 216, 226, 237, 272, 296, 303, 306, 307]\n",
      "\n",
      "Class: C\n",
      "Num: 40\n",
      "Student: [21, 38, 44, 46, 51, 54, 62, 63, 73, 75, 84, 85, 99, 120, 138, 142, 143, 144, 150, 166, 183, 184, 192, 193, 195, 201, 205, 207, 211, 212, 217, 221, 222, 243, 244, 263, 264, 287, 299, 315]\n",
      "\n",
      "Class: D\n",
      "Num: 40\n",
      "Student: [5, 24, 39, 47, 50, 61, 67, 74, 90, 92, 93, 100, 109, 116, 131, 136, 147, 152, 155, 167, 169, 170, 176, 177, 196, 199, 214, 218, 219, 227, 230, 231, 236, 238, 239, 253, 257, 259, 271, 309]\n",
      "\n",
      "Class: E\n",
      "Num: 39\n",
      "Student: [4, 8, 12, 13, 19, 22, 33, 43, 48, 55, 57, 59, 98, 112, 125, 130, 133, 137, 139, 153, 160, 189, 203, 234, 235, 240, 241, 249, 251, 254, 256, 261, 266, 268, 276, 283, 291, 294, 302]\n",
      "\n",
      "Class: F\n",
      "Num: 40\n",
      "Student: [1, 6, 16, 27, 28, 29, 40, 42, 45, 58, 70, 77, 91, 118, 128, 129, 135, 145, 146, 148, 156, 161, 162, 163, 174, 181, 188, 194, 202, 224, 229, 246, 258, 260, 262, 265, 286, 290, 300, 310]\n",
      "\n",
      "Class: G\n",
      "Num: 40\n",
      "Student: [7, 9, 10, 15, 18, 26, 31, 36, 37, 52, 71, 78, 80, 94, 96, 101, 104, 110, 126, 157, 159, 179, 180, 182, 191, 197, 215, 242, 245, 247, 248, 252, 275, 277, 282, 293, 298, 305, 312, 314]\n",
      "\n",
      "Class: H\n",
      "Num: 40\n",
      "Student: [3, 20, 25, 34, 53, 60, 65, 69, 72, 81, 87, 95, 103, 105, 107, 108, 111, 117, 154, 158, 164, 168, 171, 187, 206, 208, 220, 223, 225, 232, 233, 250, 269, 270, 278, 279, 281, 284, 301, 317]\n",
      "\n"
     ]
    }
   ],
   "source": [
    "import pandas as pd\n",
    "import pulp\n",
    "\n",
    "s_df = pd.read_csv('students.csv')\n",
    "s_pair_df = pd.read_csv('student_pairs.csv')\n",
    "\n",
    "prob = pulp.LpProblem('ClassAssignmentProblem', pulp.LpMaximize)\n",
    "\n",
    "# 生徒のリスト\n",
    "S = s_df['student_id'].tolist()\n",
    "\n",
    "# クラスのリスト\n",
    "C = ['A', 'B', 'C', 'D', 'E', 'F', 'G', 'H']\n",
    "\n",
    "# 生徒とクラスのペアのリスト\n",
    "SC = [(s,c) for s in S for c in C]\n",
    "\n",
    "# 生徒をどのクラスに割り当てるを変数として定義\n",
    "x = pulp.LpVariable.dicts('x', SC, cat='Binary')\n",
    "\n",
    "# (1)各生徒は１つのクラスに割り当てる\n",
    "for s in S:\n",
    "    prob += pulp.lpSum([x[s,c] for c in C]) == 1\n",
    "\n",
    "# (2)各クラスの生徒の人数は39人以上、40人以下とする。\n",
    "for c in C:\n",
    "    prob += pulp.lpSum([x[s,c] for s in S]) >= 39\n",
    "    prob += pulp.lpSum([x[s,c] for s in S]) <= 40\n",
    "\n",
    "# 男子生徒のリスト\n",
    "S_male = [row.student_id for row in s_df.itertuples() if row.gender == 1]\n",
    "\n",
    "# 女子生徒のリスト\n",
    "S_female = [row.student_id for row in s_df.itertuples() if row.gender == 0]\n",
    "\n",
    "# (3) 各クラスの男子生徒、女子生徒の人数は20人以下とする。\n",
    "for c in C:\n",
    "    prob += pulp.lpSum([x[s,c] for s in S_male]) <= 20\n",
    "    prob += pulp.lpSum([x[s,c] for s in S_female]) <= 20\n",
    "\n",
    "# 学力を辞書表現に変換\n",
    "score = {row.student_id:row.score for row in s_df.itertuples()}\n",
    "\n",
    "# 平均点の算出\n",
    "score_mean = s_df['score'].mean()\n",
    "\n",
    "# (4) 各クラスの学力試験の平均点は学年平均点±10点とする。      \n",
    "for c in C:\n",
    "    prob += pulp.lpSum([x[s,c]*score[s] for s in S]) >= (score_mean - 10) * pulp.lpSum([x[s,c] for s in S])\n",
    "    prob += pulp.lpSum([x[s,c]*score[s] for s in S]) <= (score_mean + 10) * pulp.lpSum([x[s,c] for s in S])\n",
    "\n",
    "# リーダー気質の生徒の集合\n",
    "S_leader = [row.student_id for row in s_df.itertuples() if row.leader_flag == 1]\n",
    "\n",
    "# (5)各クラスにリーダー気質の生徒を2人以上割り当てる。\n",
    "for c in C:\n",
    "    prob += pulp.lpSum([x[s,c] for s in S_leader]) >= 2\n",
    "\n",
    "# 特別な支援が必要な生徒の集合\n",
    "S_support = [row.student_id for row in s_df.itertuples() if row.support_flag == 1]\n",
    "\n",
    "# (6) 特別な支援が必要な生徒は各クラスに1人以下とする。\n",
    "for c in C:\n",
    "    prob += pulp.lpSum([x[s,c] for s in S_support]) <= 1\n",
    "\n",
    "# 生徒の特定ペアリスト\n",
    "SS = [(row.student_id1, row.student_id2) for row in s_pair_df.itertuples()]\n",
    "\n",
    "# (7) 特定ペアの生徒は同一クラスに割り当てない。\n",
    "for s1, s2 in SS:\n",
    "    for c in C:\n",
    "        prob += x[s1,c] + x[s2,c] <= 1\n",
    "\n",
    "# 初期クラス編成を作成\n",
    "s_df['score_rank'] = s_df['score'].rank(ascending=False, method='first')\n",
    "class_dic = {0:'A', 1:'B', 2:'C', 3:'D', 4:'E', 5:'F', 6:'G', 7:'H'}\n",
    "s_df['init_assigned_class'] = s_df['score_rank'].map(lambda x:x % 8).map(class_dic)\n",
    "init_flag = {(s,c): 0 for s in S for c in C}\n",
    "for row in s_df.itertuples():\n",
    "    init_flag[row.student_id, row.init_assigned_class] = 1\n",
    "    \n",
    "# 目的関数:初期クラス編成と最適化結果のクラス編成をできるだけ一致させる\n",
    "prob += pulp.lpSum([x[s,c] * init_flag[s,c] for s,c in SC])        \n",
    "\n",
    "# 求解        \n",
    "status = prob.solve()\n",
    "print('Status:', pulp.LpStatus[status])\n",
    "\n",
    "# 最適化結果の表示\n",
    "# 各クラスに割り当てられている生徒のリストを辞書に格納\n",
    "C2Ss = {}\n",
    "for c in C:\n",
    "    C2Ss[c] = [s for s in S if x[s,c].value()==1]\n",
    "    \n",
    "for c, Ss in C2Ss.items():\n",
    "    print('Class:', c)\n",
    "    print('Num:', len(Ss))\n",
    "    print('Student:', Ss)\n",
    "    print()"
   ]
  },
  {
   "cell_type": "code",
   "execution_count": 44,
   "metadata": {},
   "outputs": [
    {
     "data": {
      "text/html": [
       "<div>\n",
       "<style scoped>\n",
       "    .dataframe tbody tr th:only-of-type {\n",
       "        vertical-align: middle;\n",
       "    }\n",
       "\n",
       "    .dataframe tbody tr th {\n",
       "        vertical-align: top;\n",
       "    }\n",
       "\n",
       "    .dataframe thead th {\n",
       "        text-align: right;\n",
       "    }\n",
       "</style>\n",
       "<table border=\"1\" class=\"dataframe\">\n",
       "  <thead>\n",
       "    <tr style=\"text-align: right;\">\n",
       "      <th></th>\n",
       "      <th>student_id</th>\n",
       "      <th>gender</th>\n",
       "      <th>leader_flag</th>\n",
       "      <th>support_flag</th>\n",
       "      <th>score</th>\n",
       "      <th>score_rank</th>\n",
       "      <th>init_assigned_class</th>\n",
       "      <th>assigned_class</th>\n",
       "    </tr>\n",
       "  </thead>\n",
       "  <tbody>\n",
       "    <tr>\n",
       "      <th>0</th>\n",
       "      <td>1</td>\n",
       "      <td>0</td>\n",
       "      <td>0</td>\n",
       "      <td>0</td>\n",
       "      <td>335</td>\n",
       "      <td>109.0</td>\n",
       "      <td>F</td>\n",
       "      <td>F</td>\n",
       "    </tr>\n",
       "    <tr>\n",
       "      <th>1</th>\n",
       "      <td>2</td>\n",
       "      <td>1</td>\n",
       "      <td>0</td>\n",
       "      <td>0</td>\n",
       "      <td>379</td>\n",
       "      <td>38.0</td>\n",
       "      <td>G</td>\n",
       "      <td>A</td>\n",
       "    </tr>\n",
       "    <tr>\n",
       "      <th>2</th>\n",
       "      <td>3</td>\n",
       "      <td>0</td>\n",
       "      <td>0</td>\n",
       "      <td>0</td>\n",
       "      <td>350</td>\n",
       "      <td>79.0</td>\n",
       "      <td>H</td>\n",
       "      <td>H</td>\n",
       "    </tr>\n",
       "    <tr>\n",
       "      <th>3</th>\n",
       "      <td>4</td>\n",
       "      <td>0</td>\n",
       "      <td>0</td>\n",
       "      <td>0</td>\n",
       "      <td>301</td>\n",
       "      <td>172.0</td>\n",
       "      <td>E</td>\n",
       "      <td>E</td>\n",
       "    </tr>\n",
       "    <tr>\n",
       "      <th>4</th>\n",
       "      <td>5</td>\n",
       "      <td>1</td>\n",
       "      <td>0</td>\n",
       "      <td>0</td>\n",
       "      <td>317</td>\n",
       "      <td>147.0</td>\n",
       "      <td>D</td>\n",
       "      <td>D</td>\n",
       "    </tr>\n",
       "  </tbody>\n",
       "</table>\n",
       "</div>"
      ],
      "text/plain": [
       "   student_id  gender  leader_flag  support_flag  score  score_rank  \\\n",
       "0           1       0            0             0    335       109.0   \n",
       "1           2       1            0             0    379        38.0   \n",
       "2           3       0            0             0    350        79.0   \n",
       "3           4       0            0             0    301       172.0   \n",
       "4           5       1            0             0    317       147.0   \n",
       "\n",
       "  init_assigned_class assigned_class  \n",
       "0                   F              F  \n",
       "1                   G              A  \n",
       "2                   H              H  \n",
       "3                   E              E  \n",
       "4                   D              D  "
      ]
     },
     "execution_count": 44,
     "metadata": {},
     "output_type": "execute_result"
    }
   ],
   "source": [
    "# 検証用のデータフレームの用意\n",
    "result_df2 = s_df.copy()\n",
    "\n",
    "# 各生徒がどのクラスに割り当てられたかの情報を辞書に格納\n",
    "S2C = {}\n",
    "for s in S:\n",
    "    S2C[s] = [c for c in C if x[s,c].value()==1][0]\n",
    "\n",
    "# 生徒データに各生徒が度のクラスに割り当てられたかの情報を結合            \n",
    "result_df2['assigned_class'] = result_df2['student_id'].map(S2C)\n",
    "result_df2.head(5)"
   ]
  },
  {
   "cell_type": "code",
   "execution_count": 45,
   "metadata": {},
   "outputs": [
    {
     "data": {
      "image/png": "[encoded data removed]",
      "text/plain": [
       "<Figure size 864x1440 with 8 Axes>"
      ]
     },
     "metadata": {
      "needs_background": "light"
     },
     "output_type": "display_data"
    }
   ],
   "source": [
    "fig = plt.figure(figsize=(12,20))\n",
    "for i, c in enumerate(C):\n",
    "    cls_df = result_df2[result_df2['assigned_class']==c]\n",
    "    ax = fig.add_subplot(4\n",
    "                         , 2\n",
    "                         , i+1\n",
    "                         , xlabel='score'\n",
    "                         , ylabel='num'\n",
    "                         , xlim=(0, 500)\n",
    "                         , ylim=(0, 20)\n",
    "                         , title='Class:{:s}'.format(c)\n",
    "                        )    \n",
    "    ax.hist(cls_df['score'], bins=range(0,500,40))"
   ]
  }
 ],
 "metadata": {
  "kernelspec": {
   "display_name": "Python 3 (ipykernel)",
   "language": "python",
   "name": "python3"
  },
  "language_info": {
   "codemirror_mode": {
    "name": "ipython",
    "version": 3
   },
   "file_extension": ".py",
   "mimetype": "text/x-python",
   "name": "python",
   "nbconvert_exporter": "python",
   "pygments_lexer": "ipython3",
   "version": "3.7.8"
  }
 },
 "nbformat": 4,
 "nbformat_minor": 4
}
