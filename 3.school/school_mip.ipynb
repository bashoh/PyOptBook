{
 "cells": [
  {
   "cell_type": "code",
   "execution_count": 1,
   "id": "de98332f-825f-44be-8907-052319bc9353",
   "metadata": {},
   "outputs": [
    {
     "data": {
      "text/html": [
       "<div>\n",
       "<style scoped>\n",
       "    .dataframe tbody tr th:only-of-type {\n",
       "        vertical-align: middle;\n",
       "    }\n",
       "\n",
       "    .dataframe tbody tr th {\n",
       "        vertical-align: top;\n",
       "    }\n",
       "\n",
       "    .dataframe thead th {\n",
       "        text-align: right;\n",
       "    }\n",
       "</style>\n",
       "<table border=\"1\" class=\"dataframe\">\n",
       "  <thead>\n",
       "    <tr style=\"text-align: right;\">\n",
       "      <th></th>\n",
       "      <th>student_id</th>\n",
       "      <th>gender</th>\n",
       "      <th>leader_flag</th>\n",
       "      <th>support_flag</th>\n",
       "      <th>score</th>\n",
       "    </tr>\n",
       "  </thead>\n",
       "  <tbody>\n",
       "    <tr>\n",
       "      <th>0</th>\n",
       "      <td>1</td>\n",
       "      <td>0</td>\n",
       "      <td>0</td>\n",
       "      <td>0</td>\n",
       "      <td>335</td>\n",
       "    </tr>\n",
       "    <tr>\n",
       "      <th>1</th>\n",
       "      <td>2</td>\n",
       "      <td>1</td>\n",
       "      <td>0</td>\n",
       "      <td>0</td>\n",
       "      <td>379</td>\n",
       "    </tr>\n",
       "    <tr>\n",
       "      <th>2</th>\n",
       "      <td>3</td>\n",
       "      <td>0</td>\n",
       "      <td>0</td>\n",
       "      <td>0</td>\n",
       "      <td>350</td>\n",
       "    </tr>\n",
       "    <tr>\n",
       "      <th>3</th>\n",
       "      <td>4</td>\n",
       "      <td>0</td>\n",
       "      <td>0</td>\n",
       "      <td>0</td>\n",
       "      <td>301</td>\n",
       "    </tr>\n",
       "    <tr>\n",
       "      <th>4</th>\n",
       "      <td>5</td>\n",
       "      <td>1</td>\n",
       "      <td>0</td>\n",
       "      <td>0</td>\n",
       "      <td>317</td>\n",
       "    </tr>\n",
       "    <tr>\n",
       "      <th>...</th>\n",
       "      <td>...</td>\n",
       "      <td>...</td>\n",
       "      <td>...</td>\n",
       "      <td>...</td>\n",
       "      <td>...</td>\n",
       "    </tr>\n",
       "    <tr>\n",
       "      <th>313</th>\n",
       "      <td>314</td>\n",
       "      <td>0</td>\n",
       "      <td>0</td>\n",
       "      <td>0</td>\n",
       "      <td>244</td>\n",
       "    </tr>\n",
       "    <tr>\n",
       "      <th>314</th>\n",
       "      <td>315</td>\n",
       "      <td>1</td>\n",
       "      <td>0</td>\n",
       "      <td>0</td>\n",
       "      <td>309</td>\n",
       "    </tr>\n",
       "    <tr>\n",
       "      <th>315</th>\n",
       "      <td>316</td>\n",
       "      <td>0</td>\n",
       "      <td>0</td>\n",
       "      <td>0</td>\n",
       "      <td>239</td>\n",
       "    </tr>\n",
       "    <tr>\n",
       "      <th>316</th>\n",
       "      <td>317</td>\n",
       "      <td>1</td>\n",
       "      <td>0</td>\n",
       "      <td>0</td>\n",
       "      <td>356</td>\n",
       "    </tr>\n",
       "    <tr>\n",
       "      <th>317</th>\n",
       "      <td>318</td>\n",
       "      <td>0</td>\n",
       "      <td>0</td>\n",
       "      <td>0</td>\n",
       "      <td>256</td>\n",
       "    </tr>\n",
       "  </tbody>\n",
       "</table>\n",
       "<p>318 rows × 5 columns</p>\n",
       "</div>"
      ],
      "text/plain": [
       "     student_id  gender  leader_flag  support_flag  score\n",
       "0             1       0            0             0    335\n",
       "1             2       1            0             0    379\n",
       "2             3       0            0             0    350\n",
       "3             4       0            0             0    301\n",
       "4             5       1            0             0    317\n",
       "..          ...     ...          ...           ...    ...\n",
       "313         314       0            0             0    244\n",
       "314         315       1            0             0    309\n",
       "315         316       0            0             0    239\n",
       "316         317       1            0             0    356\n",
       "317         318       0            0             0    256\n",
       "\n",
       "[318 rows x 5 columns]"
      ]
     },
     "execution_count": 1,
     "metadata": {},
     "output_type": "execute_result"
    }
   ],
   "source": [
    "import pandas as pd\n",
    "\n",
    "s_df = pd.read_csv('students.csv')\n",
    "s_df"
   ]
  },
  {
   "cell_type": "code",
   "execution_count": 2,
   "id": "d5f97e2c-8f5e-4653-8692-4016c9449551",
   "metadata": {},
   "outputs": [
    {
     "data": {
      "text/plain": [
       "0    160\n",
       "1    158\n",
       "Name: gender, dtype: int64"
      ]
     },
     "execution_count": 2,
     "metadata": {},
     "output_type": "execute_result"
    }
   ],
   "source": [
    "s_df['gender'].value_counts()"
   ]
  },
  {
   "cell_type": "code",
   "execution_count": 3,
   "id": "bb6cbaf1-815f-4ae9-8ad0-af85e4079f7c",
   "metadata": {},
   "outputs": [
    {
     "data": {
      "text/plain": [
       "0    314\n",
       "1      4\n",
       "Name: support_flag, dtype: int64"
      ]
     },
     "execution_count": 3,
     "metadata": {},
     "output_type": "execute_result"
    }
   ],
   "source": [
    "s_df['support_flag'].value_counts()"
   ]
  },
  {
   "cell_type": "code",
   "execution_count": 4,
   "id": "e166d4b1-6dde-47f1-9320-bce326108d2c",
   "metadata": {},
   "outputs": [
    {
     "data": {
      "text/plain": [
       "0    301\n",
       "1     17\n",
       "Name: leader_flag, dtype: int64"
      ]
     },
     "execution_count": 4,
     "metadata": {},
     "output_type": "execute_result"
    }
   ],
   "source": [
    "s_df['leader_flag'].value_counts()"
   ]
  },
  {
   "cell_type": "code",
   "execution_count": 5,
   "id": "91541709-fce9-48c5-9b8f-fd0675d7404b",
   "metadata": {},
   "outputs": [
    {
     "data": {
      "text/plain": [
       "count    318.000000\n",
       "mean     303.644654\n",
       "std       65.179995\n",
       "min       88.000000\n",
       "25%      261.000000\n",
       "50%      310.000000\n",
       "75%      350.000000\n",
       "max      485.000000\n",
       "Name: score, dtype: float64"
      ]
     },
     "execution_count": 5,
     "metadata": {},
     "output_type": "execute_result"
    }
   ],
   "source": [
    "s_df['score'].describe()"
   ]
  },
  {
   "cell_type": "code",
   "execution_count": 6,
   "id": "426a4b43-2a42-4b10-ab49-26004c0c6353",
   "metadata": {},
   "outputs": [
    {
     "data": {
      "text/plain": [
       "<AxesSubplot:>"
      ]
     },
     "execution_count": 6,
     "metadata": {},
     "output_type": "execute_result"
    },
    {
     "data": {
      "image/png": "[encoded data removed]",
      "text/plain": [
       "<Figure size 432x288 with 1 Axes>"
      ]
     },
     "metadata": {
      "needs_background": "light"
     },
     "output_type": "display_data"
    }
   ],
   "source": [
    "s_df['score'].hist()"
   ]
  },
  {
   "cell_type": "code",
   "execution_count": 7,
   "id": "f065dc3a-7ade-4a73-bd2e-32e6154ba386",
   "metadata": {},
   "outputs": [
    {
     "data": {
      "text/html": [
       "<div>\n",
       "<style scoped>\n",
       "    .dataframe tbody tr th:only-of-type {\n",
       "        vertical-align: middle;\n",
       "    }\n",
       "\n",
       "    .dataframe tbody tr th {\n",
       "        vertical-align: top;\n",
       "    }\n",
       "\n",
       "    .dataframe thead th {\n",
       "        text-align: right;\n",
       "    }\n",
       "</style>\n",
       "<table border=\"1\" class=\"dataframe\">\n",
       "  <thead>\n",
       "    <tr style=\"text-align: right;\">\n",
       "      <th></th>\n",
       "      <th>student_id1</th>\n",
       "      <th>student_id2</th>\n",
       "    </tr>\n",
       "  </thead>\n",
       "  <tbody>\n",
       "    <tr>\n",
       "      <th>0</th>\n",
       "      <td>118</td>\n",
       "      <td>189</td>\n",
       "    </tr>\n",
       "    <tr>\n",
       "      <th>1</th>\n",
       "      <td>72</td>\n",
       "      <td>50</td>\n",
       "    </tr>\n",
       "    <tr>\n",
       "      <th>2</th>\n",
       "      <td>314</td>\n",
       "      <td>233</td>\n",
       "    </tr>\n",
       "  </tbody>\n",
       "</table>\n",
       "</div>"
      ],
      "text/plain": [
       "   student_id1  student_id2\n",
       "0          118          189\n",
       "1           72           50\n",
       "2          314          233"
      ]
     },
     "execution_count": 7,
     "metadata": {},
     "output_type": "execute_result"
    }
   ],
   "source": [
    "s_pair_df = pd.read_csv('student_pairs.csv')\n",
    "s_pair_df"
   ]
  },
  {
   "cell_type": "code",
   "execution_count": 8,
   "id": "1c8127fe-7897-476c-bfa4-598f4ee8f8f0",
   "metadata": {},
   "outputs": [
    {
     "data": {
      "text/plain": [
       "{'A': 0, 'B': 1, 'C': 2, 'D': 3, 'E': 4, 'F': 5, 'G': 6, 'H': 7}"
      ]
     },
     "execution_count": 8,
     "metadata": {},
     "output_type": "execute_result"
    }
   ],
   "source": [
    "from mip import *\n",
    "\n",
    "m = Model()\n",
    "\n",
    "S = s_df.student_id.tolist()\n",
    "C = ['A', 'B', 'C', 'D', 'E', 'F', 'G', 'H']\n",
    "\n",
    "SC = [(s,c) for s in S for c in C]\n",
    "\n",
    "x = m.add_var_tensor((len(S),len(C)), name='x', var_type=BINARY)\n",
    "\n",
    "C_dict = {c:i for (c,i) in zip(C,range(len(C)))}\n",
    "C_dict"
   ]
  },
  {
   "cell_type": "code",
   "execution_count": 9,
   "id": "d9293531-6250-4e77-8272-fb09f5f85988",
   "metadata": {},
   "outputs": [],
   "source": [
    "#Each student is allocated to exactly one class\n",
    "for s in S:\n",
    "    m += xsum(x[s-1,C_dict[c]] for c in C) == 1\n",
    "\n",
    "#There are 39 or 40 students in each class\n",
    "for c in C:\n",
    "    m += xsum(x[s-1,C_dict[c]] for s in S) >=39\n",
    "    m += xsum(x[s-1,C_dict[c]] for s in S) <=40"
   ]
  },
  {
   "cell_type": "code",
   "execution_count": 10,
   "id": "5ddd253e-c655-400b-87b1-463b8f29d555",
   "metadata": {},
   "outputs": [],
   "source": [
    "# 男子生徒のリスト\n",
    "S_male = [row.student_id for row in s_df.itertuples() if row.gender == 1]\n",
    "\n",
    "# 女子生徒のリスト\n",
    "S_female = [row.student_id for row in s_df.itertuples() if row.gender == 0]"
   ]
  },
  {
   "cell_type": "code",
   "execution_count": 11,
   "id": "7bb03092-fdb3-4f30-b63b-2e6d0cf1d8d7",
   "metadata": {},
   "outputs": [],
   "source": [
    "# # of male and female students <= 20\n",
    "for c in C:\n",
    "    m += xsum(x[s-1,C_dict[c]] for s in S_male) <=20\n",
    "    m += xsum(x[s-1,C_dict[c]] for s in S_female) <=20"
   ]
  },
  {
   "cell_type": "code",
   "execution_count": 12,
   "id": "330e279b-74cc-435d-ab4c-2b074ae96afa",
   "metadata": {},
   "outputs": [
    {
     "name": "stdout",
     "output_type": "stream",
     "text": [
      "303.6446540880503\n"
     ]
    }
   ],
   "source": [
    "score = {row.student_id:row.score for row in s_df.itertuples()}\n",
    "\n",
    "# 平均点の算出\n",
    "score_mean = s_df['score'].mean()\n",
    "print(score_mean)"
   ]
  },
  {
   "cell_type": "code",
   "execution_count": 13,
   "id": "a34f08bd-334c-4a04-8fa9-6c64e1f453a9",
   "metadata": {},
   "outputs": [],
   "source": [
    "# Ave score of each class should be score_mean +- 10\n",
    "for c in C:\n",
    "    m += (score_mean - 10) * xsum([x[s-1,C_dict[c]] for s in S]) <= xsum([x[s-1,C_dict[c]] * score[s] for s in S])\n",
    "    m += xsum([x[s-1,C_dict[c]] * score[s] for s in S]) <= (score_mean + 10) * xsum([x[s-1,C_dict[c]] for s in S])"
   ]
  },
  {
   "cell_type": "code",
   "execution_count": 14,
   "id": "b2b369a2-1390-404d-97c9-301d3dbc0a74",
   "metadata": {},
   "outputs": [],
   "source": [
    "# リーダー気質の生徒の集合\n",
    "S_leader = [row.student_id for row in s_df.itertuples() if row.leader_flag == 1]\n",
    "\n",
    "# (5)各クラスにリーダー気質の生徒を2人以上割り当てる。\n",
    "for c in C:\n",
    "    m += xsum([x[s-1,C_dict[c]] for s in S_leader]) >= 2\n",
    "\n",
    "# 特別な支援が必要な生徒の集合\n",
    "S_support = [row.student_id for row in s_df.itertuples() if row.support_flag == 1]\n",
    "\n",
    "# (6) 特別な支援が必要な生徒は各クラスに1人以下とする。\n",
    "for c in C:\n",
    "    m += xsum([x[s-1,C_dict[c]] for s in S_support]) <= 1\n",
    "\n",
    "    # 生徒の特定ペアリスト\n",
    "SS = [(row.student_id1, row.student_id2) for row in s_pair_df.itertuples()]\n",
    "\n",
    "# (7) 特定ペアの生徒は同一クラスに割り当てない。\n",
    "for row in s_pair_df.itertuples():\n",
    "    s1 = row.student_id1\n",
    "    s2 = row.student_id2\n",
    "    for c in C:\n",
    "        m += x[s1-1,C_dict[c]] + x[s2-1,C_dict[c]] <= 1"
   ]
  },
  {
   "cell_type": "code",
   "execution_count": 15,
   "id": "186efa8a-eae6-4bfa-b858-60b7194dfd42",
   "metadata": {},
   "outputs": [
    {
     "data": {
      "text/plain": [
       "<OptimizationStatus.OPTIMAL: 0>"
      ]
     },
     "execution_count": 15,
     "metadata": {},
     "output_type": "execute_result"
    }
   ],
   "source": [
    "m.optimize()"
   ]
  },
  {
   "cell_type": "code",
   "execution_count": 16,
   "id": "540e3ef9-2e7b-429e-bbe6-a440f1d3c821",
   "metadata": {},
   "outputs": [],
   "source": [
    "C2Ss = {}\n",
    "for c in C:\n",
    "    C2Ss[c] = [s for s in S if x[s-1,C_dict[c]].x==1]"
   ]
  },
  {
   "cell_type": "code",
   "execution_count": 17,
   "id": "9473a4cc-ce2c-496b-bba7-207c30c7dcd6",
   "metadata": {},
   "outputs": [
    {
     "name": "stdout",
     "output_type": "stream",
     "text": [
      "Class: A\n",
      "Num: 40\n",
      "Student: [20, 64, 65, 70, 72, 84, 94, 96, 104, 105, 124, 133, 148, 151, 161, 166, 178, 188, 192, 196, 199, 203, 205, 224, 230, 234, 238, 241, 243, 247, 250, 253, 283, 284, 291, 294, 307, 308, 310, 315]\n",
      "\n",
      "Class: B\n",
      "Num: 40\n",
      "Student: [4, 5, 8, 9, 22, 30, 32, 35, 36, 40, 41, 43, 68, 99, 108, 112, 116, 118, 121, 136, 137, 150, 152, 162, 167, 174, 182, 204, 215, 221, 228, 239, 240, 244, 251, 289, 295, 303, 313, 314]\n",
      "\n",
      "Class: C\n",
      "Num: 40\n",
      "Student: [1, 2, 17, 18, 23, 29, 37, 46, 48, 60, 62, 71, 74, 76, 81, 88, 95, 103, 126, 131, 139, 140, 149, 153, 154, 179, 185, 198, 201, 209, 227, 231, 235, 246, 254, 263, 270, 272, 274, 276]\n",
      "\n",
      "Class: D\n",
      "Num: 40\n",
      "Student: [3, 11, 15, 27, 28, 50, 54, 61, 73, 100, 107, 113, 114, 122, 125, 134, 146, 156, 159, 160, 187, 189, 211, 213, 223, 225, 229, 245, 255, 257, 260, 265, 266, 273, 278, 282, 287, 292, 306, 318]\n",
      "\n",
      "Class: E\n",
      "Num: 39\n",
      "Student: [13, 14, 21, 25, 45, 47, 49, 52, 56, 57, 69, 75, 85, 87, 89, 90, 91, 97, 119, 130, 143, 163, 177, 183, 184, 193, 197, 206, 210, 236, 242, 256, 258, 267, 277, 280, 296, 298, 317]\n",
      "\n",
      "Class: F\n",
      "Num: 40\n",
      "Student: [7, 12, 33, 38, 55, 59, 67, 77, 86, 93, 98, 109, 111, 115, 123, 129, 132, 141, 155, 171, 172, 180, 186, 195, 207, 218, 220, 232, 252, 264, 271, 279, 285, 286, 288, 290, 302, 304, 305, 312]\n",
      "\n",
      "Class: G\n",
      "Num: 40\n",
      "Student: [6, 42, 53, 79, 80, 82, 92, 102, 110, 117, 120, 127, 144, 157, 158, 165, 169, 170, 173, 176, 181, 190, 194, 200, 208, 212, 214, 216, 219, 222, 233, 248, 261, 262, 269, 275, 293, 297, 299, 301]\n",
      "\n",
      "Class: H\n",
      "Num: 39\n",
      "Student: [10, 16, 19, 24, 26, 31, 34, 39, 44, 51, 58, 63, 66, 78, 83, 101, 106, 128, 135, 138, 142, 145, 147, 164, 168, 175, 191, 202, 217, 226, 237, 249, 259, 268, 281, 300, 309, 311, 316]\n",
      "\n"
     ]
    }
   ],
   "source": [
    "for c, Ss in C2Ss.items():\n",
    "    print('Class:', c)\n",
    "    print('Num:', len(Ss))\n",
    "    print('Student:', Ss)\n",
    "    print()"
   ]
  },
  {
   "cell_type": "code",
   "execution_count": 18,
   "id": "3056b7af-49a8-4c60-8f4d-2c5a337d642d",
   "metadata": {},
   "outputs": [
    {
     "data": {
      "text/plain": [
       "dict_items([('A', [20, 64, 65, 70, 72, 84, 94, 96, 104, 105, 124, 133, 148, 151, 161, 166, 178, 188, 192, 196, 199, 203, 205, 224, 230, 234, 238, 241, 243, 247, 250, 253, 283, 284, 291, 294, 307, 308, 310, 315]), ('B', [4, 5, 8, 9, 22, 30, 32, 35, 36, 40, 41, 43, 68, 99, 108, 112, 116, 118, 121, 136, 137, 150, 152, 162, 167, 174, 182, 204, 215, 221, 228, 239, 240, 244, 251, 289, 295, 303, 313, 314]), ('C', [1, 2, 17, 18, 23, 29, 37, 46, 48, 60, 62, 71, 74, 76, 81, 88, 95, 103, 126, 131, 139, 140, 149, 153, 154, 179, 185, 198, 201, 209, 227, 231, 235, 246, 254, 263, 270, 272, 274, 276]), ('D', [3, 11, 15, 27, 28, 50, 54, 61, 73, 100, 107, 113, 114, 122, 125, 134, 146, 156, 159, 160, 187, 189, 211, 213, 223, 225, 229, 245, 255, 257, 260, 265, 266, 273, 278, 282, 287, 292, 306, 318]), ('E', [13, 14, 21, 25, 45, 47, 49, 52, 56, 57, 69, 75, 85, 87, 89, 90, 91, 97, 119, 130, 143, 163, 177, 183, 184, 193, 197, 206, 210, 236, 242, 256, 258, 267, 277, 280, 296, 298, 317]), ('F', [7, 12, 33, 38, 55, 59, 67, 77, 86, 93, 98, 109, 111, 115, 123, 129, 132, 141, 155, 171, 172, 180, 186, 195, 207, 218, 220, 232, 252, 264, 271, 279, 285, 286, 288, 290, 302, 304, 305, 312]), ('G', [6, 42, 53, 79, 80, 82, 92, 102, 110, 117, 120, 127, 144, 157, 158, 165, 169, 170, 173, 176, 181, 190, 194, 200, 208, 212, 214, 216, 219, 222, 233, 248, 261, 262, 269, 275, 293, 297, 299, 301]), ('H', [10, 16, 19, 24, 26, 31, 34, 39, 44, 51, 58, 63, 66, 78, 83, 101, 106, 128, 135, 138, 142, 145, 147, 164, 168, 175, 191, 202, 217, 226, 237, 249, 259, 268, 281, 300, 309, 311, 316])])"
      ]
     },
     "execution_count": 18,
     "metadata": {},
     "output_type": "execute_result"
    }
   ],
   "source": [
    "C2Ss.items()"
   ]
  },
  {
   "cell_type": "markdown",
   "id": "1e5c48a4-f10a-4abe-9887-96176d31f631",
   "metadata": {},
   "source": [
    "### 解が条件を満たしているか確認"
   ]
  },
  {
   "cell_type": "markdown",
   "id": "ca8799c1-d87b-4f5a-80fc-d9edcf91fb85",
   "metadata": {},
   "source": [
    "生徒が丁度1つのクラスに属しているか"
   ]
  },
  {
   "cell_type": "code",
   "execution_count": 19,
   "id": "f76ec075-6bb7-41b6-b0e7-21fc684671c7",
   "metadata": {},
   "outputs": [],
   "source": [
    "for s in S:\n",
    "    assigned_class = [x[s-1,C_dict[c]].x for c in C if x[s-1,C_dict[c]].x == 1]\n",
    "    \n",
    "    if len(assigned_class) != 1:\n",
    "        print('error:', s, assigned_class)\n",
    "    "
   ]
  },
  {
   "cell_type": "markdown",
   "id": "e59f4879-7a76-4600-a981-a2a5fb523a80",
   "metadata": {},
   "source": [
    "検証用DataFrame"
   ]
  },
  {
   "cell_type": "code",
   "execution_count": 20,
   "id": "2264fba7-c597-43df-8af8-c0b83552aba8",
   "metadata": {},
   "outputs": [
    {
     "data": {
      "text/html": [
       "<div>\n",
       "<style scoped>\n",
       "    .dataframe tbody tr th:only-of-type {\n",
       "        vertical-align: middle;\n",
       "    }\n",
       "\n",
       "    .dataframe tbody tr th {\n",
       "        vertical-align: top;\n",
       "    }\n",
       "\n",
       "    .dataframe thead th {\n",
       "        text-align: right;\n",
       "    }\n",
       "</style>\n",
       "<table border=\"1\" class=\"dataframe\">\n",
       "  <thead>\n",
       "    <tr style=\"text-align: right;\">\n",
       "      <th></th>\n",
       "      <th>student_id</th>\n",
       "      <th>gender</th>\n",
       "      <th>leader_flag</th>\n",
       "      <th>support_flag</th>\n",
       "      <th>score</th>\n",
       "      <th>assigned_class</th>\n",
       "    </tr>\n",
       "  </thead>\n",
       "  <tbody>\n",
       "    <tr>\n",
       "      <th>0</th>\n",
       "      <td>1</td>\n",
       "      <td>0</td>\n",
       "      <td>0</td>\n",
       "      <td>0</td>\n",
       "      <td>335</td>\n",
       "      <td>C</td>\n",
       "    </tr>\n",
       "    <tr>\n",
       "      <th>1</th>\n",
       "      <td>2</td>\n",
       "      <td>1</td>\n",
       "      <td>0</td>\n",
       "      <td>0</td>\n",
       "      <td>379</td>\n",
       "      <td>C</td>\n",
       "    </tr>\n",
       "    <tr>\n",
       "      <th>2</th>\n",
       "      <td>3</td>\n",
       "      <td>0</td>\n",
       "      <td>0</td>\n",
       "      <td>0</td>\n",
       "      <td>350</td>\n",
       "      <td>D</td>\n",
       "    </tr>\n",
       "    <tr>\n",
       "      <th>3</th>\n",
       "      <td>4</td>\n",
       "      <td>0</td>\n",
       "      <td>0</td>\n",
       "      <td>0</td>\n",
       "      <td>301</td>\n",
       "      <td>B</td>\n",
       "    </tr>\n",
       "    <tr>\n",
       "      <th>4</th>\n",
       "      <td>5</td>\n",
       "      <td>1</td>\n",
       "      <td>0</td>\n",
       "      <td>0</td>\n",
       "      <td>317</td>\n",
       "      <td>B</td>\n",
       "    </tr>\n",
       "    <tr>\n",
       "      <th>...</th>\n",
       "      <td>...</td>\n",
       "      <td>...</td>\n",
       "      <td>...</td>\n",
       "      <td>...</td>\n",
       "      <td>...</td>\n",
       "      <td>...</td>\n",
       "    </tr>\n",
       "    <tr>\n",
       "      <th>313</th>\n",
       "      <td>314</td>\n",
       "      <td>0</td>\n",
       "      <td>0</td>\n",
       "      <td>0</td>\n",
       "      <td>244</td>\n",
       "      <td>B</td>\n",
       "    </tr>\n",
       "    <tr>\n",
       "      <th>314</th>\n",
       "      <td>315</td>\n",
       "      <td>1</td>\n",
       "      <td>0</td>\n",
       "      <td>0</td>\n",
       "      <td>309</td>\n",
       "      <td>A</td>\n",
       "    </tr>\n",
       "    <tr>\n",
       "      <th>315</th>\n",
       "      <td>316</td>\n",
       "      <td>0</td>\n",
       "      <td>0</td>\n",
       "      <td>0</td>\n",
       "      <td>239</td>\n",
       "      <td>H</td>\n",
       "    </tr>\n",
       "    <tr>\n",
       "      <th>316</th>\n",
       "      <td>317</td>\n",
       "      <td>1</td>\n",
       "      <td>0</td>\n",
       "      <td>0</td>\n",
       "      <td>356</td>\n",
       "      <td>E</td>\n",
       "    </tr>\n",
       "    <tr>\n",
       "      <th>317</th>\n",
       "      <td>318</td>\n",
       "      <td>0</td>\n",
       "      <td>0</td>\n",
       "      <td>0</td>\n",
       "      <td>256</td>\n",
       "      <td>D</td>\n",
       "    </tr>\n",
       "  </tbody>\n",
       "</table>\n",
       "<p>318 rows × 6 columns</p>\n",
       "</div>"
      ],
      "text/plain": [
       "     student_id  gender  leader_flag  support_flag  score assigned_class\n",
       "0             1       0            0             0    335              C\n",
       "1             2       1            0             0    379              C\n",
       "2             3       0            0             0    350              D\n",
       "3             4       0            0             0    301              B\n",
       "4             5       1            0             0    317              B\n",
       "..          ...     ...          ...           ...    ...            ...\n",
       "313         314       0            0             0    244              B\n",
       "314         315       1            0             0    309              A\n",
       "315         316       0            0             0    239              H\n",
       "316         317       1            0             0    356              E\n",
       "317         318       0            0             0    256              D\n",
       "\n",
       "[318 rows x 6 columns]"
      ]
     },
     "execution_count": 20,
     "metadata": {},
     "output_type": "execute_result"
    }
   ],
   "source": [
    "result_df = s_df.copy()\n",
    "\n",
    "S2C = {s:c for s in S for c in C if x[s-1,C_dict[c]].x == 1}\n",
    "\n",
    "result_df['assigned_class'] = result_df['student_id'].map(S2C)\n",
    "result_df"
   ]
  },
  {
   "cell_type": "code",
   "execution_count": 21,
   "id": "68e0725e-97b9-4014-96f7-51fe4a28c3b2",
   "metadata": {},
   "outputs": [
    {
     "data": {
      "text/plain": [
       "assigned_class\n",
       "A    40\n",
       "B    40\n",
       "C    40\n",
       "D    40\n",
       "E    39\n",
       "F    40\n",
       "G    40\n",
       "H    39\n",
       "Name: student_id, dtype: int64"
      ]
     },
     "execution_count": 21,
     "metadata": {},
     "output_type": "execute_result"
    }
   ],
   "source": [
    "result_df.groupby('assigned_class').student_id.count()"
   ]
  },
  {
   "cell_type": "code",
   "execution_count": 22,
   "id": "ef24eb4e-89ed-4c46-8de7-9dfd8585a055",
   "metadata": {},
   "outputs": [
    {
     "data": {
      "text/plain": [
       "assigned_class  gender\n",
       "A               0         20\n",
       "                1         20\n",
       "B               0         20\n",
       "                1         20\n",
       "C               0         20\n",
       "                1         20\n",
       "D               0         20\n",
       "                1         20\n",
       "E               0         20\n",
       "                1         19\n",
       "F               0         20\n",
       "                1         20\n",
       "G               0         20\n",
       "                1         20\n",
       "H               0         20\n",
       "                1         19\n",
       "Name: student_id, dtype: int64"
      ]
     },
     "execution_count": 22,
     "metadata": {},
     "output_type": "execute_result"
    }
   ],
   "source": [
    "result_df.groupby(['assigned_class', 'gender']).student_id.count()"
   ]
  },
  {
   "cell_type": "code",
   "execution_count": 23,
   "id": "625f799e-1c6c-423f-b461-c6cf7c2b9113",
   "metadata": {},
   "outputs": [
    {
     "data": {
      "text/plain": [
       "assigned_class\n",
       "A    296.625000\n",
       "B    312.175000\n",
       "C    303.525000\n",
       "D    294.050000\n",
       "E    313.153846\n",
       "F    302.400000\n",
       "G    313.250000\n",
       "H    293.974359\n",
       "Name: score, dtype: float64"
      ]
     },
     "execution_count": 23,
     "metadata": {},
     "output_type": "execute_result"
    }
   ],
   "source": [
    "result_df.groupby('assigned_class').score.mean()"
   ]
  },
  {
   "cell_type": "code",
   "execution_count": 24,
   "id": "f19ebb79-7f93-436a-8dda-794909a467eb",
   "metadata": {},
   "outputs": [
    {
     "data": {
      "text/plain": [
       "assigned_class\n",
       "A    2\n",
       "B    2\n",
       "C    2\n",
       "D    2\n",
       "E    3\n",
       "F    2\n",
       "G    2\n",
       "H    2\n",
       "Name: leader_flag, dtype: int64"
      ]
     },
     "execution_count": 24,
     "metadata": {},
     "output_type": "execute_result"
    }
   ],
   "source": [
    "result_df.groupby(['assigned_class']).leader_flag.sum()"
   ]
  },
  {
   "cell_type": "code",
   "execution_count": 25,
   "id": "d4db4b36-f8f0-47e4-835f-735b5bd5bd67",
   "metadata": {},
   "outputs": [
    {
     "data": {
      "text/plain": [
       "assigned_class\n",
       "A    0\n",
       "B    0\n",
       "C    1\n",
       "D    1\n",
       "E    1\n",
       "F    0\n",
       "G    0\n",
       "H    1\n",
       "Name: support_flag, dtype: int64"
      ]
     },
     "execution_count": 25,
     "metadata": {},
     "output_type": "execute_result"
    }
   ],
   "source": [
    "result_df.groupby(['assigned_class']).support_flag.sum()"
   ]
  },
  {
   "cell_type": "code",
   "execution_count": 26,
   "id": "aab47137-f03f-4c24-863a-93bbb1777988",
   "metadata": {},
   "outputs": [
    {
     "name": "stdout",
     "output_type": "stream",
     "text": [
      "case: 0\n",
      "s1:118-B\n",
      "s2:189-D\n",
      "\n",
      "case: 1\n",
      "s1:72-A\n",
      "s2:50-D\n",
      "\n",
      "case: 2\n",
      "s1:314-B\n",
      "s2:233-G\n",
      "\n"
     ]
    }
   ],
   "source": [
    "for i, (s1, s2) in enumerate(SS):\n",
    "    print('case:',i)\n",
    "    c1 = S2C[s1]\n",
    "    c2 = S2C[s2]\n",
    "    print('s1:{}-{}'.format(s1, c1))\n",
    "    print('s2:{}-{}'.format(s2, c2))\n",
    "    print('')"
   ]
  },
  {
   "cell_type": "markdown",
   "id": "23f11699-1529-4271-9aeb-366fc7bab994",
   "metadata": {},
   "source": [
    "### 制約の見直し"
   ]
  },
  {
   "cell_type": "code",
   "execution_count": 27,
   "id": "eaa32ae5-61a9-41e6-8778-f69057cface2",
   "metadata": {},
   "outputs": [
    {
     "data": {
      "image/png": "[encoded data removed]",
      "text/plain": [
       "<Figure size 864x1440 with 8 Axes>"
      ]
     },
     "metadata": {
      "needs_background": "light"
     },
     "output_type": "display_data"
    }
   ],
   "source": [
    "import matplotlib.pyplot as plt\n",
    "\n",
    "fig = plt.figure(figsize=(12,20))\n",
    "for i, c in enumerate(C):\n",
    "    cls_df = result_df[result_df['assigned_class']==c]\n",
    "    ax = fig.add_subplot(4\n",
    "                         , 2\n",
    "                         , i+1\n",
    "                         , xlabel='score'\n",
    "                         , ylabel='num'\n",
    "                         , xlim=(0, 500)\n",
    "                         , ylim=(0, 30)\n",
    "                         , title='Class:{:s}'.format(c)\n",
    "                        )\n",
    "    ax.hist(cls_df['score'], bins=range(0,500,40))"
   ]
  },
  {
   "cell_type": "markdown",
   "id": "046aed66-3420-4d83-a419-0f090c2c5a59",
   "metadata": {},
   "source": [
    "### モデルの修正"
   ]
  },
  {
   "cell_type": "code",
   "execution_count": 28,
   "id": "3815412a-6fed-40f2-8276-b61e1585073a",
   "metadata": {},
   "outputs": [
    {
     "data": {
      "text/html": [
       "<div>\n",
       "<style scoped>\n",
       "    .dataframe tbody tr th:only-of-type {\n",
       "        vertical-align: middle;\n",
       "    }\n",
       "\n",
       "    .dataframe tbody tr th {\n",
       "        vertical-align: top;\n",
       "    }\n",
       "\n",
       "    .dataframe thead th {\n",
       "        text-align: right;\n",
       "    }\n",
       "</style>\n",
       "<table border=\"1\" class=\"dataframe\">\n",
       "  <thead>\n",
       "    <tr style=\"text-align: right;\">\n",
       "      <th></th>\n",
       "      <th>student_id</th>\n",
       "      <th>gender</th>\n",
       "      <th>leader_flag</th>\n",
       "      <th>support_flag</th>\n",
       "      <th>score</th>\n",
       "      <th>score_rank</th>\n",
       "      <th>init_assigned_class</th>\n",
       "    </tr>\n",
       "  </thead>\n",
       "  <tbody>\n",
       "    <tr>\n",
       "      <th>0</th>\n",
       "      <td>1</td>\n",
       "      <td>0</td>\n",
       "      <td>0</td>\n",
       "      <td>0</td>\n",
       "      <td>335</td>\n",
       "      <td>109.0</td>\n",
       "      <td>F</td>\n",
       "    </tr>\n",
       "    <tr>\n",
       "      <th>1</th>\n",
       "      <td>2</td>\n",
       "      <td>1</td>\n",
       "      <td>0</td>\n",
       "      <td>0</td>\n",
       "      <td>379</td>\n",
       "      <td>38.0</td>\n",
       "      <td>G</td>\n",
       "    </tr>\n",
       "    <tr>\n",
       "      <th>2</th>\n",
       "      <td>3</td>\n",
       "      <td>0</td>\n",
       "      <td>0</td>\n",
       "      <td>0</td>\n",
       "      <td>350</td>\n",
       "      <td>79.0</td>\n",
       "      <td>H</td>\n",
       "    </tr>\n",
       "    <tr>\n",
       "      <th>3</th>\n",
       "      <td>4</td>\n",
       "      <td>0</td>\n",
       "      <td>0</td>\n",
       "      <td>0</td>\n",
       "      <td>301</td>\n",
       "      <td>172.0</td>\n",
       "      <td>E</td>\n",
       "    </tr>\n",
       "    <tr>\n",
       "      <th>4</th>\n",
       "      <td>5</td>\n",
       "      <td>1</td>\n",
       "      <td>0</td>\n",
       "      <td>0</td>\n",
       "      <td>317</td>\n",
       "      <td>147.0</td>\n",
       "      <td>D</td>\n",
       "    </tr>\n",
       "    <tr>\n",
       "      <th>...</th>\n",
       "      <td>...</td>\n",
       "      <td>...</td>\n",
       "      <td>...</td>\n",
       "      <td>...</td>\n",
       "      <td>...</td>\n",
       "      <td>...</td>\n",
       "      <td>...</td>\n",
       "    </tr>\n",
       "    <tr>\n",
       "      <th>313</th>\n",
       "      <td>314</td>\n",
       "      <td>0</td>\n",
       "      <td>0</td>\n",
       "      <td>0</td>\n",
       "      <td>244</td>\n",
       "      <td>263.0</td>\n",
       "      <td>H</td>\n",
       "    </tr>\n",
       "    <tr>\n",
       "      <th>314</th>\n",
       "      <td>315</td>\n",
       "      <td>1</td>\n",
       "      <td>0</td>\n",
       "      <td>0</td>\n",
       "      <td>309</td>\n",
       "      <td>162.0</td>\n",
       "      <td>C</td>\n",
       "    </tr>\n",
       "    <tr>\n",
       "      <th>315</th>\n",
       "      <td>316</td>\n",
       "      <td>0</td>\n",
       "      <td>0</td>\n",
       "      <td>0</td>\n",
       "      <td>239</td>\n",
       "      <td>272.0</td>\n",
       "      <td>A</td>\n",
       "    </tr>\n",
       "    <tr>\n",
       "      <th>316</th>\n",
       "      <td>317</td>\n",
       "      <td>1</td>\n",
       "      <td>0</td>\n",
       "      <td>0</td>\n",
       "      <td>356</td>\n",
       "      <td>63.0</td>\n",
       "      <td>H</td>\n",
       "    </tr>\n",
       "    <tr>\n",
       "      <th>317</th>\n",
       "      <td>318</td>\n",
       "      <td>0</td>\n",
       "      <td>0</td>\n",
       "      <td>0</td>\n",
       "      <td>256</td>\n",
       "      <td>248.0</td>\n",
       "      <td>A</td>\n",
       "    </tr>\n",
       "  </tbody>\n",
       "</table>\n",
       "<p>318 rows × 7 columns</p>\n",
       "</div>"
      ],
      "text/plain": [
       "     student_id  gender  leader_flag  support_flag  score  score_rank  \\\n",
       "0             1       0            0             0    335       109.0   \n",
       "1             2       1            0             0    379        38.0   \n",
       "2             3       0            0             0    350        79.0   \n",
       "3             4       0            0             0    301       172.0   \n",
       "4             5       1            0             0    317       147.0   \n",
       "..          ...     ...          ...           ...    ...         ...   \n",
       "313         314       0            0             0    244       263.0   \n",
       "314         315       1            0             0    309       162.0   \n",
       "315         316       0            0             0    239       272.0   \n",
       "316         317       1            0             0    356        63.0   \n",
       "317         318       0            0             0    256       248.0   \n",
       "\n",
       "    init_assigned_class  \n",
       "0                     F  \n",
       "1                     G  \n",
       "2                     H  \n",
       "3                     E  \n",
       "4                     D  \n",
       "..                  ...  \n",
       "313                   H  \n",
       "314                   C  \n",
       "315                   A  \n",
       "316                   H  \n",
       "317                   A  \n",
       "\n",
       "[318 rows x 7 columns]"
      ]
     },
     "execution_count": 28,
     "metadata": {},
     "output_type": "execute_result"
    }
   ],
   "source": [
    "# 学力をもとに順位を付与\n",
    "s_df['score_rank'] = s_df['score'].rank(ascending=False, method='first') \n",
    "\n",
    "# 学力順にクラス編成し、init_assigned_classカラムを作成\n",
    "class_dic = {0:'A', 1:'B', 2:'C', 3:'D', 4:'E', 5:'F', 6:'G', 7:'H'}\n",
    "s_df['init_assigned_class'] = s_df['score_rank'].map(lambda x:x % 8).map(class_dic)\n",
    "s_df"
   ]
  },
  {
   "cell_type": "code",
   "execution_count": 29,
   "id": "77d144b8-e8fe-483e-9e99-f8766bb93182",
   "metadata": {},
   "outputs": [],
   "source": [
    "init_flag = {(s,c):0 for s in S for c in C}\n",
    "\n",
    "for row in s_df.itertuples():\n",
    "    init_flag[row.student_id, row.init_assigned_class] = 1"
   ]
  },
  {
   "cell_type": "code",
   "execution_count": 30,
   "id": "9d59a6af-a2fd-4367-ac28-8ef440394596",
   "metadata": {},
   "outputs": [
    {
     "data": {
      "image/png": "[encoded data removed]",
      "text/plain": [
       "<Figure size 864x1440 with 8 Axes>"
      ]
     },
     "metadata": {
      "needs_background": "light"
     },
     "output_type": "display_data"
    }
   ],
   "source": [
    "fig = plt.figure(figsize=(12,20))\n",
    "for i, c in enumerate(C):\n",
    "    cls_df = s_df[s_df['init_assigned_class']==c]\n",
    "    ax = fig.add_subplot(4\n",
    "                         , 2\n",
    "                         , i+1\n",
    "                         , xlabel='score'\n",
    "                         , ylabel='num'\n",
    "                         , xlim=(0, 500)\n",
    "                         , ylim=(0, 20)\n",
    "                         , title='Class:{:s}'.format(c)\n",
    "                        )\n",
    "    ax.hist(cls_df['score'], bins=range(0,500,40))"
   ]
  },
  {
   "cell_type": "markdown",
   "id": "0596eda7-f1e7-4d0b-8d3e-57232a14c0e7",
   "metadata": {},
   "source": [
    "### できる限り初期のクラス編成から動かさないように再最適化"
   ]
  },
  {
   "cell_type": "code",
   "execution_count": 31,
   "id": "7bd87a77-f493-4fce-8455-6e0e396d3716",
   "metadata": {},
   "outputs": [
    {
     "name": "stdout",
     "output_type": "stream",
     "text": [
      "303.6446540880503\n"
     ]
    }
   ],
   "source": [
    "m = Model()\n",
    "\n",
    "S = s_df.student_id.tolist()\n",
    "C = ['A', 'B', 'C', 'D', 'E', 'F', 'G', 'H']\n",
    "\n",
    "SC = [(s,c) for s in S for c in C]\n",
    "\n",
    "x = m.add_var_tensor((len(S),len(C)), name='x', var_type=BINARY)\n",
    "\n",
    "C_dict = {c:i for (c,i) in zip(C,range(len(C)))}\n",
    "\n",
    "#Each student is allocated to exactly one class\n",
    "for s in S:\n",
    "    m += xsum(x[s-1,C_dict[c]] for c in C) == 1\n",
    "\n",
    "#There are 39 or 40 students in each class\n",
    "for c in C:\n",
    "    m += xsum(x[s-1,C_dict[c]] for s in S) >=39\n",
    "    m += xsum(x[s-1,C_dict[c]] for s in S) <=40\n",
    "\n",
    "# 男子生徒のリスト\n",
    "S_male = [row.student_id for row in s_df.itertuples() if row.gender == 1]\n",
    "\n",
    "# 女子生徒のリスト\n",
    "S_female = [row.student_id for row in s_df.itertuples() if row.gender == 0]\n",
    "\n",
    "# # of male and female students <= 20\n",
    "for c in C:\n",
    "    m += xsum(x[s-1,C_dict[c]] for s in S_male) <=20\n",
    "    m += xsum(x[s-1,C_dict[c]] for s in S_female) <=20\n",
    "    \n",
    "\n",
    "score = {row.student_id:row.score for row in s_df.itertuples()}\n",
    "\n",
    "# 平均点の算出\n",
    "score_mean = s_df['score'].mean()\n",
    "print(score_mean)\n",
    "\n",
    "# Ave score of each class should be score_mean +- 10\n",
    "for c in C:\n",
    "    m += (score_mean - 10) * xsum([x[s-1,C_dict[c]] for s in S]) <= xsum([x[s-1,C_dict[c]] * score[s] for s in S])\n",
    "    m += xsum([x[s-1,C_dict[c]] * score[s] for s in S]) <= (score_mean + 10) * xsum([x[s-1,C_dict[c]] for s in S])\n",
    "    \n",
    "    # リーダー気質の生徒の集合\n",
    "S_leader = [row.student_id for row in s_df.itertuples() if row.leader_flag == 1]\n",
    "\n",
    "# (5)各クラスにリーダー気質の生徒を2人以上割り当てる。\n",
    "for c in C:\n",
    "    m += xsum([x[s-1,C_dict[c]] for s in S_leader]) >= 2\n",
    "\n",
    "# 特別な支援が必要な生徒の集合\n",
    "S_support = [row.student_id for row in s_df.itertuples() if row.support_flag == 1]\n",
    "\n",
    "# (6) 特別な支援が必要な生徒は各クラスに1人以下とする。\n",
    "for c in C:\n",
    "    m += xsum([x[s-1,C_dict[c]] for s in S_support]) <= 1\n",
    "\n",
    "    # 生徒の特定ペアリスト\n",
    "SS = [(row.student_id1, row.student_id2) for row in s_pair_df.itertuples()]\n",
    "\n",
    "# (7) 特定ペアの生徒は同一クラスに割り当てない。\n",
    "for row in s_pair_df.itertuples():\n",
    "    s1 = row.student_id1\n",
    "    s2 = row.student_id2\n",
    "    for c in C:\n",
    "        m += x[s1-1,C_dict[c]] + x[s2-1,C_dict[c]] <= 1"
   ]
  },
  {
   "cell_type": "code",
   "execution_count": 32,
   "id": "9e4c019e-79b9-45ac-8a64-11dcfd384374",
   "metadata": {},
   "outputs": [],
   "source": [
    "m.objective = maximize(xsum(x[s-1,C_dict[c]] * init_flag[s,c] for s,c in SC))"
   ]
  },
  {
   "cell_type": "code",
   "execution_count": 33,
   "id": "41fe02b4-7a42-4b36-af4e-bac7cb667349",
   "metadata": {},
   "outputs": [
    {
     "data": {
      "text/plain": [
       "<OptimizationStatus.OPTIMAL: 0>"
      ]
     },
     "execution_count": 33,
     "metadata": {},
     "output_type": "execute_result"
    }
   ],
   "source": [
    "m.optimize()"
   ]
  },
  {
   "cell_type": "code",
   "execution_count": 34,
   "id": "ff98803a-4807-420c-bd6a-50e16d9536b6",
   "metadata": {},
   "outputs": [],
   "source": [
    "result_df2 = s_df.copy()\n",
    "\n",
    "S2C = {s:c for s in S for c in C if x[s-1,C_dict[c]].x == 1}\n",
    "\n",
    "result_df2['assigned_class'] = result_df2['student_id'].map(S2C)"
   ]
  },
  {
   "cell_type": "code",
   "execution_count": 36,
   "id": "1e372f42-5ae0-4c0e-b267-61f211a042e1",
   "metadata": {},
   "outputs": [
    {
     "data": {
      "image/png": "[encoded data removed]",
      "text/plain": [
       "<Figure size 864x1440 with 8 Axes>"
      ]
     },
     "metadata": {
      "needs_background": "light"
     },
     "output_type": "display_data"
    }
   ],
   "source": [
    "fig = plt.figure(figsize=(12,20))\n",
    "for i, c in enumerate(C):\n",
    "    cls_df = result_df2[result_df2['assigned_class']==c]\n",
    "    ax = fig.add_subplot(4\n",
    "                         , 2\n",
    "                         , i+1\n",
    "                         , xlabel='score'\n",
    "                         , ylabel='num'\n",
    "                         , xlim=(0, 500)\n",
    "                         , ylim=(0, 20)\n",
    "                         , title='Class:{:s}'.format(c)\n",
    "                        )\n",
    "    ax.hist(cls_df['score'], bins=range(0,500,40))"
   ]
  },
  {
   "cell_type": "code",
   "execution_count": null,
   "id": "13194480-5525-4087-9fb6-28f5d5c4c1d4",
   "metadata": {},
   "outputs": [],
   "source": []
  }
 ],
 "metadata": {
  "kernelspec": {
   "display_name": "Python 3 (ipykernel)",
   "language": "python",
   "name": "python3"
  },
  "language_info": {
   "codemirror_mode": {
    "name": "ipython",
    "version": 3
   },
   "file_extension": ".py",
   "mimetype": "text/x-python",
   "name": "python",
   "nbconvert_exporter": "python",
   "pygments_lexer": "ipython3",
   "version": "3.10.0"
  }
 },
 "nbformat": 4,
 "nbformat_minor": 5
}
