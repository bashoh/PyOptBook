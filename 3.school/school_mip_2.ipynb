{
 "cells": [
  {
   "cell_type": "code",
   "execution_count": 1,
   "id": "64491dc1-7463-4c14-a0bd-6c64c776c91a",
   "metadata": {},
   "outputs": [
    {
     "name": "stdout",
     "output_type": "stream",
     "text": [
      "Ave:303.644654\n"
     ]
    }
   ],
   "source": [
    "from mip import *\n",
    "import pandas as pd\n",
    "import matplotlib.pyplot as plt\n",
    "\n",
    "s_df = pd.read_csv('students.csv')\n",
    "s_pair_df = pd.read_csv('student_pairs.csv')\n",
    "\n",
    "\n",
    "m = Model()\n",
    "\n",
    "S = s_df.student_id.tolist()\n",
    "C = ['A', 'B', 'C', 'D', 'E', 'F', 'G', 'H']\n",
    "\n",
    "SC = [(s,c) for s in S for c in C]\n",
    "\n",
    "x = m.add_var_tensor((len(S),len(C)), name='x', var_type=BINARY)\n",
    "\n",
    "C_dict = {c:i for (c,i) in zip(C,range(len(C)))}\n",
    "\n",
    "#Each student is allocated to exactly one class\n",
    "for s in S:\n",
    "    m += xsum(x[s-1,C_dict[c]] for c in C) == 1\n",
    "\n",
    "#There are 39 or 40 students in each class\n",
    "for c in C:\n",
    "    m += xsum(x[s-1,C_dict[c]] for s in S) >=39\n",
    "    m += xsum(x[s-1,C_dict[c]] for s in S) <=40\n",
    "\n",
    "\n",
    "S_male = [row.student_id for row in s_df.itertuples() if row.gender == 1]\n",
    "S_female = [row.student_id for row in s_df.itertuples() if row.gender == 0]\n",
    "\n",
    "# # of male and female students <= 20\n",
    "for c in C:\n",
    "    m += xsum(x[s-1,C_dict[c]] for s in S_male) <=20\n",
    "    m += xsum(x[s-1,C_dict[c]] for s in S_female) <=20\n",
    "    \n",
    "\n",
    "score = {row.student_id:row.score for row in s_df.itertuples()}\n",
    "\n",
    "# 平均点の算出\n",
    "score_mean = s_df['score'].mean()\n",
    "print('Ave:{:f}'.format(score_mean))\n",
    "\n",
    "# Ave score of each class should be score_mean +- 10\n",
    "for c in C:\n",
    "    m += (score_mean - 10) * xsum([x[s-1,C_dict[c]] for s in S]) <= xsum([x[s-1,C_dict[c]] * score[s] for s in S])\n",
    "    m += xsum([x[s-1,C_dict[c]] * score[s] for s in S]) <= (score_mean + 10) * xsum([x[s-1,C_dict[c]] for s in S])\n",
    "    \n",
    "# リーダー気質の生徒の集合\n",
    "S_leader = [row.student_id for row in s_df.itertuples() if row.leader_flag == 1]\n",
    "\n",
    "# (5)各クラスにリーダー気質の生徒を2人以上割り当てる。\n",
    "for c in C:\n",
    "    m += xsum([x[s-1,C_dict[c]] for s in S_leader]) >= 2\n",
    "\n",
    "# 特別な支援が必要な生徒の集合\n",
    "S_support = [row.student_id for row in s_df.itertuples() if row.support_flag == 1]\n",
    "\n",
    "# (6) 特別な支援が必要な生徒は各クラスに1人以下とする。\n",
    "for c in C:\n",
    "    m += xsum([x[s-1,C_dict[c]] for s in S_support]) <= 1\n",
    "\n",
    "    # 生徒の特定ペアリスト\n",
    "SS = [(row.student_id1, row.student_id2) for row in s_pair_df.itertuples()]\n",
    "\n",
    "# (7) 特定ペアの生徒は同一クラスに割り当てない。\n",
    "for row in s_pair_df.itertuples():\n",
    "    s1 = row.student_id1\n",
    "    s2 = row.student_id2\n",
    "    for c in C:\n",
    "        m += x[s1-1,C_dict[c]] + x[s2-1,C_dict[c]] <= 1"
   ]
  },
  {
   "cell_type": "code",
   "execution_count": 7,
   "id": "d5f6bbb3-2f77-4adf-bc71-f9d364802ccf",
   "metadata": {},
   "outputs": [
    {
     "data": {
      "text/plain": [
       "<OptimizationStatus.OPTIMAL: 0>"
      ]
     },
     "execution_count": 7,
     "metadata": {},
     "output_type": "execute_result"
    }
   ],
   "source": [
    "m.objective = minimize(xsum(xsum((x[s-1,C_dict[c]] * score[s] - score_mean) for s in S) for c in C))\n",
    "m.optimize()"
   ]
  },
  {
   "cell_type": "code",
   "execution_count": null,
   "id": "2dbb42d8-d3d0-40d9-aaa2-be4488b781c3",
   "metadata": {},
   "outputs": [],
   "source": [
    "result_df = s_df.copy()\n",
    "\n",
    "S2C = {s:c for s in S for c in C if x[s-1,C_dict[c]].x == 1}\n",
    "\n",
    "result_df['assigned_class'] = result_df['student_id'].map(S2C)\n",
    "\n",
    "\n",
    "fig = plt.figure(figsize=(12,20))\n",
    "for i, c in enumerate(C):\n",
    "    cls_df = result_df[result_df['assigned_class']==c]\n",
    "    ax = fig.add_subplot(4\n",
    "                         , 2\n",
    "                         , i+1\n",
    "                         , xlabel='score'\n",
    "                         , ylabel='num'\n",
    "                         , xlim=(0, 500)\n",
    "                         , ylim=(0, 30)\n",
    "                         , title='Class:{:s}'.format(c)\n",
    "                        )\n",
    "    ax.hist(cls_df['score'], bins=range(0,500,40))"
   ]
  },
  {
   "cell_type": "code",
   "execution_count": null,
   "id": "0432d64e-983d-44a1-bda6-e2482a3e5d33",
   "metadata": {},
   "outputs": [],
   "source": [
    "result_df[result_df['assigned_class'] == 'A']"
   ]
  },
  {
   "cell_type": "code",
   "execution_count": null,
   "id": "45290a48-becf-4a61-86eb-5ebb905627e1",
   "metadata": {},
   "outputs": [],
   "source": []
  }
 ],
 "metadata": {
  "kernelspec": {
   "display_name": "Python 3 (ipykernel)",
   "language": "python",
   "name": "python3"
  },
  "language_info": {
   "codemirror_mode": {
    "name": "ipython",
    "version": 3
   },
   "file_extension": ".py",
   "mimetype": "text/x-python",
   "name": "python",
   "nbconvert_exporter": "python",
   "pygments_lexer": "ipython3",
   "version": "3.7.8"
  }
 },
 "nbformat": 4,
 "nbformat_minor": 5
}
