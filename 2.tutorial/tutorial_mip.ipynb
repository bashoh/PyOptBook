{
 "cells": [
  {
   "cell_type": "code",
   "execution_count": 1,
   "id": "99c1b686-8daf-4391-9bd8-7e7282826ba0",
   "metadata": {},
   "outputs": [
    {
     "name": "stdout",
     "output_type": "stream",
     "text": [
      "var(0) 2.000000000000002 var(1) 7.999999999999998\n"
     ]
    }
   ],
   "source": [
    "from mip import *\n",
    "m = Model()\n",
    "\n",
    "x = m.add_var(var_type=CONTINUOUS)\n",
    "y = m.add_var(var_type=CONTINUOUS)\n",
    "\n",
    "m += 120 * x + 150 * y == 1440\n",
    "m += x + y == 10\n",
    "\n",
    "m.optimize()\n",
    "\n",
    "if m.num_solutions:\n",
    "    print(x.name, x.x, y.name, y.x)"
   ]
  },
  {
   "cell_type": "code",
   "execution_count": 2,
   "id": "096de260-7279-4209-9847-e9d1a2df978d",
   "metadata": {},
   "outputs": [
    {
     "name": "stdout",
     "output_type": "stream",
     "text": [
      "Status: Optimal\n",
      "x= 18.0 y= 4.0 obj= 26.0\n"
     ]
    }
   ],
   "source": [
    "import pulp\n",
    "\n",
    "problem = pulp.LpProblem('LP', pulp.LpMaximize)\n",
    "\n",
    "x = pulp.LpVariable('x', cat='Continuous')\n",
    "y = pulp.LpVariable('y', cat='Continuous')\n",
    "\n",
    "problem += 1 * x + 3 * y <= 30\n",
    "problem += 2 * x + 1 * y <= 40\n",
    "problem += x >= 0\n",
    "problem += y >= 0\n",
    "problem.objective = x + 2 * y\n",
    "\n",
    "status = problem.solve()\n",
    "\n",
    "print('Status:', pulp.LpStatus[status])\n",
    "print('x=', x.value(), 'y=', y.value(), 'obj=', problem.objective.value())"
   ]
  },
  {
   "cell_type": "code",
   "execution_count": 14,
   "id": "1b6e3196-d4d4-40a3-a6b2-2205cca40c80",
   "metadata": {},
   "outputs": [
    {
     "name": "stdout",
     "output_type": "stream",
     "text": [
      "x 18.0 \n",
      " y 4.000000000000001 \n",
      "solution 26.0\n"
     ]
    }
   ],
   "source": [
    "from mip import *\n",
    "m = Model()\n",
    "\n",
    "x = m.add_var(name='x', var_type=CONTINUOUS)\n",
    "y = m.add_var(name='y', var_type=CONTINUOUS)\n",
    "\n",
    "m += 1 * x + 3 * y <= 30\n",
    "m += 2 * x + 1 * y <= 40\n",
    "m += x >= 0\n",
    "m += y >= 0\n",
    "\n",
    "m.objective = maximize(x + 2 * y)\n",
    "\n",
    "m.optimize()\n",
    "\n",
    "if m.num_solutions:\n",
    "    print(x.name, x.x, '\\n', y.name, y.x, '\\nsolution', m.objective.x)"
   ]
  },
  {
   "cell_type": "code",
   "execution_count": null,
   "id": "d572cbec-ef8f-4db5-b823-2e58ed91af59",
   "metadata": {},
   "outputs": [],
   "source": []
  }
 ],
 "metadata": {
  "kernelspec": {
   "display_name": "Python 3 (ipykernel)",
   "language": "python",
   "name": "python3"
  },
  "language_info": {
   "codemirror_mode": {
    "name": "ipython",
    "version": 3
   },
   "file_extension": ".py",
   "mimetype": "text/x-python",
   "name": "python",
   "nbconvert_exporter": "python",
   "pygments_lexer": "ipython3",
   "version": "3.7.5"
  }
 },
 "nbformat": 4,
 "nbformat_minor": 5
}
