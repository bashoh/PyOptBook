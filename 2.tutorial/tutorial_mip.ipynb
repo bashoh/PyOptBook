{
 "cells": [
  {
   "cell_type": "markdown",
   "id": "2b499658-a819-4182-bd9b-025dd8494e67",
   "metadata": {},
   "source": [
    "## Solve linear equations with mip"
   ]
  },
  {
   "cell_type": "code",
   "execution_count": 1,
   "id": "99c1b686-8daf-4391-9bd8-7e7282826ba0",
   "metadata": {},
   "outputs": [
    {
     "name": "stdout",
     "output_type": "stream",
     "text": [
      "var(0) 2.000000000000002 var(1) 7.999999999999998\n"
     ]
    }
   ],
   "source": [
    "from mip import *\n",
    "m = Model()\n",
    "\n",
    "x = m.add_var(var_type=CONTINUOUS)\n",
    "y = m.add_var(var_type=CONTINUOUS)\n",
    "\n",
    "m += 120 * x + 150 * y == 1440\n",
    "m += x + y == 10\n",
    "\n",
    "m.optimize()\n",
    "\n",
    "if m.num_solutions:\n",
    "    print(x.name, x.x, y.name, y.x)"
   ]
  },
  {
   "cell_type": "markdown",
   "id": "0f71aa65-6123-43e0-9227-ffc6905afad8",
   "metadata": {},
   "source": [
    "## Solve LP(Linear Optimization Problem)"
   ]
  },
  {
   "cell_type": "markdown",
   "id": "a89490c7-070b-4ac7-824f-6aa1868ac814",
   "metadata": {},
   "source": [
    "### - with pulp"
   ]
  },
  {
   "cell_type": "code",
   "execution_count": 2,
   "id": "096de260-7279-4209-9847-e9d1a2df978d",
   "metadata": {},
   "outputs": [
    {
     "name": "stdout",
     "output_type": "stream",
     "text": [
      "Status: Optimal\n",
      "x= 18.0 y= 4.0 obj= 26.0\n"
     ]
    }
   ],
   "source": [
    "import pulp\n",
    "\n",
    "problem = pulp.LpProblem('LP', pulp.LpMaximize)\n",
    "\n",
    "x = pulp.LpVariable('x', cat='Continuous')\n",
    "y = pulp.LpVariable('y', cat='Continuous')\n",
    "\n",
    "problem += 1 * x + 3 * y <= 30\n",
    "problem += 2 * x + 1 * y <= 40\n",
    "problem += x >= 0\n",
    "problem += y >= 0\n",
    "problem.objective = x + 2 * y\n",
    "\n",
    "status = problem.solve()\n",
    "\n",
    "print('Status:', pulp.LpStatus[status])\n",
    "print('x=', x.value(), 'y=', y.value(), 'obj=', problem.objective.value())"
   ]
  },
  {
   "cell_type": "markdown",
   "id": "97b384ea-9880-4b25-aff0-2967626d1f7f",
   "metadata": {},
   "source": [
    "### - with mip"
   ]
  },
  {
   "cell_type": "code",
   "execution_count": 3,
   "id": "1b6e3196-d4d4-40a3-a6b2-2205cca40c80",
   "metadata": {},
   "outputs": [
    {
     "name": "stdout",
     "output_type": "stream",
     "text": [
      "x 18.0 \n",
      " y 4.000000000000001 \n",
      "solution 26.0\n"
     ]
    }
   ],
   "source": [
    "from mip import *\n",
    "m = Model()\n",
    "\n",
    "x = m.add_var(name='x', var_type=CONTINUOUS)\n",
    "y = m.add_var(name='y', var_type=CONTINUOUS)\n",
    "\n",
    "m += 1 * x + 3 * y <= 30\n",
    "m += 2 * x + 1 * y <= 40\n",
    "m += x >= 0\n",
    "m += y >= 0\n",
    "\n",
    "m.objective = maximize(x + 2 * y)\n",
    "\n",
    "m.optimize()\n",
    "\n",
    "if m.num_solutions:\n",
    "    print(x.name, x.x, '\\n', y.name, y.x, '\\nsolution', m.objective.x)"
   ]
  },
  {
   "cell_type": "code",
   "execution_count": 4,
   "id": "d572cbec-ef8f-4db5-b823-2e58ed91af59",
   "metadata": {},
   "outputs": [
    {
     "data": {
      "text/plain": [
       "<OptimizationStatus.OPTIMAL: 0>"
      ]
     },
     "execution_count": 4,
     "metadata": {},
     "output_type": "execute_result"
    }
   ],
   "source": [
    "m.status"
   ]
  },
  {
   "cell_type": "code",
   "execution_count": 5,
   "id": "6e66b0e9-2969-4ece-aa57-c2658fca0c34",
   "metadata": {},
   "outputs": [
    {
     "name": "stdout",
     "output_type": "stream",
     "text": [
      "[<OptimizationStatus.ERROR: -1>, <OptimizationStatus.OPTIMAL: 0>, <OptimizationStatus.INFEASIBLE: 1>, <OptimizationStatus.UNBOUNDED: 2>, <OptimizationStatus.FEASIBLE: 3>, <OptimizationStatus.INT_INFEASIBLE: 4>, <OptimizationStatus.NO_SOLUTION_FOUND: 5>, <OptimizationStatus.LOADED: 6>, <OptimizationStatus.CUTOFF: 7>, <OptimizationStatus.OTHER: 10000>]\n"
     ]
    }
   ],
   "source": [
    "print(list(mip.OptimizationStatus))"
   ]
  },
  {
   "cell_type": "markdown",
   "id": "c3f95162-82f5-49d7-a194-7dcb0be9ba13",
   "metadata": {},
   "source": [
    "## Solve LP of larger scale"
   ]
  },
  {
   "cell_type": "code",
   "execution_count": 6,
   "id": "22e2a400-af32-42b8-94e5-8ebcbeaf3837",
   "metadata": {},
   "outputs": [
    {
     "data": {
      "text/html": [
       "<div>\n",
       "<style scoped>\n",
       "    .dataframe tbody tr th:only-of-type {\n",
       "        vertical-align: middle;\n",
       "    }\n",
       "\n",
       "    .dataframe tbody tr th {\n",
       "        vertical-align: top;\n",
       "    }\n",
       "\n",
       "    .dataframe thead th {\n",
       "        text-align: right;\n",
       "    }\n",
       "</style>\n",
       "<table border=\"1\" class=\"dataframe\">\n",
       "  <thead>\n",
       "    <tr style=\"text-align: right;\">\n",
       "      <th></th>\n",
       "      <th>m</th>\n",
       "      <th>stock</th>\n",
       "    </tr>\n",
       "  </thead>\n",
       "  <tbody>\n",
       "    <tr>\n",
       "      <th>0</th>\n",
       "      <td>m1</td>\n",
       "      <td>35</td>\n",
       "    </tr>\n",
       "    <tr>\n",
       "      <th>1</th>\n",
       "      <td>m2</td>\n",
       "      <td>22</td>\n",
       "    </tr>\n",
       "    <tr>\n",
       "      <th>2</th>\n",
       "      <td>m3</td>\n",
       "      <td>27</td>\n",
       "    </tr>\n",
       "  </tbody>\n",
       "</table>\n",
       "</div>"
      ],
      "text/plain": [
       "    m  stock\n",
       "0  m1     35\n",
       "1  m2     22\n",
       "2  m3     27"
      ]
     },
     "execution_count": 6,
     "metadata": {},
     "output_type": "execute_result"
    }
   ],
   "source": [
    "import pandas as pd\n",
    "from mip import *\n",
    "\n",
    "s_df = pd.read_csv('stocks.csv')\n",
    "r_df = pd.read_csv('requires.csv')\n",
    "g_df = pd.read_csv('gains.csv')\n",
    "\n",
    "s_df"
   ]
  },
  {
   "cell_type": "code",
   "execution_count": 7,
   "id": "8b9e6c56-a1d7-4779-8710-c67c521a49e2",
   "metadata": {},
   "outputs": [
    {
     "data": {
      "text/html": [
       "<div>\n",
       "<style scoped>\n",
       "    .dataframe tbody tr th:only-of-type {\n",
       "        vertical-align: middle;\n",
       "    }\n",
       "\n",
       "    .dataframe tbody tr th {\n",
       "        vertical-align: top;\n",
       "    }\n",
       "\n",
       "    .dataframe thead th {\n",
       "        text-align: right;\n",
       "    }\n",
       "</style>\n",
       "<table border=\"1\" class=\"dataframe\">\n",
       "  <thead>\n",
       "    <tr style=\"text-align: right;\">\n",
       "      <th></th>\n",
       "      <th>p</th>\n",
       "      <th>m</th>\n",
       "      <th>require</th>\n",
       "    </tr>\n",
       "  </thead>\n",
       "  <tbody>\n",
       "    <tr>\n",
       "      <th>0</th>\n",
       "      <td>p1</td>\n",
       "      <td>m1</td>\n",
       "      <td>2</td>\n",
       "    </tr>\n",
       "    <tr>\n",
       "      <th>1</th>\n",
       "      <td>p1</td>\n",
       "      <td>m2</td>\n",
       "      <td>0</td>\n",
       "    </tr>\n",
       "    <tr>\n",
       "      <th>2</th>\n",
       "      <td>p1</td>\n",
       "      <td>m3</td>\n",
       "      <td>1</td>\n",
       "    </tr>\n",
       "    <tr>\n",
       "      <th>3</th>\n",
       "      <td>p2</td>\n",
       "      <td>m1</td>\n",
       "      <td>3</td>\n",
       "    </tr>\n",
       "    <tr>\n",
       "      <th>4</th>\n",
       "      <td>p2</td>\n",
       "      <td>m2</td>\n",
       "      <td>2</td>\n",
       "    </tr>\n",
       "    <tr>\n",
       "      <th>5</th>\n",
       "      <td>p2</td>\n",
       "      <td>m3</td>\n",
       "      <td>0</td>\n",
       "    </tr>\n",
       "    <tr>\n",
       "      <th>6</th>\n",
       "      <td>p3</td>\n",
       "      <td>m1</td>\n",
       "      <td>0</td>\n",
       "    </tr>\n",
       "    <tr>\n",
       "      <th>7</th>\n",
       "      <td>p3</td>\n",
       "      <td>m2</td>\n",
       "      <td>2</td>\n",
       "    </tr>\n",
       "    <tr>\n",
       "      <th>8</th>\n",
       "      <td>p3</td>\n",
       "      <td>m3</td>\n",
       "      <td>2</td>\n",
       "    </tr>\n",
       "    <tr>\n",
       "      <th>9</th>\n",
       "      <td>p4</td>\n",
       "      <td>m1</td>\n",
       "      <td>2</td>\n",
       "    </tr>\n",
       "    <tr>\n",
       "      <th>10</th>\n",
       "      <td>p4</td>\n",
       "      <td>m2</td>\n",
       "      <td>2</td>\n",
       "    </tr>\n",
       "    <tr>\n",
       "      <th>11</th>\n",
       "      <td>p4</td>\n",
       "      <td>m3</td>\n",
       "      <td>2</td>\n",
       "    </tr>\n",
       "  </tbody>\n",
       "</table>\n",
       "</div>"
      ],
      "text/plain": [
       "     p   m  require\n",
       "0   p1  m1        2\n",
       "1   p1  m2        0\n",
       "2   p1  m3        1\n",
       "3   p2  m1        3\n",
       "4   p2  m2        2\n",
       "5   p2  m3        0\n",
       "6   p3  m1        0\n",
       "7   p3  m2        2\n",
       "8   p3  m3        2\n",
       "9   p4  m1        2\n",
       "10  p4  m2        2\n",
       "11  p4  m3        2"
      ]
     },
     "execution_count": 7,
     "metadata": {},
     "output_type": "execute_result"
    }
   ],
   "source": [
    "r_df"
   ]
  },
  {
   "cell_type": "code",
   "execution_count": 8,
   "id": "2340e0b3-6aad-494b-9f93-80649772e63a",
   "metadata": {},
   "outputs": [
    {
     "data": {
      "text/html": [
       "<div>\n",
       "<style scoped>\n",
       "    .dataframe tbody tr th:only-of-type {\n",
       "        vertical-align: middle;\n",
       "    }\n",
       "\n",
       "    .dataframe tbody tr th {\n",
       "        vertical-align: top;\n",
       "    }\n",
       "\n",
       "    .dataframe thead th {\n",
       "        text-align: right;\n",
       "    }\n",
       "</style>\n",
       "<table border=\"1\" class=\"dataframe\">\n",
       "  <thead>\n",
       "    <tr style=\"text-align: right;\">\n",
       "      <th></th>\n",
       "      <th>p</th>\n",
       "      <th>gain</th>\n",
       "    </tr>\n",
       "  </thead>\n",
       "  <tbody>\n",
       "    <tr>\n",
       "      <th>0</th>\n",
       "      <td>p1</td>\n",
       "      <td>3</td>\n",
       "    </tr>\n",
       "    <tr>\n",
       "      <th>1</th>\n",
       "      <td>p2</td>\n",
       "      <td>4</td>\n",
       "    </tr>\n",
       "    <tr>\n",
       "      <th>2</th>\n",
       "      <td>p3</td>\n",
       "      <td>4</td>\n",
       "    </tr>\n",
       "    <tr>\n",
       "      <th>3</th>\n",
       "      <td>p4</td>\n",
       "      <td>5</td>\n",
       "    </tr>\n",
       "  </tbody>\n",
       "</table>\n",
       "</div>"
      ],
      "text/plain": [
       "    p  gain\n",
       "0  p1     3\n",
       "1  p2     4\n",
       "2  p3     4\n",
       "3  p4     5"
      ]
     },
     "execution_count": 8,
     "metadata": {},
     "output_type": "execute_result"
    }
   ],
   "source": [
    "g_df"
   ]
  },
  {
   "cell_type": "code",
   "execution_count": 9,
   "id": "7c5f60c6-4100-41a7-af64-50f4765efbe6",
   "metadata": {},
   "outputs": [],
   "source": [
    "P = g_df['p'].tolist()\n",
    "M = s_df['m'].tolist()"
   ]
  },
  {
   "cell_type": "code",
   "execution_count": 10,
   "id": "6303c116-d494-4c77-907b-e89f7afdb309",
   "metadata": {},
   "outputs": [
    {
     "data": {
      "text/plain": [
       "{'m1': 35, 'm2': 22, 'm3': 27}"
      ]
     },
     "execution_count": 10,
     "metadata": {},
     "output_type": "execute_result"
    }
   ],
   "source": [
    "stock = {r.m: r.stock for r in s_df.itertuples()}\n",
    "stock"
   ]
  },
  {
   "cell_type": "code",
   "execution_count": 11,
   "id": "0f8e0d3a-29ae-4158-a29f-bce3a91446ef",
   "metadata": {},
   "outputs": [
    {
     "data": {
      "text/plain": [
       "{'p1': 3, 'p2': 4, 'p3': 4, 'p4': 5}"
      ]
     },
     "execution_count": 11,
     "metadata": {},
     "output_type": "execute_result"
    }
   ],
   "source": [
    "gain = {r.p: r.gain for r in g_df.itertuples()}\n",
    "gain"
   ]
  },
  {
   "cell_type": "code",
   "execution_count": 12,
   "id": "6edbc391-b838-4de8-9f98-4121f19b8353",
   "metadata": {},
   "outputs": [
    {
     "data": {
      "text/plain": [
       "{('p1', 'm1'): 2,\n",
       " ('p1', 'm2'): 0,\n",
       " ('p1', 'm3'): 1,\n",
       " ('p2', 'm1'): 3,\n",
       " ('p2', 'm2'): 2,\n",
       " ('p2', 'm3'): 0,\n",
       " ('p3', 'm1'): 0,\n",
       " ('p3', 'm2'): 2,\n",
       " ('p3', 'm3'): 2,\n",
       " ('p4', 'm1'): 2,\n",
       " ('p4', 'm2'): 2,\n",
       " ('p4', 'm3'): 2}"
      ]
     },
     "execution_count": 12,
     "metadata": {},
     "output_type": "execute_result"
    }
   ],
   "source": [
    "require = {(r.p, r.m): r.require for r in r_df.itertuples()}\n",
    "require"
   ]
  },
  {
   "cell_type": "code",
   "execution_count": 13,
   "id": "8c52f625-b3b3-4554-9b41-cef95393d7ae",
   "metadata": {},
   "outputs": [
    {
     "data": {
      "text/plain": [
       "'x_3'"
      ]
     },
     "execution_count": 13,
     "metadata": {},
     "output_type": "execute_result"
    }
   ],
   "source": [
    "m = Model()\n",
    "\n",
    "x = m.add_var_tensor((len(P),), name='x', var_type=CONTINUOUS)\n",
    "x[3].name"
   ]
  },
  {
   "cell_type": "code",
   "execution_count": 14,
   "id": "28acb492-5958-4f05-be9a-71c71b2fcda1",
   "metadata": {},
   "outputs": [
    {
     "data": {
      "text/plain": [
       "<OptimizationStatus.OPTIMAL: 0>"
      ]
     },
     "execution_count": 14,
     "metadata": {},
     "output_type": "execute_result"
    }
   ],
   "source": [
    "m.objective = maximize(xsum(x_i * gain[p_i] for x_i, p_i in zip(x, P)))\n",
    "for m_j in stock.keys():\n",
    "    m += xsum([require[p_i, m_j] * x_i for x_i, p_i in zip(x, P)]) <= stock[m_j]\n",
    "    \n",
    "m.optimize()"
   ]
  },
  {
   "cell_type": "code",
   "execution_count": 15,
   "id": "5b767312-8c66-4c40-8bc1-357414847033",
   "metadata": {},
   "outputs": [
    {
     "name": "stdout",
     "output_type": "stream",
     "text": [
      "x_0 :  12.142857142857142\n",
      "x_1 :  3.571428571428571\n",
      "x_2 :  7.428571428571429\n",
      "x_3 :  0.0\n",
      "solution:  80.42857142857143\n"
     ]
    }
   ],
   "source": [
    "if m.num_solutions:\n",
    "    for x_i in x:\n",
    "        print(x_i.name, ': ', x_i.x)\n",
    "        \n",
    "    print('solution: ', m.objective.x)"
   ]
  },
  {
   "cell_type": "code",
   "execution_count": null,
   "id": "63f9af98-f591-4350-b797-82a3adfd2863",
   "metadata": {},
   "outputs": [],
   "source": []
  }
 ],
 "metadata": {
  "kernelspec": {
   "display_name": "Python 3 (ipykernel)",
   "language": "python",
   "name": "python3"
  },
  "language_info": {
   "codemirror_mode": {
    "name": "ipython",
    "version": 3
   },
   "file_extension": ".py",
   "mimetype": "text/x-python",
   "name": "python",
   "nbconvert_exporter": "python",
   "pygments_lexer": "ipython3",
   "version": "3.7.8"
  }
 },
 "nbformat": 4,
 "nbformat_minor": 5
}
