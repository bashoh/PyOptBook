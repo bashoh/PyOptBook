{
 "cells": [
  {
   "cell_type": "markdown",
   "metadata": {},
   "source": [
    "### ❷ 問題設定とデータの確認"
   ]
  },
  {
   "cell_type": "markdown",
   "metadata": {},
   "source": [
    "資材の卸売業の経営者として、配送費用を最小化したいと考えている。顧客は自社倉庫から車で２～３時間県内に点在する工場で、自社のトラックで荷物を届けている。\n",
    "配送費用を最小化するオペレーションを算出したい。"
   ]
  },
  {
   "cell_type": "markdown",
   "metadata": {},
   "source": [
    "ライブラリのインポート"
   ]
  },
  {
   "cell_type": "code",
   "execution_count": 1,
   "metadata": {
    "pycharm": {
     "is_executing": false
    }
   },
   "outputs": [],
   "source": [
    "from IPython.core.display import display\n",
    "import numpy as np\n",
    "import pandas as pd\n",
    "import os, sys\n",
    "import matplotlib.pyplot as plt\n",
    "import matplotlib as mpl\n",
    "from mip import * \n",
    "#import pulp\n",
    "from itertools import product, combinations_with_replacement\n",
    "from joblib import Parallel, delayed\n",
    "from numpy.random import default_rng\n",
    "from scipy.stats import norm, gamma"
   ]
  },
  {
   "cell_type": "markdown",
   "metadata": {},
   "source": [
    "問題設定に必要な数値群"
   ]
  },
  {
   "cell_type": "code",
   "execution_count": 2,
   "metadata": {
    "pycharm": {
     "is_executing": false
    }
   },
   "outputs": [],
   "source": [
    "#np.random.seed(10)\n",
    "seed = 10 #10であるに理由は特にないが、この時いい感じに配送先がばらけて見やすい\n",
    "\n",
    "num_places = 10  # 地点の数\n",
    "num_days = 30  # 計画の対象日数\n",
    "num_requests = 120  # 荷物の数\n",
    "\n",
    "mean_travel_time_to_destinations = 100  # 自社から平均的に100分程度距離に配達先候補があるとしてデータを作る．\n",
    "H_regular = 8*60  # 8時間が定時労働\n",
    "H_max_overtime = 3*60  # 残業3時間まで\n",
    "c = 3000//60  # 残業による経費60分 3000円\n",
    "W = 4000  # 4 トントラックを利用\n",
    "delivery_outsourcing_unit_cost = 4600  # 100kg あたり4600円の配送費用\n",
    "delivery_time_window = 3  # 連続する3日が配達可能な候補日となる．\n",
    "avg_weight = 1000  # 荷物の平均的な重さを1000kgとする\n"
   ]
  },
  {
   "cell_type": "markdown",
   "metadata": {},
   "source": [
    "Legacyのnumpy.random.choiceの代わりにnumpy.random.Generator.choiceを用いる。\n",
    "また、各分布に従う確率変数の生成にはnumpyではなくscipyを用いる。"
   ]
  },
  {
   "cell_type": "code",
   "execution_count": 3,
   "metadata": {
    "pycharm": {
     "is_executing": false
    }
   },
   "outputs": [],
   "source": [
    "K = range(num_places)  # 地点の集合\n",
    "o = 0  # 自社拠点を表す地点\n",
    "K_minus_o = K[1:]  # 配達先の集合\n",
    "rng = default_rng(seed) #numpy.random.Generatorによる疑似乱数の生成\n",
    "\n",
    "\n",
    "_K = norm.rvs(loc=0, scale=mean_travel_time_to_destinations, size=(len(K), 2), random_state=seed)\n",
    "#_K = rng.normal(0, mean_travel_time_to_destinations, size=(len(K), 2))  # 各地点の座標を設定\n",
    "_K[o,:] = 0  # 自社拠点は原点とする．\n",
    "t = np.array([[np.floor(np.linalg.norm(_K[k] - _K[l])) for k in K] for l in K])  # 各地点間の移動時間行列(分)\n",
    "\n",
    "D = range(num_days)  # 日付の集合\n",
    "R = range(num_requests)  # 荷物の集合\n",
    "k = rng.choice(K_minus_o, size=len(R))\n",
    "#k = np.random.choice(K_minus_o, size=len(R))  # k[r] は 荷物 r の配送先を表す\n",
    "d_0 = rng.choice(D, size=len(R))\n",
    "#d_0 = np.random.choice(D, size=len(R))  # d_0[r] は荷物 r の配送可能日の初日を表す\n",
    "d_1 = d_0 + delivery_time_window-1   # d_1[r] は荷物 r の配送可能日の最終日を表す\n",
    "w = np.floor(gamma.rvs(10, scale=avg_weight/10, size=len(R), random_state=seed))\n",
    "#w = np.floor(np.random.gamma(10, avg_weight/10, size=len(R)))  # w[r] が荷物 r の重さ(kg)を表す\n",
    "f = np.ceil(w/100)*delivery_outsourcing_unit_cost  # f[r] が荷物 r の外部委託時の配送料を表す"
   ]
  },
  {
   "cell_type": "markdown",
   "metadata": {},
   "source": [
    "配送先の分布図"
   ]
  },
  {
   "cell_type": "code",
   "execution_count": 31,
   "metadata": {
    "pycharm": {
     "is_executing": false
    }
   },
   "outputs": [
    {
     "data": {
      "image/png": "[encoded data removed]",
      "text/plain": [
       "<Figure size 432x288 with 1 Axes>"
      ]
     },
     "metadata": {
      "needs_background": "light"
     },
     "output_type": "display_data"
    }
   ],
   "source": [
    "a = plt.subplot()\n",
    "a.scatter(_K[1:,0], _K[1:,1], marker='x')\n",
    "a.scatter(_K[0,0], _K[0,1], marker='o')\n",
    "a.set_aspect('equal')\n",
    "\n",
    "for i, label in enumerate(K):\n",
    "    a.text(_K[i,0], _K[i,1], label)\n",
    "plt.show()"
   ]
  },
  {
   "cell_type": "markdown",
   "metadata": {},
   "source": [
    "各荷物の重さの分布"
   ]
  },
  {
   "cell_type": "code",
   "execution_count": 5,
   "metadata": {
    "pycharm": {
     "is_executing": false
    }
   },
   "outputs": [
    {
     "data": {
      "text/plain": [
       "(array([ 0.,  0.,  0.,  1.,  5.,  5.,  5.,  8., 27., 15., 16., 13.,  8.,\n",
       "         4.,  8.,  2.,  0.,  1.,  0.,  2.]),\n",
       " array([   0.,  100.,  200.,  300.,  400.,  500.,  600.,  700.,  800.,\n",
       "         900., 1000., 1100., 1200., 1300., 1400., 1500., 1600., 1700.,\n",
       "        1800., 1900., 2000.]),\n",
       " <BarContainer object of 20 artists>)"
      ]
     },
     "execution_count": 5,
     "metadata": {},
     "output_type": "execute_result"
    },
    {
     "data": {
      "image/png": "[encoded data removed]",
      "text/plain": [
       "<Figure size 432x288 with 1 Axes>"
      ]
     },
     "metadata": {
      "needs_background": "light"
     },
     "output_type": "display_data"
    }
   ],
   "source": [
    "plt.hist(w, bins=20, range=(0,2000))"
   ]
  },
  {
   "cell_type": "code",
   "execution_count": 29,
   "metadata": {},
   "outputs": [
    {
     "data": {
      "text/plain": [
       "range(0, 10)"
      ]
     },
     "execution_count": 29,
     "metadata": {},
     "output_type": "execute_result"
    }
   ],
   "source": [
    "K"
   ]
  },
  {
   "cell_type": "markdown",
   "metadata": {},
   "source": [
    "### ❸ 日ごとのスケジュールの列挙"
   ]
  },
  {
   "cell_type": "code",
   "execution_count": 35,
   "metadata": {},
   "outputs": [],
   "source": [
    "def simulate_route(z):\n",
    "    # enumerate_routes の中でのみ用いる関数\n",
    "    # z は k_minus_o の部分集合を意味する長さnum_placesの0または1の値のリストで、\n",
    "    # z[k] == 1 (k in K) が k への訪問があることを意味する．\n",
    "\n",
    "    if z[0] == 0:  # 自社拠点を通らない移動経路は不適切なので None を返し，後段で除去する．\n",
    "        return None\n",
    "\n",
    "    # 巡回セールスマン問題を解く\n",
    "    daily_route_prob = Model()#pulp.LpProblem(sense=pulp.LpMinimize)\n",
    "\n",
    "    # k から l への移動の有無\n",
    "    x = {\n",
    "        (k, l): \n",
    "            daily_route_prob.add_var(name=f'x_{k}_{l}', var_type=BINARY) if k != l else LinExpr(0)\n",
    "        for k, l in product(K, K)\n",
    "    }\n",
    "\n",
    "    # MTZ 定式化のための補助変数\n",
    "    u = {\n",
    "        k: daily_route_prob.add_var(\n",
    "            name=f'u_{k}', \n",
    "            lb=1, \n",
    "            ub=len(K) - 1,\n",
    "        )\n",
    "        for k in K_minus_o\n",
    "    }\n",
    "    # MTZ 定式化の補助変数の説明では訪問順序であることを意識して u[0] を変数かのように書いたが，\n",
    "    # 実際には 0 に固定されている値であるので，ここでは変数としては u[0] は定義しない．    \n",
    "\n",
    "    h = daily_route_prob.add_var(f'h', lb=0, var_type=CONTINUOUS)\n",
    "\n",
    "    # 移動の構造\n",
    "    for l in K:\n",
    "        daily_route_prob += (\n",
    "            xsum([x[k,l] for k in K]) <= 1 #lへの移動は高々1回のみ\n",
    "        )\n",
    "\n",
    "    for l in K:\n",
    "        if z[l] == 1:\n",
    "            # z で l への訪問が指定されている場合，必ず訪問するようにする．\n",
    "            daily_route_prob += (\n",
    "                xsum([x[k,l] for k in K]) == 1 #lへのpathが存在する\n",
    "            )\n",
    "            daily_route_prob += (\n",
    "                xsum([x[l,k] for k in K]) == 1 #lへpathがあるならlからのpathも必ず存在する\n",
    "            )\n",
    "\n",
    "        else:\n",
    "            # z で l への訪問が禁止されている場合，訪問ができないように x に制約を入れる\n",
    "            daily_route_prob += (\n",
    "                xsum([x[k,l] for k in K]) == 0\n",
    "            )\n",
    "            daily_route_prob += (\n",
    "                xsum([x[l,k] for k in K]) == 0                \n",
    "            )\n",
    "            \n",
    "\n",
    "    # サイクルの除去(MTZ定式化による方法)\n",
    "    for k, l in product(K_minus_o, K_minus_o):\n",
    "        daily_route_prob += (\n",
    "            u[k] + 1 <= u[l] + len(K_minus_o) * (1 - x[k, l])\n",
    "        )    \n",
    "\n",
    "    # 労務関係．(巡回セールスマン問題にはない制約だが，これが満たされない場合実行不可能としたいので追加)\n",
    "    travel = xsum([t[k, l]*x[k, l] for k, l in product(K, K)]) # 移動時間\n",
    "    daily_route_prob += (travel - H_regular <= h)\n",
    "    daily_route_prob += (h <= H_max_overtime)\n",
    "\n",
    "    # 目的関数\n",
    "    daily_route_prob.objective = minimize(travel)\n",
    "    status = daily_route_prob.optimize()\n",
    "\n",
    "    return {\n",
    "        'z': z,\n",
    "        'route': { # k から l への移動の有無を辞書で保持\n",
    "            (k, l): x[k, l].x\n",
    "            for k, l in product(K, K)\n",
    "        },\n",
    "        'optimal': OptimizationStatus(status),\n",
    "        '移動時間': travel.x,\n",
    "        '残業時間': h.x,\n",
    "    }\n",
    "\n"
   ]
  },
  {
   "cell_type": "code",
   "execution_count": 7,
   "metadata": {},
   "outputs": [],
   "source": [
    "def enumerate_routes():\n",
    "    # 移動経路を列挙する    \n",
    "    # joblib を用いて計算を並列化(16並列)して，K_minus_o のすべての部分集合に対する最短の移動経路を列挙\n",
    "    # これは次のコードを並列化したもの．\n",
    "    # routes = []\n",
    "    # for z in product([0,1], repeat=len(K)):\n",
    "    #     routes.append(simulate_route(z))\n",
    "    routes = Parallel(n_jobs=16)(\n",
    "        [delayed(simulate_route)(z) for z in product([0,1], repeat=len(K))]\n",
    "    )\n",
    "    \n",
    "    # 結果が None のもの（自社拠点を通らないもの）を除去\n",
    "    routes = pd.DataFrame(filter(lambda x: x is not None, routes))\n",
    "    \n",
    "    # 結果が Optimal でないもの（ここでは移動時間が長すぎて実行不能となるもの）を除去\n",
    "    routes = routes[routes.optimal == OptimizationStatus.OPTIMAL].copy()\n",
    "    return routes\n",
    "\n",
    "routes_df = enumerate_routes()"
   ]
  },
  {
   "cell_type": "code",
   "execution_count": 8,
   "metadata": {},
   "outputs": [
    {
     "data": {
      "text/html": [
       "<div>\n",
       "<style scoped>\n",
       "    .dataframe tbody tr th:only-of-type {\n",
       "        vertical-align: middle;\n",
       "    }\n",
       "\n",
       "    .dataframe tbody tr th {\n",
       "        vertical-align: top;\n",
       "    }\n",
       "\n",
       "    .dataframe thead th {\n",
       "        text-align: right;\n",
       "    }\n",
       "</style>\n",
       "<table border=\"1\" class=\"dataframe\">\n",
       "  <thead>\n",
       "    <tr style=\"text-align: right;\">\n",
       "      <th></th>\n",
       "      <th>z</th>\n",
       "      <th>route</th>\n",
       "      <th>optimal</th>\n",
       "      <th>移動時間</th>\n",
       "      <th>残業時間</th>\n",
       "    </tr>\n",
       "  </thead>\n",
       "  <tbody>\n",
       "    <tr>\n",
       "      <th>1</th>\n",
       "      <td>(1, 0, 0, 0, 0, 0, 0, 0, 0, 1)</td>\n",
       "      <td>{(0, 0): 0.0, (0, 1): 0.0, (0, 2): 0.0, (0, 3)...</td>\n",
       "      <td>OptimizationStatus.OPTIMAL</td>\n",
       "      <td>366.0</td>\n",
       "      <td>0.0</td>\n",
       "    </tr>\n",
       "    <tr>\n",
       "      <th>2</th>\n",
       "      <td>(1, 0, 0, 0, 0, 0, 0, 0, 1, 0)</td>\n",
       "      <td>{(0, 0): 0.0, (0, 1): 0.0, (0, 2): 0.0, (0, 3)...</td>\n",
       "      <td>OptimizationStatus.OPTIMAL</td>\n",
       "      <td>228.0</td>\n",
       "      <td>0.0</td>\n",
       "    </tr>\n",
       "    <tr>\n",
       "      <th>3</th>\n",
       "      <td>(1, 0, 0, 0, 0, 0, 0, 0, 1, 1)</td>\n",
       "      <td>{(0, 0): 0.0, (0, 1): 0.0, (0, 2): 0.0, (0, 3)...</td>\n",
       "      <td>OptimizationStatus.OPTIMAL</td>\n",
       "      <td>585.0</td>\n",
       "      <td>105.0</td>\n",
       "    </tr>\n",
       "    <tr>\n",
       "      <th>4</th>\n",
       "      <td>(1, 0, 0, 0, 0, 0, 0, 1, 0, 0)</td>\n",
       "      <td>{(0, 0): 0.0, (0, 1): 0.0, (0, 2): 0.0, (0, 3)...</td>\n",
       "      <td>OptimizationStatus.OPTIMAL</td>\n",
       "      <td>100.0</td>\n",
       "      <td>0.0</td>\n",
       "    </tr>\n",
       "    <tr>\n",
       "      <th>5</th>\n",
       "      <td>(1, 0, 0, 0, 0, 0, 0, 1, 0, 1)</td>\n",
       "      <td>{(0, 0): 0.0, (0, 1): 0.0, (0, 2): 0.0, (0, 3)...</td>\n",
       "      <td>OptimizationStatus.OPTIMAL</td>\n",
       "      <td>430.0</td>\n",
       "      <td>0.0</td>\n",
       "    </tr>\n",
       "    <tr>\n",
       "      <th>...</th>\n",
       "      <td>...</td>\n",
       "      <td>...</td>\n",
       "      <td>...</td>\n",
       "      <td>...</td>\n",
       "      <td>...</td>\n",
       "    </tr>\n",
       "    <tr>\n",
       "      <th>486</th>\n",
       "      <td>(1, 1, 1, 1, 1, 0, 0, 1, 1, 0)</td>\n",
       "      <td>{(0, 0): 0.0, (0, 1): 0.0, (0, 2): 0.0, (0, 3)...</td>\n",
       "      <td>OptimizationStatus.OPTIMAL</td>\n",
       "      <td>558.0</td>\n",
       "      <td>78.0</td>\n",
       "    </tr>\n",
       "    <tr>\n",
       "      <th>488</th>\n",
       "      <td>(1, 1, 1, 1, 1, 0, 1, 0, 0, 0)</td>\n",
       "      <td>{(0, 0): 0.0, (0, 1): 1.0, (0, 2): 0.0, (0, 3)...</td>\n",
       "      <td>OptimizationStatus.OPTIMAL</td>\n",
       "      <td>614.0</td>\n",
       "      <td>134.0</td>\n",
       "    </tr>\n",
       "    <tr>\n",
       "      <th>490</th>\n",
       "      <td>(1, 1, 1, 1, 1, 0, 1, 0, 1, 0)</td>\n",
       "      <td>{(0, 0): 0.0, (0, 1): 0.0, (0, 2): 0.0, (0, 3)...</td>\n",
       "      <td>OptimizationStatus.OPTIMAL</td>\n",
       "      <td>617.0</td>\n",
       "      <td>137.0</td>\n",
       "    </tr>\n",
       "    <tr>\n",
       "      <th>492</th>\n",
       "      <td>(1, 1, 1, 1, 1, 0, 1, 1, 0, 0)</td>\n",
       "      <td>{(0, 0): 0.0, (0, 1): 0.0, (0, 2): 0.0, (0, 3)...</td>\n",
       "      <td>OptimizationStatus.OPTIMAL</td>\n",
       "      <td>626.0</td>\n",
       "      <td>146.0</td>\n",
       "    </tr>\n",
       "    <tr>\n",
       "      <th>494</th>\n",
       "      <td>(1, 1, 1, 1, 1, 0, 1, 1, 1, 0)</td>\n",
       "      <td>{(0, 0): 0.0, (0, 1): 0.0, (0, 2): 0.0, (0, 3)...</td>\n",
       "      <td>OptimizationStatus.OPTIMAL</td>\n",
       "      <td>629.0</td>\n",
       "      <td>149.0</td>\n",
       "    </tr>\n",
       "  </tbody>\n",
       "</table>\n",
       "<p>285 rows × 5 columns</p>\n",
       "</div>"
      ],
      "text/plain": [
       "                                  z  \\\n",
       "1    (1, 0, 0, 0, 0, 0, 0, 0, 0, 1)   \n",
       "2    (1, 0, 0, 0, 0, 0, 0, 0, 1, 0)   \n",
       "3    (1, 0, 0, 0, 0, 0, 0, 0, 1, 1)   \n",
       "4    (1, 0, 0, 0, 0, 0, 0, 1, 0, 0)   \n",
       "5    (1, 0, 0, 0, 0, 0, 0, 1, 0, 1)   \n",
       "..                              ...   \n",
       "486  (1, 1, 1, 1, 1, 0, 0, 1, 1, 0)   \n",
       "488  (1, 1, 1, 1, 1, 0, 1, 0, 0, 0)   \n",
       "490  (1, 1, 1, 1, 1, 0, 1, 0, 1, 0)   \n",
       "492  (1, 1, 1, 1, 1, 0, 1, 1, 0, 0)   \n",
       "494  (1, 1, 1, 1, 1, 0, 1, 1, 1, 0)   \n",
       "\n",
       "                                                 route  \\\n",
       "1    {(0, 0): 0.0, (0, 1): 0.0, (0, 2): 0.0, (0, 3)...   \n",
       "2    {(0, 0): 0.0, (0, 1): 0.0, (0, 2): 0.0, (0, 3)...   \n",
       "3    {(0, 0): 0.0, (0, 1): 0.0, (0, 2): 0.0, (0, 3)...   \n",
       "4    {(0, 0): 0.0, (0, 1): 0.0, (0, 2): 0.0, (0, 3)...   \n",
       "5    {(0, 0): 0.0, (0, 1): 0.0, (0, 2): 0.0, (0, 3)...   \n",
       "..                                                 ...   \n",
       "486  {(0, 0): 0.0, (0, 1): 0.0, (0, 2): 0.0, (0, 3)...   \n",
       "488  {(0, 0): 0.0, (0, 1): 1.0, (0, 2): 0.0, (0, 3)...   \n",
       "490  {(0, 0): 0.0, (0, 1): 0.0, (0, 2): 0.0, (0, 3)...   \n",
       "492  {(0, 0): 0.0, (0, 1): 0.0, (0, 2): 0.0, (0, 3)...   \n",
       "494  {(0, 0): 0.0, (0, 1): 0.0, (0, 2): 0.0, (0, 3)...   \n",
       "\n",
       "                        optimal   移動時間   残業時間  \n",
       "1    OptimizationStatus.OPTIMAL  366.0    0.0  \n",
       "2    OptimizationStatus.OPTIMAL  228.0    0.0  \n",
       "3    OptimizationStatus.OPTIMAL  585.0  105.0  \n",
       "4    OptimizationStatus.OPTIMAL  100.0    0.0  \n",
       "5    OptimizationStatus.OPTIMAL  430.0    0.0  \n",
       "..                          ...    ...    ...  \n",
       "486  OptimizationStatus.OPTIMAL  558.0   78.0  \n",
       "488  OptimizationStatus.OPTIMAL  614.0  134.0  \n",
       "490  OptimizationStatus.OPTIMAL  617.0  137.0  \n",
       "492  OptimizationStatus.OPTIMAL  626.0  146.0  \n",
       "494  OptimizationStatus.OPTIMAL  629.0  149.0  \n",
       "\n",
       "[285 rows x 5 columns]"
      ]
     },
     "execution_count": 8,
     "metadata": {},
     "output_type": "execute_result"
    }
   ],
   "source": [
    "routes_df"
   ]
  },
  {
   "cell_type": "code",
   "execution_count": 36,
   "metadata": {},
   "outputs": [
    {
     "data": {
      "text/plain": [
       "{(0, 0): 0.0,\n",
       " (0, 1): 0.0,\n",
       " (0, 2): 0.0,\n",
       " (0, 3): 0.0,\n",
       " (0, 4): 0.0,\n",
       " (0, 5): 0.0,\n",
       " (0, 6): 0.0,\n",
       " (0, 7): 0.0,\n",
       " (0, 8): 0.0,\n",
       " (0, 9): 1.0,\n",
       " (1, 0): 0.0,\n",
       " (1, 1): 0.0,\n",
       " (1, 2): 0.0,\n",
       " (1, 3): 0.0,\n",
       " (1, 4): 0.0,\n",
       " (1, 5): 0.0,\n",
       " (1, 6): 0.0,\n",
       " (1, 7): 0.0,\n",
       " (1, 8): 0.0,\n",
       " (1, 9): 0.0,\n",
       " (2, 0): 0.0,\n",
       " (2, 1): 0.0,\n",
       " (2, 2): 0.0,\n",
       " (2, 3): 0.0,\n",
       " (2, 4): 0.0,\n",
       " (2, 5): 0.0,\n",
       " (2, 6): 0.0,\n",
       " (2, 7): 0.0,\n",
       " (2, 8): 0.0,\n",
       " (2, 9): 0.0,\n",
       " (3, 0): 0.0,\n",
       " (3, 1): 0.0,\n",
       " (3, 2): 0.0,\n",
       " (3, 3): 0.0,\n",
       " (3, 4): 0.0,\n",
       " (3, 5): 0.0,\n",
       " (3, 6): 0.0,\n",
       " (3, 7): 0.0,\n",
       " (3, 8): 0.0,\n",
       " (3, 9): 0.0,\n",
       " (4, 0): 0.0,\n",
       " (4, 1): 0.0,\n",
       " (4, 2): 0.0,\n",
       " (4, 3): 0.0,\n",
       " (4, 4): 0.0,\n",
       " (4, 5): 0.0,\n",
       " (4, 6): 0.0,\n",
       " (4, 7): 0.0,\n",
       " (4, 8): 0.0,\n",
       " (4, 9): 0.0,\n",
       " (5, 0): 0.0,\n",
       " (5, 1): 0.0,\n",
       " (5, 2): 0.0,\n",
       " (5, 3): 0.0,\n",
       " (5, 4): 0.0,\n",
       " (5, 5): 0.0,\n",
       " (5, 6): 0.0,\n",
       " (5, 7): 0.0,\n",
       " (5, 8): 0.0,\n",
       " (5, 9): 0.0,\n",
       " (6, 0): 0.0,\n",
       " (6, 1): 0.0,\n",
       " (6, 2): 0.0,\n",
       " (6, 3): 0.0,\n",
       " (6, 4): 0.0,\n",
       " (6, 5): 0.0,\n",
       " (6, 6): 0.0,\n",
       " (6, 7): 0.0,\n",
       " (6, 8): 0.0,\n",
       " (6, 9): 0.0,\n",
       " (7, 0): 0.0,\n",
       " (7, 1): 0.0,\n",
       " (7, 2): 0.0,\n",
       " (7, 3): 0.0,\n",
       " (7, 4): 0.0,\n",
       " (7, 5): 0.0,\n",
       " (7, 6): 0.0,\n",
       " (7, 7): 0.0,\n",
       " (7, 8): 0.0,\n",
       " (7, 9): 0.0,\n",
       " (8, 0): 1.0,\n",
       " (8, 1): 0.0,\n",
       " (8, 2): 0.0,\n",
       " (8, 3): 0.0,\n",
       " (8, 4): 0.0,\n",
       " (8, 5): 0.0,\n",
       " (8, 6): 0.0,\n",
       " (8, 7): 0.0,\n",
       " (8, 8): 0.0,\n",
       " (8, 9): 0.0,\n",
       " (9, 0): 0.0,\n",
       " (9, 1): 0.0,\n",
       " (9, 2): 0.0,\n",
       " (9, 3): 0.0,\n",
       " (9, 4): 0.0,\n",
       " (9, 5): 0.0,\n",
       " (9, 6): 0.0,\n",
       " (9, 7): 0.0,\n",
       " (9, 8): 1.0,\n",
       " (9, 9): 0.0}"
      ]
     },
     "execution_count": 36,
     "metadata": {},
     "output_type": "execute_result"
    }
   ],
   "source": [
    "routes_df.route[3] #0->9->8->0"
   ]
  },
  {
   "cell_type": "code",
   "execution_count": 62,
   "metadata": {},
   "outputs": [
    {
     "data": {
      "text/plain": [
       "{(0, 0): 0.0,\n",
       " (0, 1): 0.0,\n",
       " (0, 2): 0.0,\n",
       " (0, 3): 0.0,\n",
       " (0, 4): 1.0,\n",
       " (0, 5): 0.0,\n",
       " (0, 6): 0.0,\n",
       " (0, 7): 0.0,\n",
       " (0, 8): 0.0,\n",
       " (0, 9): 0.0,\n",
       " (1, 0): 0.0,\n",
       " (1, 1): 0.0,\n",
       " (1, 2): 0.0,\n",
       " (1, 3): 0.0,\n",
       " (1, 4): 0.0,\n",
       " (1, 5): 0.0,\n",
       " (1, 6): 0.0,\n",
       " (1, 7): 0.0,\n",
       " (1, 8): 0.0,\n",
       " (1, 9): 0.0,\n",
       " (2, 0): 0.0,\n",
       " (2, 1): 0.0,\n",
       " (2, 2): 0.0,\n",
       " (2, 3): 0.0,\n",
       " (2, 4): 0.0,\n",
       " (2, 5): 0.0,\n",
       " (2, 6): 0.0,\n",
       " (2, 7): 0.0,\n",
       " (2, 8): 0.0,\n",
       " (2, 9): 0.0,\n",
       " (3, 0): 0.0,\n",
       " (3, 1): 0.0,\n",
       " (3, 2): 0.0,\n",
       " (3, 3): 0.0,\n",
       " (3, 4): 0.0,\n",
       " (3, 5): 0.0,\n",
       " (3, 6): 0.0,\n",
       " (3, 7): 0.0,\n",
       " (3, 8): 0.0,\n",
       " (3, 9): 0.0,\n",
       " (4, 0): 0.0,\n",
       " (4, 1): 0.0,\n",
       " (4, 2): 0.0,\n",
       " (4, 3): 0.0,\n",
       " (4, 4): 0.0,\n",
       " (4, 5): 0.0,\n",
       " (4, 6): 1.0,\n",
       " (4, 7): 0.0,\n",
       " (4, 8): 0.0,\n",
       " (4, 9): 0.0,\n",
       " (5, 0): 0.0,\n",
       " (5, 1): 0.0,\n",
       " (5, 2): 0.0,\n",
       " (5, 3): 0.0,\n",
       " (5, 4): 0.0,\n",
       " (5, 5): 0.0,\n",
       " (5, 6): 0.0,\n",
       " (5, 7): 0.0,\n",
       " (5, 8): 0.0,\n",
       " (5, 9): 0.0,\n",
       " (6, 0): 1.0,\n",
       " (6, 1): 0.0,\n",
       " (6, 2): 0.0,\n",
       " (6, 3): 0.0,\n",
       " (6, 4): 0.0,\n",
       " (6, 5): 0.0,\n",
       " (6, 6): 0.0,\n",
       " (6, 7): 0.0,\n",
       " (6, 8): 0.0,\n",
       " (6, 9): 0.0,\n",
       " (7, 0): 0.0,\n",
       " (7, 1): 0.0,\n",
       " (7, 2): 0.0,\n",
       " (7, 3): 0.0,\n",
       " (7, 4): 0.0,\n",
       " (7, 5): 0.0,\n",
       " (7, 6): 0.0,\n",
       " (7, 7): 0.0,\n",
       " (7, 8): 0.0,\n",
       " (7, 9): 0.0,\n",
       " (8, 0): 0.0,\n",
       " (8, 1): 0.0,\n",
       " (8, 2): 0.0,\n",
       " (8, 3): 0.0,\n",
       " (8, 4): 0.0,\n",
       " (8, 5): 0.0,\n",
       " (8, 6): 0.0,\n",
       " (8, 7): 0.0,\n",
       " (8, 8): 0.0,\n",
       " (8, 9): 0.0,\n",
       " (9, 0): 0.0,\n",
       " (9, 1): 0.0,\n",
       " (9, 2): 0.0,\n",
       " (9, 3): 0.0,\n",
       " (9, 4): 0.0,\n",
       " (9, 5): 0.0,\n",
       " (9, 6): 0.0,\n",
       " (9, 7): 0.0,\n",
       " (9, 8): 0.0,\n",
       " (9, 9): 0.0}"
      ]
     },
     "execution_count": 62,
     "metadata": {},
     "output_type": "execute_result"
    }
   ],
   "source": [
    "routes_df.route[40]"
   ]
  },
  {
   "cell_type": "code",
   "execution_count": 40,
   "metadata": {},
   "outputs": [],
   "source": [
    "def is_OK(requests):\n",
    "    # 指定された荷物の配送が重量制約のもとで可能かを確認する\n",
    "    # 可能である場合は配送を実行できる最短の移動経路のインデックス (routes_df におけるもの) とその所要時間を返す\n",
    "    # 不可能であれば，False を返す\n",
    "    # requests: R に含まれるリストで，配送する荷物の一覧を表す\n",
    "    \n",
    "    weight = sum([w[r] for r in requests])\n",
    "    if weight > W:\n",
    "        return False\n",
    "    \n",
    "    # ルート関係\n",
    "    best_route_idx = None\n",
    "    best_hours = sys.float_info.max #事実上の無限大\n",
    "    for route_idx, row in routes_df.iterrows():\n",
    "        all_requests_on_route = all([row.z[k[r]] == 1 for r in requests]) #k[r]はrの配送指定地点\n",
    "        if all_requests_on_route and row.移動時間 < best_hours:\n",
    "            best_route_idx = route_idx\n",
    "            best_hours = row.移動時間\n",
    "    if best_route_idx is None:\n",
    "        return False\n",
    "    else:\n",
    "        return best_route_idx, best_hours\n",
    "\n",
    "    \n",
    "def _enumerate_feasible_schedules(requests_cands, current_idx_set, idx_to_add, res):\n",
    "    # R に含まれるリスト requests_cands を候補として\n",
    "    # current_idx_set で指定される荷物に加えて配送することができる\n",
    "    # requests_cands[idx_to_add:] の部分集合をすべて列挙する．（再帰的に計算する）\n",
    "    # 配送可能な荷物の集合は， リスト res に追加される\n",
    "    \n",
    "    # idx_set_to_check = current_idx_set + [idx_to_add] で指定される\n",
    "    # 荷物が配送可能かを確認する．\n",
    "    idx_set_to_check = current_idx_set + [idx_to_add]\n",
    "    next_idx = idx_to_add + 1\n",
    "    is_next_idx_valid = next_idx < len(requests_cands)\n",
    "    requests = [requests_cands[i] for i in idx_set_to_check]\n",
    "    is_ok = is_OK(requests)\n",
    "    \n",
    "    if is_ok:\n",
    "        # idx_set_to_check で指定される荷物が配送可能であれば，\n",
    "        # その配送に用いられる移動経路の情報を記録する．\n",
    "        best_route_idx, best_hour = is_ok\n",
    "        res.append(\n",
    "            {\n",
    "                'requests': [requests_cands[i] for i in idx_set_to_check], \n",
    "                'route_idx': best_route_idx, \n",
    "                'hours': best_hour\n",
    "            }\n",
    "        )\n",
    "        if is_next_idx_valid:\n",
    "            # さらに荷物を追加できるかを確認する．\n",
    "            _enumerate_feasible_schedules(requests_cands, idx_set_to_check, next_idx, res)\n",
    "    if is_next_idx_valid:\n",
    "        # idx_to_add をスキップして， next_idx 以降の荷物が追加できるかを確認する．\n",
    "        _enumerate_feasible_schedules(requests_cands, current_idx_set, next_idx, res)\n",
    "\n",
    "        \n",
    "def enumerate_feasible_schedules(d: int):\n",
    "    # _enumerate_feasible_schedules を用いて d 日に考慮すべきスケジュールを列挙する．\n",
    "    \n",
    "    # 配送日指定に合うものだけを探索する\n",
    "    requests_cands = [r for r in R if d_0[r] <= d <= d_1[r]]\n",
    "\n",
    "    # res に d 日の実行可能なスケジュールを格納する\n",
    "    res = [\n",
    "        {'requests': [], 'route_idx': 0, 'hours': 0}\n",
    "    ]\n",
    "    _enumerate_feasible_schedules(requests_cands, [], 0, res)\n",
    "\n",
    "    # res を DataFrame 型にして後処理に必要な値を計算\n",
    "    feasible_schedules_df = pd.DataFrame(res)\n",
    "    feasible_schedules_df['overwork'] = (feasible_schedules_df.hours - H_regular).clip(0) #clip(0)で、負の値を0にした\n",
    "    feasible_schedules_df['requests_set'] = feasible_schedules_df.requests.apply(set)\n",
    "\n",
    "    # feasible_schedules_df のうち，不要なスケジュールを削除する．\n",
    "    # すなわちあるスケジュールが別のスケジュールに対して\n",
    "    #   - 配送する荷物の集合の包含関係での比較\n",
    "    #   - 残業時間の比較\n",
    "    # の2つの比較で同時に負けている場合には，そのスケジュールは利用価値がないため，破棄する．\n",
    "    \n",
    "    # 残すスケジュールの index の候補\n",
    "    idx_cands = set(feasible_schedules_df.index)\n",
    "    # 破棄するスケジュールの index の候補\n",
    "    dominated_idx_set = set()\n",
    "    for dominant_idx in feasible_schedules_df.index:\n",
    "        for checked_idx in feasible_schedules_df.index:\n",
    "            # 配送する荷物の集合の包含関係での比較\n",
    "            requests_strict_dominance = (\n",
    "                feasible_schedules_df.requests_set.loc[checked_idx] < \n",
    "                feasible_schedules_df.requests_set.loc[dominant_idx] \n",
    "            ) \n",
    "            # 残業時間の比較\n",
    "            overwork_weak_dominance = (\n",
    "                feasible_schedules_df.overwork.loc[checked_idx] >=\n",
    "                feasible_schedules_df.overwork.loc[dominant_idx]                 \n",
    "            )\n",
    "            if requests_strict_dominance and overwork_weak_dominance:\n",
    "                dominated_idx_set.add(checked_idx)\n",
    "                \n",
    "    nondominated_idx_set = idx_cands - dominated_idx_set\n",
    "    nondominated_feasible_schedules_df = feasible_schedules_df.loc[nondominated_idx_set, :]\n",
    "    return nondominated_feasible_schedules_df\n",
    "\n",
    "_schedules = Parallel(n_jobs=16)([delayed(enumerate_feasible_schedules)(d) for d in D] )\n",
    "feasible_schedules = dict(zip(D, _schedules))\n"
   ]
  },
  {
   "cell_type": "code",
   "execution_count": 43,
   "metadata": {},
   "outputs": [
    {
     "name": "stdout",
     "output_type": "stream",
     "text": [
      "一日の最大スケジュール候補数: 1895\n",
      "スケジュール候補数の合計: 11473\n"
     ]
    }
   ],
   "source": [
    "print('一日の最大スケジュール候補数:', max([len(df) for df in feasible_schedules.values()]))\n",
    "print('スケジュール候補数の合計:',sum([len(df) for df in feasible_schedules.values()]))"
   ]
  },
  {
   "cell_type": "code",
   "execution_count": 63,
   "metadata": {},
   "outputs": [
    {
     "data": {
      "text/html": [
       "<div>\n",
       "<style scoped>\n",
       "    .dataframe tbody tr th:only-of-type {\n",
       "        vertical-align: middle;\n",
       "    }\n",
       "\n",
       "    .dataframe tbody tr th {\n",
       "        vertical-align: top;\n",
       "    }\n",
       "\n",
       "    .dataframe thead th {\n",
       "        text-align: right;\n",
       "    }\n",
       "</style>\n",
       "<table border=\"1\" class=\"dataframe\">\n",
       "  <thead>\n",
       "    <tr style=\"text-align: right;\">\n",
       "      <th></th>\n",
       "      <th>requests</th>\n",
       "      <th>route_idx</th>\n",
       "      <th>hours</th>\n",
       "      <th>overwork</th>\n",
       "      <th>requests_set</th>\n",
       "    </tr>\n",
       "  </thead>\n",
       "  <tbody>\n",
       "    <tr>\n",
       "      <th>2</th>\n",
       "      <td>[77, 79]</td>\n",
       "      <td>40</td>\n",
       "      <td>312.0</td>\n",
       "      <td>0.0</td>\n",
       "      <td>{77, 79}</td>\n",
       "    </tr>\n",
       "  </tbody>\n",
       "</table>\n",
       "</div>"
      ],
      "text/plain": [
       "   requests  route_idx  hours  overwork requests_set\n",
       "2  [77, 79]         40  312.0       0.0     {77, 79}"
      ]
     },
     "execution_count": 63,
     "metadata": {},
     "output_type": "execute_result"
    }
   ],
   "source": [
    "feasible_schedules[0]\n",
    "#例えばこのケースでは0日目の実現可能配達路はただひとつ：\n",
    "#配達すべき荷物=[77,79]\n",
    "#routeはroute_dfの40番のもの　(0->4->6->0)"
   ]
  },
  {
   "cell_type": "code",
   "execution_count": 64,
   "metadata": {},
   "outputs": [
    {
     "name": "stdout",
     "output_type": "stream",
     "text": [
      "[77, 79]\n",
      "[4, 6]\n",
      "[{'requests': [], 'route_idx': 0, 'hours': 0}]\n"
     ]
    }
   ],
   "source": [
    "# 配送日指定に合うものだけを探索する\n",
    "d=0\n",
    "requests_cands = [r for r in R if d_0[r] <= d <= d_1[r]]\n",
    "\n",
    "# res に d 日の実行可能なスケジュールを格納する\n",
    "res = [\n",
    "    {'requests': [], 'route_idx': 0, 'hours': 0}\n",
    "]\n",
    "\n",
    "print(requests_cands)\n",
    "print([k[i] for i in requests_cands])\n",
    "print(res)"
   ]
  },
  {
   "cell_type": "code",
   "execution_count": 65,
   "metadata": {},
   "outputs": [
    {
     "data": {
      "text/html": [
       "<div>\n",
       "<style scoped>\n",
       "    .dataframe tbody tr th:only-of-type {\n",
       "        vertical-align: middle;\n",
       "    }\n",
       "\n",
       "    .dataframe tbody tr th {\n",
       "        vertical-align: top;\n",
       "    }\n",
       "\n",
       "    .dataframe thead th {\n",
       "        text-align: right;\n",
       "    }\n",
       "</style>\n",
       "<table border=\"1\" class=\"dataframe\">\n",
       "  <thead>\n",
       "    <tr style=\"text-align: right;\">\n",
       "      <th></th>\n",
       "      <th>requests</th>\n",
       "      <th>route_idx</th>\n",
       "      <th>hours</th>\n",
       "      <th>overwork</th>\n",
       "      <th>requests_set</th>\n",
       "    </tr>\n",
       "  </thead>\n",
       "  <tbody>\n",
       "    <tr>\n",
       "      <th>0</th>\n",
       "      <td>[]</td>\n",
       "      <td>0</td>\n",
       "      <td>0.0</td>\n",
       "      <td>0.0</td>\n",
       "      <td>{}</td>\n",
       "    </tr>\n",
       "    <tr>\n",
       "      <th>1</th>\n",
       "      <td>[77]</td>\n",
       "      <td>32</td>\n",
       "      <td>34.0</td>\n",
       "      <td>0.0</td>\n",
       "      <td>{77}</td>\n",
       "    </tr>\n",
       "    <tr>\n",
       "      <th>2</th>\n",
       "      <td>[77, 79]</td>\n",
       "      <td>40</td>\n",
       "      <td>312.0</td>\n",
       "      <td>0.0</td>\n",
       "      <td>{77, 79}</td>\n",
       "    </tr>\n",
       "    <tr>\n",
       "      <th>3</th>\n",
       "      <td>[79]</td>\n",
       "      <td>8</td>\n",
       "      <td>282.0</td>\n",
       "      <td>0.0</td>\n",
       "      <td>{79}</td>\n",
       "    </tr>\n",
       "  </tbody>\n",
       "</table>\n",
       "</div>"
      ],
      "text/plain": [
       "   requests  route_idx  hours  overwork requests_set\n",
       "0        []          0    0.0       0.0           {}\n",
       "1      [77]         32   34.0       0.0         {77}\n",
       "2  [77, 79]         40  312.0       0.0     {77, 79}\n",
       "3      [79]          8  282.0       0.0         {79}"
      ]
     },
     "execution_count": 65,
     "metadata": {},
     "output_type": "execute_result"
    }
   ],
   "source": [
    "_enumerate_feasible_schedules(requests_cands, [], 0, res)\n",
    "\n",
    "# res を DataFrame 型にして後処理に必要な値を計算\n",
    "feasible_schedules_df = pd.DataFrame(res)\n",
    "feasible_schedules_df['overwork'] = (feasible_schedules_df.hours - H_regular).clip(0) #clip(0)で、負の値を0にした\n",
    "feasible_schedules_df['requests_set'] = feasible_schedules_df.requests.apply(set)\n",
    "\n",
    "feasible_schedules_df"
   ]
  },
  {
   "cell_type": "code",
   "execution_count": 70,
   "metadata": {},
   "outputs": [
    {
     "data": {
      "text/plain": [
       "Int64Index([2], dtype='int64')"
      ]
     },
     "execution_count": 70,
     "metadata": {},
     "output_type": "execute_result"
    }
   ],
   "source": [
    "feasible_schedules[0].index"
   ]
  },
  {
   "cell_type": "code",
   "execution_count": 71,
   "metadata": {},
   "outputs": [
    {
     "data": {
      "text/html": [
       "<div>\n",
       "<style scoped>\n",
       "    .dataframe tbody tr th:only-of-type {\n",
       "        vertical-align: middle;\n",
       "    }\n",
       "\n",
       "    .dataframe tbody tr th {\n",
       "        vertical-align: top;\n",
       "    }\n",
       "\n",
       "    .dataframe thead th {\n",
       "        text-align: right;\n",
       "    }\n",
       "</style>\n",
       "<table border=\"1\" class=\"dataframe\">\n",
       "  <thead>\n",
       "    <tr style=\"text-align: right;\">\n",
       "      <th></th>\n",
       "      <th>requests</th>\n",
       "      <th>route_idx</th>\n",
       "      <th>hours</th>\n",
       "      <th>overwork</th>\n",
       "      <th>requests_set</th>\n",
       "    </tr>\n",
       "  </thead>\n",
       "  <tbody>\n",
       "    <tr>\n",
       "      <th>2</th>\n",
       "      <td>[77, 79]</td>\n",
       "      <td>40</td>\n",
       "      <td>312.0</td>\n",
       "      <td>0.0</td>\n",
       "      <td>{77, 79}</td>\n",
       "    </tr>\n",
       "  </tbody>\n",
       "</table>\n",
       "</div>"
      ],
      "text/plain": [
       "   requests  route_idx  hours  overwork requests_set\n",
       "2  [77, 79]         40  312.0       0.0     {77, 79}"
      ]
     },
     "execution_count": 71,
     "metadata": {},
     "output_type": "execute_result"
    }
   ],
   "source": [
    "feasible_schedules[0]"
   ]
  },
  {
   "cell_type": "markdown",
   "metadata": {},
   "source": [
    "### ❹ 問題を解く"
   ]
  },
  {
   "cell_type": "markdown",
   "metadata": {},
   "source": [
    "<!-- ### 決定変数\n",
    "* $z_{dq} \\in \\{0, 1\\} \\ (d\\in[D], q \\in \\{0, 1\\})$\n",
    "  * どのルートを採用するか \n",
    "* $y_{dr} \\in \\{0, 1\\} \\ (d\\in[D], r \\in R)$\n",
    "  * 自社トラックによる配送を表す変数．\n",
    "* $h_d \\in \\mathbb{R}_+ \\space(d \\in [D])$\n",
    "  * 残業時間を表す補助変数\n",
    " -->"
   ]
  },
  {
   "cell_type": "code",
   "execution_count": 66,
   "metadata": {},
   "outputs": [
    {
     "data": {
      "text/plain": [
       "<OptimizationStatus.OPTIMAL: 0>"
      ]
     },
     "execution_count": 66,
     "metadata": {},
     "output_type": "execute_result"
    }
   ],
   "source": [
    "m = Model()\n",
    "\n",
    "# ■ 変数\n",
    "# 日毎にどの配送計画を採用するか\n",
    "z = {}\n",
    "for d in D:\n",
    "    for q in feasible_schedules[d].index:\n",
    "        z[d, q] = m.add_var(f'z_{d}_{q}', var_type=BINARY)\n",
    "\n",
    "# 配送を外注するかどうかの補助変数\n",
    "y = {\n",
    "    r: m.add_var(f'y_{r}', var_type=CONTINUOUS, lb=0, ub=1)\n",
    "    for r in R\n",
    "}   \n",
    "\n",
    "# ■ 制約・目的関数定義の準備\n",
    "# 荷物 r の配送の回数を y, z の言葉で表現しておく\n",
    "deliv_count = {r: LinExpr(0) for r in R}\n",
    "for d in D:\n",
    "    for q in feasible_schedules[d].index:\n",
    "        for r in feasible_schedules[d].loc[q].requests:\n",
    "            deliv_count[r] = deliv_count[r] + z[d, q]\n",
    "\n",
    "# 日付 d の残業時間を y, z の言葉で表現しておく\n",
    "h = {\n",
    "    d: xsum(\n",
    "        z[d, q] * feasible_schedules[d].overwork.loc[q]\n",
    "        for q in feasible_schedules[d].index\n",
    "    )\n",
    "    for d in D\n",
    "}\n",
    "\n",
    "# ■ 制約\n",
    "# 1日1つのスケジュールを選択する\n",
    "for d in D: \n",
    "    m += (\n",
    "        xsum(z[d, q] for q in feasible_schedules[d].index) == 1\n",
    "    )\n",
    "\n",
    "# y が外部委託による配送を表すように\n",
    "for r in R:\n",
    "    m += (\n",
    "        y[r] >= 1 - deliv_count[r]\n",
    "    )\n",
    "    \n",
    "# ■ 目的関数\n",
    "obj_overtime = xsum([c * h[d] for d in D])\n",
    "obj_outsorcing = xsum(\n",
    "    [f[r] * y[r] for r in R]\n",
    ")\n",
    "\n",
    "obj_total = obj_overtime + obj_outsorcing\n",
    "m.objective = minimize(obj_total)    \n",
    "\n",
    "\n",
    "# ■ 求解\n",
    "m.optimize()"
   ]
  },
  {
   "cell_type": "markdown",
   "metadata": {},
   "source": [
    "### ❺ 得られた解の確認"
   ]
  },
  {
   "cell_type": "code",
   "execution_count": 32,
   "metadata": {},
   "outputs": [],
   "source": [
    "# 日毎に可視化\n",
    "def visualize_route(d):\n",
    "    for q in feasible_schedules[d].index:\n",
    "        if z[d, q].x > 0.5:\n",
    "            route_summary = feasible_schedules[d].loc[q]   \n",
    "            route_geography = routes_df.loc[route_summary.route_idx]   \n",
    "            break\n",
    "            \n",
    "    # 背景\n",
    "    a = plt.subplot()\n",
    "    a.scatter(_K[1:,0], _K[1:,1], marker='x')\n",
    "    a.scatter(_K[0,0], _K[0,1], marker='o')\n",
    "    \n",
    "    # 移動経路\n",
    "    motions = [(k_from, k_to) for (k_from, k_to), used in route_geography.route.items() if used > 0]\n",
    "    for k_from, k_to in motions:\n",
    "        p_from = _K[int(k_from)]\n",
    "        p_to =  _K[int(k_to)]\n",
    "        a.arrow(\n",
    "            *p_from, *(p_to-p_from), \n",
    "            head_width=3,\n",
    "            length_includes_head=True,\n",
    "            overhang=0.5,\n",
    "            color='gray',\n",
    "            alpha=0.5\n",
    "        )\n",
    "        \n",
    "        requests_at_k_to = [r for r in route_summary.requests if k[r] == k_to]      \n",
    "        a.text(*p_to, ' '.join([str(r) for r in requests_at_k_to]))\n",
    "        print(requests_at_k_to)\n",
    "    plt.title(f'Schedule for day: {d}')\n",
    "    plt.show()\n"
   ]
  },
  {
   "cell_type": "code",
   "execution_count": 72,
   "metadata": {},
   "outputs": [
    {
     "name": "stdout",
     "output_type": "stream",
     "text": [
      "[77]\n",
      "[79]\n",
      "[]\n"
     ]
    },
    {
     "data": {
      "image/png": "[encoded data removed]",
      "text/plain": [
       "<Figure size 432x288 with 1 Axes>"
      ]
     },
     "metadata": {
      "needs_background": "light"
     },
     "output_type": "display_data"
    },
    {
     "name": "stdout",
     "output_type": "stream",
     "text": [
      "[0, 103]\n",
      "[47]\n",
      "[36]\n",
      "[]\n"
     ]
    },
    {
     "data": {
      "image/png": "[encoded data removed]",
      "text/plain": [
       "<Figure size 432x288 with 1 Axes>"
      ]
     },
     "metadata": {
      "needs_background": "light"
     },
     "output_type": "display_data"
    }
   ],
   "source": [
    "# 0日目のスケジュール\n",
    "visualize_route(0)\n",
    "visualize_route(1)"
   ]
  },
  {
   "cell_type": "code",
   "execution_count": 24,
   "metadata": {},
   "outputs": [
    {
     "data": {
      "text/html": [
       "<div>\n",
       "<style scoped>\n",
       "    .dataframe tbody tr th:only-of-type {\n",
       "        vertical-align: middle;\n",
       "    }\n",
       "\n",
       "    .dataframe tbody tr th {\n",
       "        vertical-align: top;\n",
       "    }\n",
       "\n",
       "    .dataframe thead th {\n",
       "        text-align: right;\n",
       "    }\n",
       "</style>\n",
       "<table border=\"1\" class=\"dataframe\">\n",
       "  <thead>\n",
       "    <tr style=\"text-align: right;\">\n",
       "      <th></th>\n",
       "      <th>outsourced</th>\n",
       "      <th>weight</th>\n",
       "      <th>freight</th>\n",
       "      <th>location</th>\n",
       "      <th>distance_from_o</th>\n",
       "    </tr>\n",
       "  </thead>\n",
       "  <tbody>\n",
       "    <tr>\n",
       "      <th>0</th>\n",
       "      <td>0.0</td>\n",
       "      <td>1442.0</td>\n",
       "      <td>69000.0</td>\n",
       "      <td>7</td>\n",
       "      <td>50.0</td>\n",
       "    </tr>\n",
       "    <tr>\n",
       "      <th>1</th>\n",
       "      <td>0.0</td>\n",
       "      <td>1206.0</td>\n",
       "      <td>59800.0</td>\n",
       "      <td>9</td>\n",
       "      <td>183.0</td>\n",
       "    </tr>\n",
       "    <tr>\n",
       "      <th>2</th>\n",
       "      <td>0.0</td>\n",
       "      <td>1173.0</td>\n",
       "      <td>55200.0</td>\n",
       "      <td>3</td>\n",
       "      <td>28.0</td>\n",
       "    </tr>\n",
       "    <tr>\n",
       "      <th>3</th>\n",
       "      <td>0.0</td>\n",
       "      <td>759.0</td>\n",
       "      <td>36800.0</td>\n",
       "      <td>2</td>\n",
       "      <td>95.0</td>\n",
       "    </tr>\n",
       "    <tr>\n",
       "      <th>4</th>\n",
       "      <td>1.0</td>\n",
       "      <td>1051.0</td>\n",
       "      <td>50600.0</td>\n",
       "      <td>8</td>\n",
       "      <td>114.0</td>\n",
       "    </tr>\n",
       "    <tr>\n",
       "      <th>...</th>\n",
       "      <td>...</td>\n",
       "      <td>...</td>\n",
       "      <td>...</td>\n",
       "      <td>...</td>\n",
       "      <td>...</td>\n",
       "    </tr>\n",
       "    <tr>\n",
       "      <th>115</th>\n",
       "      <td>0.0</td>\n",
       "      <td>1097.0</td>\n",
       "      <td>50600.0</td>\n",
       "      <td>7</td>\n",
       "      <td>50.0</td>\n",
       "    </tr>\n",
       "    <tr>\n",
       "      <th>116</th>\n",
       "      <td>0.0</td>\n",
       "      <td>855.0</td>\n",
       "      <td>41400.0</td>\n",
       "      <td>4</td>\n",
       "      <td>17.0</td>\n",
       "    </tr>\n",
       "    <tr>\n",
       "      <th>117</th>\n",
       "      <td>0.0</td>\n",
       "      <td>560.0</td>\n",
       "      <td>27600.0</td>\n",
       "      <td>6</td>\n",
       "      <td>141.0</td>\n",
       "    </tr>\n",
       "    <tr>\n",
       "      <th>118</th>\n",
       "      <td>0.0</td>\n",
       "      <td>1447.0</td>\n",
       "      <td>69000.0</td>\n",
       "      <td>4</td>\n",
       "      <td>17.0</td>\n",
       "    </tr>\n",
       "    <tr>\n",
       "      <th>119</th>\n",
       "      <td>0.0</td>\n",
       "      <td>801.0</td>\n",
       "      <td>41400.0</td>\n",
       "      <td>5</td>\n",
       "      <td>127.0</td>\n",
       "    </tr>\n",
       "  </tbody>\n",
       "</table>\n",
       "<p>120 rows × 5 columns</p>\n",
       "</div>"
      ],
      "text/plain": [
       "     outsourced  weight  freight  location  distance_from_o\n",
       "0           0.0  1442.0  69000.0         7             50.0\n",
       "1           0.0  1206.0  59800.0         9            183.0\n",
       "2           0.0  1173.0  55200.0         3             28.0\n",
       "3           0.0   759.0  36800.0         2             95.0\n",
       "4           1.0  1051.0  50600.0         8            114.0\n",
       "..          ...     ...      ...       ...              ...\n",
       "115         0.0  1097.0  50600.0         7             50.0\n",
       "116         0.0   855.0  41400.0         4             17.0\n",
       "117         0.0   560.0  27600.0         6            141.0\n",
       "118         0.0  1447.0  69000.0         4             17.0\n",
       "119         0.0   801.0  41400.0         5            127.0\n",
       "\n",
       "[120 rows x 5 columns]"
      ]
     },
     "execution_count": 24,
     "metadata": {},
     "output_type": "execute_result"
    }
   ],
   "source": [
    "requests_summary_df = pd.DataFrame(\n",
    "    [{\n",
    "        'outsourced': y[r].x,\n",
    "        'weight': w[r],\n",
    "        'freight': f[r],\n",
    "        'location': k[r],\n",
    "        'distance_from_o': t[k[r], o]\n",
    "    } for r in R]\n",
    ")\n",
    "requests_summary_df"
   ]
  },
  {
   "cell_type": "code",
   "execution_count": 25,
   "metadata": {},
   "outputs": [
    {
     "data": {
      "text/html": [
       "<div>\n",
       "<style scoped>\n",
       "    .dataframe tbody tr th:only-of-type {\n",
       "        vertical-align: middle;\n",
       "    }\n",
       "\n",
       "    .dataframe tbody tr th {\n",
       "        vertical-align: top;\n",
       "    }\n",
       "\n",
       "    .dataframe thead th {\n",
       "        text-align: right;\n",
       "    }\n",
       "</style>\n",
       "<table border=\"1\" class=\"dataframe\">\n",
       "  <thead>\n",
       "    <tr style=\"text-align: right;\">\n",
       "      <th></th>\n",
       "      <th>weight</th>\n",
       "      <th>freight</th>\n",
       "      <th>distance_from_o</th>\n",
       "    </tr>\n",
       "    <tr>\n",
       "      <th>outsourced</th>\n",
       "      <th></th>\n",
       "      <th></th>\n",
       "      <th></th>\n",
       "    </tr>\n",
       "  </thead>\n",
       "  <tbody>\n",
       "    <tr>\n",
       "      <th>0.0</th>\n",
       "      <td>1004.504348</td>\n",
       "      <td>48560.0</td>\n",
       "      <td>88.756522</td>\n",
       "    </tr>\n",
       "    <tr>\n",
       "      <th>1.0</th>\n",
       "      <td>731.800000</td>\n",
       "      <td>34960.0</td>\n",
       "      <td>130.200000</td>\n",
       "    </tr>\n",
       "  </tbody>\n",
       "</table>\n",
       "</div>"
      ],
      "text/plain": [
       "                 weight  freight  distance_from_o\n",
       "outsourced                                       \n",
       "0.0         1004.504348  48560.0        88.756522\n",
       "1.0          731.800000  34960.0       130.200000"
      ]
     },
     "execution_count": 25,
     "metadata": {},
     "output_type": "execute_result"
    }
   ],
   "source": [
    "requests_summary_df.groupby('outsourced')[['weight', 'freight', 'distance_from_o']].agg('mean')"
   ]
  },
  {
   "cell_type": "code",
   "execution_count": 26,
   "metadata": {},
   "outputs": [
    {
     "data": {
      "image/png": "[encoded data removed]",
      "text/plain": [
       "<Figure size 432x288 with 2 Axes>"
      ]
     },
     "metadata": {
      "needs_background": "light"
     },
     "output_type": "display_data"
    }
   ],
   "source": [
    "requests_summary_df.plot.scatter(x='distance_from_o', y='freight', c='outsourced', cmap='cool')\n",
    "plt.show()"
   ]
  },
  {
   "cell_type": "code",
   "execution_count": null,
   "metadata": {},
   "outputs": [],
   "source": []
  }
 ],
 "metadata": {
  "kernelspec": {
   "display_name": "Python 3 (ipykernel)",
   "language": "python",
   "name": "python3"
  },
  "language_info": {
   "codemirror_mode": {
    "name": "ipython",
    "version": 3
   },
   "file_extension": ".py",
   "mimetype": "text/x-python",
   "name": "python",
   "nbconvert_exporter": "python",
   "pygments_lexer": "ipython3",
   "version": "3.10.0"
  },
  "pycharm": {
   "stem_cell": {
    "cell_type": "raw",
    "metadata": {
     "collapsed": false
    },
    "source": []
   }
  },
  "varInspector": {
   "cols": {
    "lenName": 16,
    "lenType": 16,
    "lenVar": 40
   },
   "kernels_config": {
    "python": {
     "delete_cmd_postfix": "",
     "delete_cmd_prefix": "del ",
     "library": "var_list.py",
     "varRefreshCmd": "print(var_dic_list())"
    },
    "r": {
     "delete_cmd_postfix": ") ",
     "delete_cmd_prefix": "rm(",
     "library": "var_list.r",
     "varRefreshCmd": "cat(var_dic_list()) "
    }
   },
   "types_to_exclude": [
    "module",
    "function",
    "builtin_function_or_method",
    "instance",
    "_Feature"
   ],
   "window_display": false
  }
 },
 "nbformat": 4,
 "nbformat_minor": 4
}
